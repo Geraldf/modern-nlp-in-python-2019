{
 "cells": [
  {
   "cell_type": "markdown",
   "metadata": {},
   "source": [
    "#### Before we get started...\n",
    "__whois?__\n",
    "- Patrick Harrison\n",
    "- Director of AI Engineering @ S&P Global - _**we are hiring**_\n",
    "- University of Virginia\n",
    "- patrick@hrsn.me\n",
    "\n",
    "_Note: I presented an older version of this notebook as a tutorial during the [PyData DC 2016 conference](http://pydata.org/dc2016/schedule/presentation/11/). To view the video of that presentation on YouTube, see [here](https://www.youtube.com/watch?v=6zm9NC9uRkk)._"
   ]
  },
  {
   "cell_type": "markdown",
   "metadata": {},
   "source": [
    "# Modern NLP in Python, 2019\n",
    "### _- Or -_\n",
    "## What you can learn about food by analyzing 4 million Yelp reviews"
   ]
  },
  {
   "cell_type": "markdown",
   "metadata": {},
   "source": [
    "## Our Trail Map\n",
    "This tutorial features an end-to-end data science & natural language processing pipeline, starting with **raw data** and running through **preparing**, **modeling**, **visualizing**, and **analyzing** the data. We'll touch on the following points:\n",
    "1. A tour of the dataset\n",
    "1. Introduction to text processing with spaCy\n",
    "1. Automatic phrase modeling\n",
    "1. Topic modeling with LDA\n",
    "1. Visualizing topic models with pyLDAvis\n",
    "1. Word vector models with word2vec\n",
    "1. Visualizing word2vec with t-SNE\n",
    "1. Text categorization (classification) with spaCy's `textcat` model\n",
    "1. Contextual word vectors with spaCy Pytorch Transformers\n",
    "\n",
    "...and we might even learn a thing or two about Python along the way.\n",
    "\n",
    "Let's get started!"
   ]
  },
  {
   "cell_type": "markdown",
   "metadata": {},
   "source": [
    "## The Yelp Dataset\n",
    "[**The Yelp Dataset**](https://www.yelp.com/dataset_challenge/) is a dataset published by the business review service [Yelp](http://yelp.com) for academic research and educational purposes. I really like the Yelp dataset as a subject for machine learning and natural language processing demos, because it's big (but not so big that you need your own data center to process it), well-connected, and anyone can relate to it &mdash; it's largely about food, after all!\n",
    "\n",
    "**Note:** If you'd like to execute this notebook interactively on your local machine, you'll need to download your own copy of the Yelp dataset. If you're reviewing a static copy of the notebook online, you can skip this step. Here's how to get the dataset:\n",
    "1. Please visit the Yelp dataset webpage [here](https://www.yelp.com/dataset_challenge/)\n",
    "1. Click \"Get the Data\"\n",
    "1. Please review, agree to, and respect Yelp's terms of use!\n",
    "1. The dataset downloads as a `.tar` file; unarchive it\n",
    "1. Place the uncompressed dataset files (`business.json`, etc.) in a directory named `yelp_dataset`\n",
    "1. Place the `yelp_dataset` directory within the `data` directory in the *Modern NLP in Python* project folder\n",
    "\n",
    "That's it! You're ready to go.\n",
    "\n",
    "The current iteration of the Yelp dataset (as of this demo) consists of the following data:\n",
    "- __1.6M__ users\n",
    "- __193K__ businesses\n",
    "- __6.7M__ user reviews\n",
    "\n",
    "When focusing on restaurants alone, there are approximately __59K__ restaurants with approximately __4.2M__ user reviews written about them.\n",
    "\n",
    "The data is provided in a handful of files in _.json_ format. We'll be using the following files for our demo:\n",
    "- __business.json__ &mdash; _the records for individual businesses_\n",
    "- __review.json__ &mdash; _the records for reviews users wrote about businesses_\n",
    "\n",
    "The files are text files (UTF-8) with one _json object_ per line, each one corresponding to an individual data record. Let's take a look at a few examples."
   ]
  },
  {
   "cell_type": "code",
   "execution_count": 1,
   "metadata": {
    "ExecuteTime": {
     "end_time": "2020-02-04T18:49:22.435916Z",
     "start_time": "2020-02-04T18:49:22.420700Z"
    },
    "jupyter": {
     "outputs_hidden": false
    }
   },
   "outputs": [
    {
     "name": "stdout",
     "output_type": "stream",
     "text": [
      "../data/yelp_dataset\n",
      "{\"business_id\":\"1SWheh84yJXfytovILXOAQ\",\"name\":\"Arizona Biltmore Golf Club\",\"address\":\"2818 E Camino Acequia Drive\",\"city\":\"Phoenix\",\"state\":\"AZ\",\"postal_code\":\"85016\",\"latitude\":33.5221425,\"longitude\":-112.0184807,\"stars\":3.0,\"review_count\":5,\"is_open\":0,\"attributes\":{\"GoodForKids\":\"False\"},\"categories\":\"Golf, Active Life\",\"hours\":null}\n",
      "\n"
     ]
    }
   ],
   "source": [
    "import os\n",
    "\n",
    "data_directory = os.path.join('..', 'data', 'yelp_dataset')\n",
    "print (data_directory)\n",
    "\n",
    "businesses_filepath = os.path.join(data_directory, 'business.json')\n",
    "\n",
    "with open(businesses_filepath) as f:\n",
    "    first_business_record = f.readline() \n",
    "\n",
    "print(first_business_record)"
   ]
  },
  {
   "cell_type": "markdown",
   "metadata": {},
   "source": [
    "The business records consist of _key, value_ pairs containing information about the particular business. A few attributes we'll be interested in for this demo include:\n",
    "- __business\\_id__ &mdash; _unique identifier for businesses_\n",
    "- __categories__ &mdash; _a comma-delimited list containing relevant category values of businesses_\n",
    "\n",
    "The _categories_ attribute is of special interest. This demo will focus on restaurants, which are indicated by the presence of the _Restaurants_ tag in the _categories_ list. In addition, the _categories_ list may contain more detailed information about restaurants, such as the type of food they serve."
   ]
  },
  {
   "cell_type": "markdown",
   "metadata": {},
   "source": [
    "The review records are stored in a similar manner &mdash; _key, value_ pairs containing information about the reviews."
   ]
  },
  {
   "cell_type": "code",
   "execution_count": 2,
   "metadata": {
    "ExecuteTime": {
     "end_time": "2020-02-04T18:49:22.449012Z",
     "start_time": "2020-02-04T18:49:22.442081Z"
    },
    "jupyter": {
     "outputs_hidden": false
    }
   },
   "outputs": [
    {
     "name": "stdout",
     "output_type": "stream",
     "text": [
      "{\"review_id\":\"Q1sbwvVQXV2734tPgoKj4Q\",\"user_id\":\"hG7b0MtEbXx5QzbzE6C_VA\",\"business_id\":\"ujmEBvifdJM6h6RLv4wQIg\",\"stars\":1.0,\"useful\":6,\"funny\":1,\"cool\":0,\"text\":\"Total bill for this horrible service? Over $8Gs. These crooks actually had the nerve to charge us $69 for 3 pills. I checked online the pills can be had for 19 cents EACH! Avoid Hospital ERs at all costs.\",\"date\":\"2013-05-07 04:34:36\"}\n",
      "\n"
     ]
    }
   ],
   "source": [
    "review_json_filepath = os.path.join(data_directory, 'review.json')\n",
    "\n",
    "with open(review_json_filepath) as f:\n",
    "    first_review_record = f.readline()\n",
    "    \n",
    "print(first_review_record)"
   ]
  },
  {
   "cell_type": "markdown",
   "metadata": {},
   "source": [
    "A few attributes of note on the review records:\n",
    "- __business\\_id__ &mdash; _indicates which business the review is about_\n",
    "- __text__ &mdash; _the natural language text the user wrote_\n",
    "\n",
    "The _text_ attribute will be our focus today!"
   ]
  },
  {
   "cell_type": "markdown",
   "metadata": {},
   "source": [
    "_json_ is a handy file format for data interchange, but it's typically not the most usable for any sort of modeling work. Let's do a bit more data preparation to get our data in a more usable format. Our next code block will do the following:\n",
    "1. Read in each business record and convert it to a Python `dict`\n",
    "2. Filter out business records that aren't about restaurants (i.e., not in the \"Restaurant\" category)\n",
    "3. Create a `frozenset` of the business IDs for restaurants, which we'll use in the next step"
   ]
  },
  {
   "cell_type": "code",
   "execution_count": 3,
   "metadata": {
    "ExecuteTime": {
     "end_time": "2020-02-04T18:49:26.423227Z",
     "start_time": "2020-02-04T18:49:22.452858Z"
    },
    "jupyter": {
     "outputs_hidden": false
    }
   },
   "outputs": [
    {
     "name": "stdout",
     "output_type": "stream",
     "text": [
      "59,371 restaurants in the dataset.\n"
     ]
    }
   ],
   "source": [
    "import json\n",
    "\n",
    "restaurant_ids = set()\n",
    "\n",
    "# open the businesses file\n",
    "with open(businesses_filepath) as f:\n",
    "    \n",
    "    # iterate through each line (json record) in the file\n",
    "    for business_json in f:\n",
    "        \n",
    "        # convert the json record to a Python dict\n",
    "        business = json.loads(business_json)\n",
    "        \n",
    "        # if this business does not have a 'categories' attribute,\n",
    "        # or if that attribute is None, skip to the next one\n",
    "        if not business.get('categories'):\n",
    "            continue\n",
    "        \n",
    "        # if this business is not a restaurant, skip to the next one\n",
    "        if 'Restaurants' not in business['categories']:\n",
    "            continue\n",
    "            \n",
    "        # add the restaurant business id to our restaurant_ids set\n",
    "        restaurant_ids.add(business['business_id'])\n",
    "\n",
    "# turn restaurant_ids into a frozenset, as we don't need to change it anymore\n",
    "restaurant_ids = frozenset(restaurant_ids)\n",
    "\n",
    "# print the number of unique restaurant ids in the dataset\n",
    "print(f'{len(restaurant_ids):,} restaurants in the dataset.')"
   ]
  },
  {
   "cell_type": "markdown",
   "metadata": {},
   "source": [
    "Next, we will create a new file that contains only the text from reviews about restaurants, with one review per line in the file."
   ]
  },
  {
   "cell_type": "code",
   "execution_count": 4,
   "metadata": {
    "ExecuteTime": {
     "end_time": "2020-02-04T18:49:26.440973Z",
     "start_time": "2020-02-04T18:49:26.431974Z"
    }
   },
   "outputs": [
    {
     "name": "stdout",
     "output_type": "stream",
     "text": [
      "../scratch/review_text_all.txt\n"
     ]
    }
   ],
   "source": [
    "scratch_directory = os.path.join('..', 'scratch')\n",
    "\n",
    "# create a scratch directory if one doesn't already exist\n",
    "try:\n",
    "    os.mkdir(scratch_directory)\n",
    "except FileExistsError:\n",
    "    pass\n",
    "\n",
    "review_txt_filepath = os.path.join(scratch_directory, 'review_text_all.txt')\n",
    "print(review_txt_filepath)"
   ]
  },
  {
   "cell_type": "code",
   "execution_count": 5,
   "metadata": {
    "ExecuteTime": {
     "end_time": "2020-02-04T18:51:02.421909Z",
     "start_time": "2020-02-04T18:49:26.446809Z"
    },
    "jupyter": {
     "outputs_hidden": false
    }
   },
   "outputs": [
    {
     "name": "stdout",
     "output_type": "stream",
     "text": [
      "Text from 4,201,684 restaurant reviews written to the new txt file.\n"
     ]
    }
   ],
   "source": [
    "# this is a bit time consuming - set execute = True\n",
    "# if you want to execute data prep yourself.\n",
    "\n",
    "execute = True\n",
    "\n",
    "if execute:\n",
    "    \n",
    "    review_count = 0\n",
    "\n",
    "    # create & open a new file in write mode\n",
    "    with open(review_txt_filepath, 'w') as review_txt_file:\n",
    "\n",
    "        # open the existing review json file\n",
    "        with open(review_json_filepath) as review_json_file:\n",
    "\n",
    "            # loop through all reviews in the existing file and convert to dict\n",
    "            for review_json in review_json_file:\n",
    "                review = json.loads(review_json)\n",
    "\n",
    "                # if this review is not about a restaurant, skip to the next one\n",
    "                if review['business_id'] not in restaurant_ids:\n",
    "                    continue\n",
    "\n",
    "                # write the restaurant review as a line in the new file\n",
    "                # escape newline characters in the original review text\n",
    "                review_txt_file.write(review['text'].replace('\\n', '\\\\n') + '\\n')\n",
    "                review_count += 1\n",
    "\n",
    "    print(f'Text from {review_count:,} restaurant reviews written to the new txt file.')\n",
    "    \n",
    "else:\n",
    "    \n",
    "    # count the reviews in the existing file\n",
    "    with open(review_txt_filepath) as review_txt_file:\n",
    "        for review_count, line in enumerate(review_txt_file):\n",
    "            pass\n",
    "        \n",
    "    print(f'Text from {review_count + 1:,} restaurant reviews in the txt file.')"
   ]
  },
  {
   "cell_type": "markdown",
   "metadata": {},
   "source": [
    "## spaCy &mdash; Industrial-Strength NLP in Python"
   ]
  },
  {
   "cell_type": "markdown",
   "metadata": {},
   "source": [
    "![spaCy](https://s3.amazonaws.com/skipgram-images/spaCy.png)"
   ]
  },
  {
   "cell_type": "markdown",
   "metadata": {},
   "source": [
    "[**spaCy**](https://spacy.io) is an industrial-strength natural language processing (_NLP_) library for Python. spaCy's goal is to take recent advancements in natural language processing out of research papers and put them in the hands of users to build production software.\n",
    "\n",
    "spaCy handles many tasks commonly associated with building an end-to-end natural language processing pipeline:\n",
    "- Tokenization\n",
    "- Text normalization, such as lowercasing, lemmatization, and token shape analysis\n",
    "- Part-of-speech tagging\n",
    "- Syntactic dependency parsing\n",
    "- Sentence boundary detection\n",
    "- Named entity recognition and annotation\n",
    "\n",
    "In the \"batteries included\" Python tradition, spaCy contains built-in data and models which you can use out-of-the-box for processing general-purpose English language text:\n",
    "- Large English vocabulary, including stopword lists\n",
    "- Token \"probabilities\"\n",
    "- Word vectors\n",
    "\n",
    "spaCy is written in optimized Cython, which means it's _fast_. According to a few independent sources, it's the fastest syntactic parser available in any language. Key pieces of the spaCy parsing pipeline are written in pure C, enabling efficient multithreading (i.e., spaCy can release the _GIL_)."
   ]
  },
  {
   "cell_type": "code",
   "execution_count": 6,
   "metadata": {
    "ExecuteTime": {
     "end_time": "2020-02-04T18:51:28.780181Z",
     "start_time": "2020-02-04T18:51:02.427328Z"
    },
    "jupyter": {
     "outputs_hidden": false
    }
   },
   "outputs": [],
   "source": [
    "import spacy\n",
    "from spacy import displacy\n",
    "import pandas as pd\n",
    "import itertools as it\n",
    "\n",
    "nlp = spacy.load('en_core_web_md')"
   ]
  },
  {
   "cell_type": "markdown",
   "metadata": {},
   "source": [
    "Let's grab a sample review to play with."
   ]
  },
  {
   "cell_type": "code",
   "execution_count": 7,
   "metadata": {
    "ExecuteTime": {
     "end_time": "2020-02-04T18:51:30.200300Z",
     "start_time": "2020-02-04T18:51:28.783798Z"
    },
    "jupyter": {
     "outputs_hidden": false
    }
   },
   "outputs": [
    {
     "name": "stdout",
     "output_type": "stream",
     "text": [
      "Kinjo is a breath of fresh sushi, the first lungful in a long time, one I would frequent if my home wasn't 900 km away.  A lunch at Kinjo is like eating solid joy, perfectly transmitted from its owner to each table...and to think this is a chain, albeit a small one.  Only three Kinjos exist, scattered like buckshot across the city of Calgary, validating the appeal of the décor, the quality of its sushi, and the passion of its owner. \n",
      " \n",
      "I know I'm long past my obligation for an opening joke, something involving the inner workings of my gastro-intestinal system or perhaps a remark a passing reader may mistaken as faintly racist.  Truth is, right beside my computer, I have a Thunderdome-like Aunty's wheel I spin to determine the bizarre pop-culture references I'll have to drop during the course of a review.  My initial attempt landed on Silence of the Lambs, which I've touched on three times already.  A second fell on Pink Floyd's laser concert which...okay, I've honestly no idea why that's there.  So perhaps I'll just do this one review serious, respectful, honoring the zeal of Kinjo's owner, a man with enough faith in this restaurant that he named it after himself.\n",
      " \n",
      "That's right, Peter Kinjo, and that's a name that should be familiar. \n",
      " \n",
      "You're right, it's not, but that's why I'm here.   To know the restaurant and to properly understand the enthusiasm of the owner I personally encountered that day, I feel compelled to take a moment to educate those reading this.  Peter was one of the founders of the massive Edo Japan chain of fast-food sushi eateries literally infecting every single mall and airport from Vancouver to Saskatoon.  Although now amounting to over a hundred locations, Peter no longer earns anything from them.  He sold his shares, made a few unwise economic decisions after, and came to Calgary to try something new, to move away from the fast-food sushi and take a crack at an actual restaurant.  He went about this by replicating a restaurant model seldom seen in Canada, something known as Kaiten-zushi.  This is where the sushi is presented on a conveyer belt which orbits the bar where patrons sit, some on stools, some around connected tables.  I encountered this in China and lamented its absence in my travels about Canada. \n",
      " \n",
      "Well, bemoan no more because Kinjo has gone one better.  To hell with cheap conveyer belts like we're at the end run of a tired Lucile Ball comedy sketch, bring on the boats!  What better way to deliver food than on a boat.  Some restaurants have platters shaped as boats; I'm not talking about that.  These are actual seaworthy boats on a channel of water, chained together and carried along by current induced from vents below the surface.  Sushi delivered via flotation device, seriously the only way this could be cooler is if the whole was put against a backdrop of Laser Floyd (heh). \n",
      "Unlike the fluorescent Teletubbie explosion I ate inside of in Guangzhou, Kinjo is slightly more restrained, reserving its energy for its animated owner as he organizes a birthday chorus for a table when he hands out complimentary Pocky to random kids at tables.  This guy is pure class, navigating around the customers and employees ensuring everyone is seen to.  I know restaurant owners responsible for twenty seats that don't do this, and Kinjo has over sixty...and three locations.  No wonder this guy made a million in his first year.  No wonder he turns tables eight times over on a busy weekday.  Of course, this would all be irrelevant if the sushi was substandard.  Thankfully, it didn't disappoint.  One especially brilliant special order, known as the kissing dragons, involved two complete rolls, a rainbow and an eel, made to resemble Asian snake-like dragons, even going so far to include head-pieces with roe-eyes and vegetable whiskers. \n",
      " \n",
      "Now that being said, I guess I should find fault.  Despite attempts to make it operate more like a restaurant, it's by no means a high-class sushi-ya.  Like a Trek holodeck, behind the lights and colors, the motions of a fast-food joint can still be found...but it's a very well made illusion, one I was more than willing to look past.  And the formula as it stands obviously works like gangbusters.  Kinjo's namesake restaurant reflects his devotion.  He obviously eats and sleeps his business.  He's doing what he loves and I hope that until he decides to retire, he and his restaurants continue to find success.\n",
      " \n",
      "Food:  4/5\n",
      "Service:  3.5/5\n",
      "Presentation:  4/5\n",
      "Value:  5/5\n",
      "Recommendation:  4/5\n",
      "\n"
     ]
    }
   ],
   "source": [
    "review_num = 754600\n",
    "\n",
    "with open(review_txt_filepath) as f:\n",
    "    sample_review = list(it.islice(f, review_num, review_num+1))[0]\n",
    "    sample_review = sample_review.replace('\\\\n', '\\n')\n",
    "        \n",
    "print(sample_review)"
   ]
  },
  {
   "cell_type": "markdown",
   "metadata": {},
   "source": [
    "Hand the review text to spaCy, and be prepared to wait..."
   ]
  },
  {
   "cell_type": "code",
   "execution_count": 8,
   "metadata": {
    "ExecuteTime": {
     "end_time": "2020-02-04T18:51:30.444384Z",
     "start_time": "2020-02-04T18:51:30.205505Z"
    },
    "jupyter": {
     "outputs_hidden": false
    }
   },
   "outputs": [
    {
     "name": "stdout",
     "output_type": "stream",
     "text": [
      "CPU times: user 142 ms, sys: 21.1 ms, total: 163 ms\n",
      "Wall time: 234 ms\n"
     ]
    }
   ],
   "source": [
    "%%time\n",
    "parsed_review = nlp(sample_review)"
   ]
  },
  {
   "cell_type": "markdown",
   "metadata": {},
   "source": [
    "...a fraction of a second or so. Let's take a look at what we got during that time..."
   ]
  },
  {
   "cell_type": "code",
   "execution_count": 9,
   "metadata": {
    "ExecuteTime": {
     "end_time": "2020-02-04T18:51:30.473790Z",
     "start_time": "2020-02-04T18:51:30.451688Z"
    },
    "jupyter": {
     "outputs_hidden": false
    }
   },
   "outputs": [
    {
     "name": "stdout",
     "output_type": "stream",
     "text": [
      "Kinjo is a breath of fresh sushi, the first lungful in a long time, one I would frequent if my home wasn't 900 km away.  A lunch at Kinjo is like eating solid joy, perfectly transmitted from its owner to each table...and to think this is a chain, albeit a small one.  Only three Kinjos exist, scattered like buckshot across the city of Calgary, validating the appeal of the décor, the quality of its sushi, and the passion of its owner. \n",
      " \n",
      "I know I'm long past my obligation for an opening joke, something involving the inner workings of my gastro-intestinal system or perhaps a remark a passing reader may mistaken as faintly racist.  Truth is, right beside my computer, I have a Thunderdome-like Aunty's wheel I spin to determine the bizarre pop-culture references I'll have to drop during the course of a review.  My initial attempt landed on Silence of the Lambs, which I've touched on three times already.  A second fell on Pink Floyd's laser concert which...okay, I've honestly no idea why that's there.  So perhaps I'll just do this one review serious, respectful, honoring the zeal of Kinjo's owner, a man with enough faith in this restaurant that he named it after himself.\n",
      " \n",
      "That's right, Peter Kinjo, and that's a name that should be familiar. \n",
      " \n",
      "You're right, it's not, but that's why I'm here.   To know the restaurant and to properly understand the enthusiasm of the owner I personally encountered that day, I feel compelled to take a moment to educate those reading this.  Peter was one of the founders of the massive Edo Japan chain of fast-food sushi eateries literally infecting every single mall and airport from Vancouver to Saskatoon.  Although now amounting to over a hundred locations, Peter no longer earns anything from them.  He sold his shares, made a few unwise economic decisions after, and came to Calgary to try something new, to move away from the fast-food sushi and take a crack at an actual restaurant.  He went about this by replicating a restaurant model seldom seen in Canada, something known as Kaiten-zushi.  This is where the sushi is presented on a conveyer belt which orbits the bar where patrons sit, some on stools, some around connected tables.  I encountered this in China and lamented its absence in my travels about Canada. \n",
      " \n",
      "Well, bemoan no more because Kinjo has gone one better.  To hell with cheap conveyer belts like we're at the end run of a tired Lucile Ball comedy sketch, bring on the boats!  What better way to deliver food than on a boat.  Some restaurants have platters shaped as boats; I'm not talking about that.  These are actual seaworthy boats on a channel of water, chained together and carried along by current induced from vents below the surface.  Sushi delivered via flotation device, seriously the only way this could be cooler is if the whole was put against a backdrop of Laser Floyd (heh). \n",
      "Unlike the fluorescent Teletubbie explosion I ate inside of in Guangzhou, Kinjo is slightly more restrained, reserving its energy for its animated owner as he organizes a birthday chorus for a table when he hands out complimentary Pocky to random kids at tables.  This guy is pure class, navigating around the customers and employees ensuring everyone is seen to.  I know restaurant owners responsible for twenty seats that don't do this, and Kinjo has over sixty...and three locations.  No wonder this guy made a million in his first year.  No wonder he turns tables eight times over on a busy weekday.  Of course, this would all be irrelevant if the sushi was substandard.  Thankfully, it didn't disappoint.  One especially brilliant special order, known as the kissing dragons, involved two complete rolls, a rainbow and an eel, made to resemble Asian snake-like dragons, even going so far to include head-pieces with roe-eyes and vegetable whiskers. \n",
      " \n",
      "Now that being said, I guess I should find fault.  Despite attempts to make it operate more like a restaurant, it's by no means a high-class sushi-ya.  Like a Trek holodeck, behind the lights and colors, the motions of a fast-food joint can still be found...but it's a very well made illusion, one I was more than willing to look past.  And the formula as it stands obviously works like gangbusters.  Kinjo's namesake restaurant reflects his devotion.  He obviously eats and sleeps his business.  He's doing what he loves and I hope that until he decides to retire, he and his restaurants continue to find success.\n",
      " \n",
      "Food:  4/5\n",
      "Service:  3.5/5\n",
      "Presentation:  4/5\n",
      "Value:  5/5\n",
      "Recommendation:  4/5\n",
      "\n"
     ]
    }
   ],
   "source": [
    "print(parsed_review)"
   ]
  },
  {
   "cell_type": "markdown",
   "metadata": {},
   "source": [
    "Looks the same! What happened under the hood?\n",
    "\n",
    "What about sentence detection and segmentation?"
   ]
  },
  {
   "cell_type": "code",
   "execution_count": 10,
   "metadata": {
    "ExecuteTime": {
     "end_time": "2020-02-04T18:51:30.507801Z",
     "start_time": "2020-02-04T18:51:30.477167Z"
    },
    "jupyter": {
     "outputs_hidden": false
    }
   },
   "outputs": [
    {
     "name": "stdout",
     "output_type": "stream",
     "text": [
      "Sentence 1:\n",
      "Kinjo is a breath of fresh sushi, the first lungful in a long time, one I would frequent if my home wasn't 900 km away.  \n",
      "\n",
      "Sentence 2:\n",
      "A lunch at Kinjo is like eating solid joy, perfectly transmitted from its owner to each table...and to think this is a chain, albeit a small one.  \n",
      "\n",
      "Sentence 3:\n",
      "Only three Kinjos exist, scattered like buckshot across the city of Calgary, validating the appeal of the décor, the quality of its sushi, and the passion of its owner. \n",
      " \n",
      "\n",
      "\n",
      "Sentence 4:\n",
      "I know I'm long past my obligation for an opening joke, something involving the inner workings of my gastro-intestinal system or perhaps a remark a passing reader may mistaken as faintly racist.  \n",
      "\n",
      "Sentence 5:\n",
      "Truth is, right beside my computer, I have a Thunderdome-like Aunty's wheel I spin to determine the bizarre pop-culture references I'll have to drop during the course of a review.  \n",
      "\n",
      "Sentence 6:\n",
      "My initial attempt landed on Silence of the Lambs, which I've touched on three times already.  \n",
      "\n",
      "Sentence 7:\n",
      "A second fell on Pink Floyd's laser concert which...okay, I've honestly no idea why that's there.  \n",
      "\n",
      "Sentence 8:\n",
      "So perhaps I'll just do this one review serious, respectful, honoring the zeal of Kinjo's owner, a man with enough faith in this restaurant that he named it after himself.\n",
      " \n",
      "\n",
      "\n",
      "Sentence 9:\n",
      "That's right, Peter Kinjo, and that's a name that should be familiar. \n",
      " \n",
      "\n",
      "\n",
      "Sentence 10:\n",
      "You're right, it's not, but that's why I'm here.   \n",
      "\n",
      "Sentence 11:\n",
      "To know the restaurant and to properly understand the enthusiasm of the owner I personally encountered that day, I feel compelled to take a moment to educate those reading this.  \n",
      "\n",
      "Sentence 12:\n",
      "Peter was one of the founders of the massive Edo Japan chain of fast-food sushi eateries literally infecting every single mall and airport from Vancouver to Saskatoon.  \n",
      "\n",
      "Sentence 13:\n",
      "Although now amounting to over a hundred locations, Peter no longer earns anything from them.  \n",
      "\n",
      "Sentence 14:\n",
      "He sold his shares, made a few unwise economic decisions after, and came to Calgary to try something new, to move away from the fast-food sushi and take a crack at an actual restaurant.  \n",
      "\n",
      "Sentence 15:\n",
      "He went about this by replicating a restaurant model seldom seen in Canada, something known as Kaiten-zushi.  \n",
      "\n",
      "Sentence 16:\n",
      "This is where the sushi is presented on a conveyer belt which orbits the bar where patrons sit, some on stools, some around connected tables.  \n",
      "\n",
      "Sentence 17:\n",
      "I encountered this in China and lamented its absence in my travels about Canada. \n",
      " \n",
      "\n",
      "\n",
      "Sentence 18:\n",
      "Well, bemoan no more because Kinjo has gone one better.  \n",
      "\n",
      "Sentence 19:\n",
      "To hell with cheap conveyer belts\n",
      "\n",
      "Sentence 20:\n",
      "like we're at the end run of a tired Lucile Ball comedy sketch, bring on the boats!  \n",
      "\n",
      "Sentence 21:\n",
      "What better way to deliver food than on a boat.  \n",
      "\n",
      "Sentence 22:\n",
      "Some restaurants have platters shaped as boats; I'm not talking about that.  \n",
      "\n",
      "Sentence 23:\n",
      "These are actual seaworthy boats on a channel of water, chained together and carried along by current induced from vents below the surface.  \n",
      "\n",
      "Sentence 24:\n",
      "Sushi delivered via flotation device, seriously the only way this could be cooler is if the whole was put against a backdrop of Laser Floyd (heh). \n",
      "\n",
      "\n",
      "Sentence 25:\n",
      "Unlike the fluorescent Teletubbie explosion I ate inside of in Guangzhou, Kinjo is slightly more restrained, reserving its energy for its animated owner as he organizes a birthday chorus for a table when he hands out complimentary Pocky to random kids at tables.  \n",
      "\n",
      "Sentence 26:\n",
      "This guy is pure class, navigating around the customers and employees ensuring everyone is seen to.  \n",
      "\n",
      "Sentence 27:\n",
      "I know restaurant owners responsible for twenty seats that don't do this, and Kinjo has over sixty...and three locations.  \n",
      "\n",
      "Sentence 28:\n",
      "No wonder this guy made a million in his first year.  \n",
      "\n",
      "Sentence 29:\n",
      "No wonder he turns tables eight times over on a busy weekday.  \n",
      "\n",
      "Sentence 30:\n",
      "Of course, this would all be irrelevant if the sushi was substandard.  \n",
      "\n",
      "Sentence 31:\n",
      "Thankfully, it didn't disappoint.  \n",
      "\n",
      "Sentence 32:\n",
      "One especially brilliant special order, known as the kissing dragons, involved two complete rolls, a rainbow and an eel, made to resemble Asian snake-like dragons, even going so far to include head-pieces with roe-eyes and vegetable whiskers. \n",
      " \n",
      "\n",
      "\n",
      "Sentence 33:\n",
      "Now that being said, I guess I should find fault.  \n",
      "\n",
      "Sentence 34:\n",
      "Despite attempts to make it operate more like a restaurant, it's by no means\n",
      "\n",
      "Sentence 35:\n",
      "a high-class sushi-ya.  \n",
      "\n",
      "Sentence 36:\n",
      "Like a Trek holodeck, behind the lights and colors, the motions of a fast-food joint can still be found...but it's a very well made illusion, one I was more than willing to look past.  \n",
      "\n",
      "Sentence 37:\n",
      "And the formula as it stands obviously works like gangbusters.  \n",
      "\n",
      "Sentence 38:\n",
      "Kinjo's namesake restaurant reflects his devotion.  \n",
      "\n",
      "Sentence 39:\n",
      "He obviously eats and sleeps his business.  \n",
      "\n",
      "Sentence 40:\n",
      "He's doing what he loves\n",
      "\n",
      "Sentence 41:\n",
      "and I hope that until he decides to retire, he and his restaurants continue to find success.\n",
      " \n",
      "\n",
      "\n",
      "Sentence 42:\n",
      "Food:  \n",
      "\n",
      "Sentence 43:\n",
      "4/5\n",
      "Service:  3.5/5\n",
      "Presentation:  4/5\n",
      "Value:  5/5\n",
      "\n",
      "\n",
      "Sentence 44:\n",
      "Recommendation:  4/5\n",
      "\n",
      "\n"
     ]
    }
   ],
   "source": [
    "for num, sentence in enumerate(parsed_review.sents):\n",
    "    print(f'Sentence {num + 1}:')\n",
    "    print(sentence)\n",
    "    print('')"
   ]
  },
  {
   "cell_type": "markdown",
   "metadata": {},
   "source": [
    "What about text normalization, like lemmatization and token shape analysis?"
   ]
  },
  {
   "cell_type": "code",
   "execution_count": 11,
   "metadata": {
    "ExecuteTime": {
     "end_time": "2020-02-04T18:51:30.620131Z",
     "start_time": "2020-02-04T18:51:30.512844Z"
    },
    "jupyter": {
     "outputs_hidden": false
    }
   },
   "outputs": [
    {
     "data": {
      "text/html": [
       "<div>\n",
       "<style scoped>\n",
       "    .dataframe tbody tr th:only-of-type {\n",
       "        vertical-align: middle;\n",
       "    }\n",
       "\n",
       "    .dataframe tbody tr th {\n",
       "        vertical-align: top;\n",
       "    }\n",
       "\n",
       "    .dataframe thead th {\n",
       "        text-align: right;\n",
       "    }\n",
       "</style>\n",
       "<table border=\"1\" class=\"dataframe\">\n",
       "  <thead>\n",
       "    <tr style=\"text-align: right;\">\n",
       "      <th></th>\n",
       "      <th>token_text</th>\n",
       "      <th>token_lemma</th>\n",
       "      <th>token_shape</th>\n",
       "    </tr>\n",
       "  </thead>\n",
       "  <tbody>\n",
       "    <tr>\n",
       "      <th>0</th>\n",
       "      <td>Kinjo</td>\n",
       "      <td>Kinjo</td>\n",
       "      <td>Xxxxx</td>\n",
       "    </tr>\n",
       "    <tr>\n",
       "      <th>1</th>\n",
       "      <td>is</td>\n",
       "      <td>be</td>\n",
       "      <td>xx</td>\n",
       "    </tr>\n",
       "    <tr>\n",
       "      <th>2</th>\n",
       "      <td>a</td>\n",
       "      <td>a</td>\n",
       "      <td>x</td>\n",
       "    </tr>\n",
       "    <tr>\n",
       "      <th>3</th>\n",
       "      <td>breath</td>\n",
       "      <td>breath</td>\n",
       "      <td>xxxx</td>\n",
       "    </tr>\n",
       "    <tr>\n",
       "      <th>4</th>\n",
       "      <td>of</td>\n",
       "      <td>of</td>\n",
       "      <td>xx</td>\n",
       "    </tr>\n",
       "    <tr>\n",
       "      <th>5</th>\n",
       "      <td>fresh</td>\n",
       "      <td>fresh</td>\n",
       "      <td>xxxx</td>\n",
       "    </tr>\n",
       "    <tr>\n",
       "      <th>6</th>\n",
       "      <td>sushi</td>\n",
       "      <td>sushi</td>\n",
       "      <td>xxxx</td>\n",
       "    </tr>\n",
       "    <tr>\n",
       "      <th>7</th>\n",
       "      <td>,</td>\n",
       "      <td>,</td>\n",
       "      <td>,</td>\n",
       "    </tr>\n",
       "    <tr>\n",
       "      <th>8</th>\n",
       "      <td>the</td>\n",
       "      <td>the</td>\n",
       "      <td>xxx</td>\n",
       "    </tr>\n",
       "    <tr>\n",
       "      <th>9</th>\n",
       "      <td>first</td>\n",
       "      <td>first</td>\n",
       "      <td>xxxx</td>\n",
       "    </tr>\n",
       "    <tr>\n",
       "      <th>10</th>\n",
       "      <td>lungful</td>\n",
       "      <td>lungful</td>\n",
       "      <td>xxxx</td>\n",
       "    </tr>\n",
       "    <tr>\n",
       "      <th>11</th>\n",
       "      <td>in</td>\n",
       "      <td>in</td>\n",
       "      <td>xx</td>\n",
       "    </tr>\n",
       "    <tr>\n",
       "      <th>12</th>\n",
       "      <td>a</td>\n",
       "      <td>a</td>\n",
       "      <td>x</td>\n",
       "    </tr>\n",
       "    <tr>\n",
       "      <th>13</th>\n",
       "      <td>long</td>\n",
       "      <td>long</td>\n",
       "      <td>xxxx</td>\n",
       "    </tr>\n",
       "    <tr>\n",
       "      <th>14</th>\n",
       "      <td>time</td>\n",
       "      <td>time</td>\n",
       "      <td>xxxx</td>\n",
       "    </tr>\n",
       "    <tr>\n",
       "      <th>15</th>\n",
       "      <td>,</td>\n",
       "      <td>,</td>\n",
       "      <td>,</td>\n",
       "    </tr>\n",
       "    <tr>\n",
       "      <th>16</th>\n",
       "      <td>one</td>\n",
       "      <td>one</td>\n",
       "      <td>xxx</td>\n",
       "    </tr>\n",
       "    <tr>\n",
       "      <th>17</th>\n",
       "      <td>I</td>\n",
       "      <td>-PRON-</td>\n",
       "      <td>X</td>\n",
       "    </tr>\n",
       "    <tr>\n",
       "      <th>18</th>\n",
       "      <td>would</td>\n",
       "      <td>would</td>\n",
       "      <td>xxxx</td>\n",
       "    </tr>\n",
       "    <tr>\n",
       "      <th>19</th>\n",
       "      <td>frequent</td>\n",
       "      <td>frequent</td>\n",
       "      <td>xxxx</td>\n",
       "    </tr>\n",
       "    <tr>\n",
       "      <th>20</th>\n",
       "      <td>if</td>\n",
       "      <td>if</td>\n",
       "      <td>xx</td>\n",
       "    </tr>\n",
       "    <tr>\n",
       "      <th>21</th>\n",
       "      <td>my</td>\n",
       "      <td>-PRON-</td>\n",
       "      <td>xx</td>\n",
       "    </tr>\n",
       "    <tr>\n",
       "      <th>22</th>\n",
       "      <td>home</td>\n",
       "      <td>home</td>\n",
       "      <td>xxxx</td>\n",
       "    </tr>\n",
       "    <tr>\n",
       "      <th>23</th>\n",
       "      <td>was</td>\n",
       "      <td>be</td>\n",
       "      <td>xxx</td>\n",
       "    </tr>\n",
       "    <tr>\n",
       "      <th>24</th>\n",
       "      <td>n't</td>\n",
       "      <td>not</td>\n",
       "      <td>x'x</td>\n",
       "    </tr>\n",
       "    <tr>\n",
       "      <th>25</th>\n",
       "      <td>900</td>\n",
       "      <td>900</td>\n",
       "      <td>ddd</td>\n",
       "    </tr>\n",
       "    <tr>\n",
       "      <th>26</th>\n",
       "      <td>km</td>\n",
       "      <td>km</td>\n",
       "      <td>xx</td>\n",
       "    </tr>\n",
       "    <tr>\n",
       "      <th>27</th>\n",
       "      <td>away</td>\n",
       "      <td>away</td>\n",
       "      <td>xxxx</td>\n",
       "    </tr>\n",
       "    <tr>\n",
       "      <th>28</th>\n",
       "      <td>.</td>\n",
       "      <td>.</td>\n",
       "      <td>.</td>\n",
       "    </tr>\n",
       "    <tr>\n",
       "      <th>29</th>\n",
       "      <td></td>\n",
       "      <td></td>\n",
       "      <td></td>\n",
       "    </tr>\n",
       "    <tr>\n",
       "      <th>...</th>\n",
       "      <td>...</td>\n",
       "      <td>...</td>\n",
       "      <td>...</td>\n",
       "    </tr>\n",
       "    <tr>\n",
       "      <th>931</th>\n",
       "      <td>to</td>\n",
       "      <td>to</td>\n",
       "      <td>xx</td>\n",
       "    </tr>\n",
       "    <tr>\n",
       "      <th>932</th>\n",
       "      <td>find</td>\n",
       "      <td>find</td>\n",
       "      <td>xxxx</td>\n",
       "    </tr>\n",
       "    <tr>\n",
       "      <th>933</th>\n",
       "      <td>success</td>\n",
       "      <td>success</td>\n",
       "      <td>xxxx</td>\n",
       "    </tr>\n",
       "    <tr>\n",
       "      <th>934</th>\n",
       "      <td>.</td>\n",
       "      <td>.</td>\n",
       "      <td>.</td>\n",
       "    </tr>\n",
       "    <tr>\n",
       "      <th>935</th>\n",
       "      <td>\\n \\n</td>\n",
       "      <td>\\n \\n</td>\n",
       "      <td>\\n \\n</td>\n",
       "    </tr>\n",
       "    <tr>\n",
       "      <th>936</th>\n",
       "      <td>Food</td>\n",
       "      <td>food</td>\n",
       "      <td>Xxxx</td>\n",
       "    </tr>\n",
       "    <tr>\n",
       "      <th>937</th>\n",
       "      <td>:</td>\n",
       "      <td>:</td>\n",
       "      <td>:</td>\n",
       "    </tr>\n",
       "    <tr>\n",
       "      <th>938</th>\n",
       "      <td></td>\n",
       "      <td></td>\n",
       "      <td></td>\n",
       "    </tr>\n",
       "    <tr>\n",
       "      <th>939</th>\n",
       "      <td>4/5</td>\n",
       "      <td>4/5</td>\n",
       "      <td>d/d</td>\n",
       "    </tr>\n",
       "    <tr>\n",
       "      <th>940</th>\n",
       "      <td>\\n</td>\n",
       "      <td>\\n</td>\n",
       "      <td>\\n</td>\n",
       "    </tr>\n",
       "    <tr>\n",
       "      <th>941</th>\n",
       "      <td>Service</td>\n",
       "      <td>service</td>\n",
       "      <td>Xxxxx</td>\n",
       "    </tr>\n",
       "    <tr>\n",
       "      <th>942</th>\n",
       "      <td>:</td>\n",
       "      <td>:</td>\n",
       "      <td>:</td>\n",
       "    </tr>\n",
       "    <tr>\n",
       "      <th>943</th>\n",
       "      <td></td>\n",
       "      <td></td>\n",
       "      <td></td>\n",
       "    </tr>\n",
       "    <tr>\n",
       "      <th>944</th>\n",
       "      <td>3.5/5</td>\n",
       "      <td>3.5/5</td>\n",
       "      <td>d.d/d</td>\n",
       "    </tr>\n",
       "    <tr>\n",
       "      <th>945</th>\n",
       "      <td>\\n</td>\n",
       "      <td>\\n</td>\n",
       "      <td>\\n</td>\n",
       "    </tr>\n",
       "    <tr>\n",
       "      <th>946</th>\n",
       "      <td>Presentation</td>\n",
       "      <td>presentation</td>\n",
       "      <td>Xxxxx</td>\n",
       "    </tr>\n",
       "    <tr>\n",
       "      <th>947</th>\n",
       "      <td>:</td>\n",
       "      <td>:</td>\n",
       "      <td>:</td>\n",
       "    </tr>\n",
       "    <tr>\n",
       "      <th>948</th>\n",
       "      <td></td>\n",
       "      <td></td>\n",
       "      <td></td>\n",
       "    </tr>\n",
       "    <tr>\n",
       "      <th>949</th>\n",
       "      <td>4/5</td>\n",
       "      <td>4/5</td>\n",
       "      <td>d/d</td>\n",
       "    </tr>\n",
       "    <tr>\n",
       "      <th>950</th>\n",
       "      <td>\\n</td>\n",
       "      <td>\\n</td>\n",
       "      <td>\\n</td>\n",
       "    </tr>\n",
       "    <tr>\n",
       "      <th>951</th>\n",
       "      <td>Value</td>\n",
       "      <td>value</td>\n",
       "      <td>Xxxxx</td>\n",
       "    </tr>\n",
       "    <tr>\n",
       "      <th>952</th>\n",
       "      <td>:</td>\n",
       "      <td>:</td>\n",
       "      <td>:</td>\n",
       "    </tr>\n",
       "    <tr>\n",
       "      <th>953</th>\n",
       "      <td></td>\n",
       "      <td></td>\n",
       "      <td></td>\n",
       "    </tr>\n",
       "    <tr>\n",
       "      <th>954</th>\n",
       "      <td>5/5</td>\n",
       "      <td>5/5</td>\n",
       "      <td>d/d</td>\n",
       "    </tr>\n",
       "    <tr>\n",
       "      <th>955</th>\n",
       "      <td>\\n</td>\n",
       "      <td>\\n</td>\n",
       "      <td>\\n</td>\n",
       "    </tr>\n",
       "    <tr>\n",
       "      <th>956</th>\n",
       "      <td>Recommendation</td>\n",
       "      <td>recommendation</td>\n",
       "      <td>Xxxxx</td>\n",
       "    </tr>\n",
       "    <tr>\n",
       "      <th>957</th>\n",
       "      <td>:</td>\n",
       "      <td>:</td>\n",
       "      <td>:</td>\n",
       "    </tr>\n",
       "    <tr>\n",
       "      <th>958</th>\n",
       "      <td></td>\n",
       "      <td></td>\n",
       "      <td></td>\n",
       "    </tr>\n",
       "    <tr>\n",
       "      <th>959</th>\n",
       "      <td>4/5</td>\n",
       "      <td>4/5</td>\n",
       "      <td>d/d</td>\n",
       "    </tr>\n",
       "    <tr>\n",
       "      <th>960</th>\n",
       "      <td>\\n</td>\n",
       "      <td>\\n</td>\n",
       "      <td>\\n</td>\n",
       "    </tr>\n",
       "  </tbody>\n",
       "</table>\n",
       "<p>961 rows × 3 columns</p>\n",
       "</div>"
      ],
      "text/plain": [
       "         token_text     token_lemma token_shape\n",
       "0             Kinjo           Kinjo       Xxxxx\n",
       "1                is              be          xx\n",
       "2                 a               a           x\n",
       "3            breath          breath        xxxx\n",
       "4                of              of          xx\n",
       "..              ...             ...         ...\n",
       "956  Recommendation  recommendation       Xxxxx\n",
       "957               :               :           :\n",
       "958                                            \n",
       "959             4/5             4/5         d/d\n",
       "960              \\n              \\n          \\n\n",
       "\n",
       "[961 rows x 3 columns]"
      ]
     },
     "execution_count": 11,
     "metadata": {},
     "output_type": "execute_result"
    }
   ],
   "source": [
    "token_text = [token.orth_ for token in parsed_review]\n",
    "token_lemma = [token.lemma_ for token in parsed_review]\n",
    "token_shape = [token.shape_ for token in parsed_review]\n",
    "\n",
    "pd.DataFrame(\n",
    "    zip(token_text, token_lemma, token_shape),\n",
    "    columns=['token_text', 'token_lemma', 'token_shape']\n",
    "    )"
   ]
  },
  {
   "cell_type": "markdown",
   "metadata": {},
   "source": [
    "What about part of speech tagging?"
   ]
  },
  {
   "cell_type": "code",
   "execution_count": 12,
   "metadata": {
    "ExecuteTime": {
     "end_time": "2020-02-04T18:51:30.644811Z",
     "start_time": "2020-02-04T18:51:30.623803Z"
    },
    "jupyter": {
     "outputs_hidden": false
    }
   },
   "outputs": [
    {
     "data": {
      "text/html": [
       "<div>\n",
       "<style scoped>\n",
       "    .dataframe tbody tr th:only-of-type {\n",
       "        vertical-align: middle;\n",
       "    }\n",
       "\n",
       "    .dataframe tbody tr th {\n",
       "        vertical-align: top;\n",
       "    }\n",
       "\n",
       "    .dataframe thead th {\n",
       "        text-align: right;\n",
       "    }\n",
       "</style>\n",
       "<table border=\"1\" class=\"dataframe\">\n",
       "  <thead>\n",
       "    <tr style=\"text-align: right;\">\n",
       "      <th></th>\n",
       "      <th>token_text</th>\n",
       "      <th>part_of_speech</th>\n",
       "    </tr>\n",
       "  </thead>\n",
       "  <tbody>\n",
       "    <tr>\n",
       "      <th>0</th>\n",
       "      <td>Kinjo</td>\n",
       "      <td>PROPN</td>\n",
       "    </tr>\n",
       "    <tr>\n",
       "      <th>1</th>\n",
       "      <td>is</td>\n",
       "      <td>VERB</td>\n",
       "    </tr>\n",
       "    <tr>\n",
       "      <th>2</th>\n",
       "      <td>a</td>\n",
       "      <td>DET</td>\n",
       "    </tr>\n",
       "    <tr>\n",
       "      <th>3</th>\n",
       "      <td>breath</td>\n",
       "      <td>NOUN</td>\n",
       "    </tr>\n",
       "    <tr>\n",
       "      <th>4</th>\n",
       "      <td>of</td>\n",
       "      <td>ADP</td>\n",
       "    </tr>\n",
       "    <tr>\n",
       "      <th>5</th>\n",
       "      <td>fresh</td>\n",
       "      <td>ADJ</td>\n",
       "    </tr>\n",
       "    <tr>\n",
       "      <th>6</th>\n",
       "      <td>sushi</td>\n",
       "      <td>NOUN</td>\n",
       "    </tr>\n",
       "    <tr>\n",
       "      <th>7</th>\n",
       "      <td>,</td>\n",
       "      <td>PUNCT</td>\n",
       "    </tr>\n",
       "    <tr>\n",
       "      <th>8</th>\n",
       "      <td>the</td>\n",
       "      <td>DET</td>\n",
       "    </tr>\n",
       "    <tr>\n",
       "      <th>9</th>\n",
       "      <td>first</td>\n",
       "      <td>ADJ</td>\n",
       "    </tr>\n",
       "    <tr>\n",
       "      <th>10</th>\n",
       "      <td>lungful</td>\n",
       "      <td>NOUN</td>\n",
       "    </tr>\n",
       "    <tr>\n",
       "      <th>11</th>\n",
       "      <td>in</td>\n",
       "      <td>ADP</td>\n",
       "    </tr>\n",
       "    <tr>\n",
       "      <th>12</th>\n",
       "      <td>a</td>\n",
       "      <td>DET</td>\n",
       "    </tr>\n",
       "    <tr>\n",
       "      <th>13</th>\n",
       "      <td>long</td>\n",
       "      <td>ADJ</td>\n",
       "    </tr>\n",
       "    <tr>\n",
       "      <th>14</th>\n",
       "      <td>time</td>\n",
       "      <td>NOUN</td>\n",
       "    </tr>\n",
       "    <tr>\n",
       "      <th>15</th>\n",
       "      <td>,</td>\n",
       "      <td>PUNCT</td>\n",
       "    </tr>\n",
       "    <tr>\n",
       "      <th>16</th>\n",
       "      <td>one</td>\n",
       "      <td>NUM</td>\n",
       "    </tr>\n",
       "    <tr>\n",
       "      <th>17</th>\n",
       "      <td>I</td>\n",
       "      <td>PRON</td>\n",
       "    </tr>\n",
       "    <tr>\n",
       "      <th>18</th>\n",
       "      <td>would</td>\n",
       "      <td>VERB</td>\n",
       "    </tr>\n",
       "    <tr>\n",
       "      <th>19</th>\n",
       "      <td>frequent</td>\n",
       "      <td>VERB</td>\n",
       "    </tr>\n",
       "    <tr>\n",
       "      <th>20</th>\n",
       "      <td>if</td>\n",
       "      <td>ADP</td>\n",
       "    </tr>\n",
       "    <tr>\n",
       "      <th>21</th>\n",
       "      <td>my</td>\n",
       "      <td>DET</td>\n",
       "    </tr>\n",
       "    <tr>\n",
       "      <th>22</th>\n",
       "      <td>home</td>\n",
       "      <td>NOUN</td>\n",
       "    </tr>\n",
       "    <tr>\n",
       "      <th>23</th>\n",
       "      <td>was</td>\n",
       "      <td>VERB</td>\n",
       "    </tr>\n",
       "    <tr>\n",
       "      <th>24</th>\n",
       "      <td>n't</td>\n",
       "      <td>ADV</td>\n",
       "    </tr>\n",
       "    <tr>\n",
       "      <th>25</th>\n",
       "      <td>900</td>\n",
       "      <td>NUM</td>\n",
       "    </tr>\n",
       "    <tr>\n",
       "      <th>26</th>\n",
       "      <td>km</td>\n",
       "      <td>NOUN</td>\n",
       "    </tr>\n",
       "    <tr>\n",
       "      <th>27</th>\n",
       "      <td>away</td>\n",
       "      <td>ADV</td>\n",
       "    </tr>\n",
       "    <tr>\n",
       "      <th>28</th>\n",
       "      <td>.</td>\n",
       "      <td>PUNCT</td>\n",
       "    </tr>\n",
       "    <tr>\n",
       "      <th>29</th>\n",
       "      <td></td>\n",
       "      <td>SPACE</td>\n",
       "    </tr>\n",
       "    <tr>\n",
       "      <th>...</th>\n",
       "      <td>...</td>\n",
       "      <td>...</td>\n",
       "    </tr>\n",
       "    <tr>\n",
       "      <th>931</th>\n",
       "      <td>to</td>\n",
       "      <td>PART</td>\n",
       "    </tr>\n",
       "    <tr>\n",
       "      <th>932</th>\n",
       "      <td>find</td>\n",
       "      <td>VERB</td>\n",
       "    </tr>\n",
       "    <tr>\n",
       "      <th>933</th>\n",
       "      <td>success</td>\n",
       "      <td>NOUN</td>\n",
       "    </tr>\n",
       "    <tr>\n",
       "      <th>934</th>\n",
       "      <td>.</td>\n",
       "      <td>PUNCT</td>\n",
       "    </tr>\n",
       "    <tr>\n",
       "      <th>935</th>\n",
       "      <td>\\n \\n</td>\n",
       "      <td>SPACE</td>\n",
       "    </tr>\n",
       "    <tr>\n",
       "      <th>936</th>\n",
       "      <td>Food</td>\n",
       "      <td>NOUN</td>\n",
       "    </tr>\n",
       "    <tr>\n",
       "      <th>937</th>\n",
       "      <td>:</td>\n",
       "      <td>PUNCT</td>\n",
       "    </tr>\n",
       "    <tr>\n",
       "      <th>938</th>\n",
       "      <td></td>\n",
       "      <td>SPACE</td>\n",
       "    </tr>\n",
       "    <tr>\n",
       "      <th>939</th>\n",
       "      <td>4/5</td>\n",
       "      <td>NUM</td>\n",
       "    </tr>\n",
       "    <tr>\n",
       "      <th>940</th>\n",
       "      <td>\\n</td>\n",
       "      <td>SPACE</td>\n",
       "    </tr>\n",
       "    <tr>\n",
       "      <th>941</th>\n",
       "      <td>Service</td>\n",
       "      <td>NOUN</td>\n",
       "    </tr>\n",
       "    <tr>\n",
       "      <th>942</th>\n",
       "      <td>:</td>\n",
       "      <td>PUNCT</td>\n",
       "    </tr>\n",
       "    <tr>\n",
       "      <th>943</th>\n",
       "      <td></td>\n",
       "      <td>SPACE</td>\n",
       "    </tr>\n",
       "    <tr>\n",
       "      <th>944</th>\n",
       "      <td>3.5/5</td>\n",
       "      <td>PROPN</td>\n",
       "    </tr>\n",
       "    <tr>\n",
       "      <th>945</th>\n",
       "      <td>\\n</td>\n",
       "      <td>SPACE</td>\n",
       "    </tr>\n",
       "    <tr>\n",
       "      <th>946</th>\n",
       "      <td>Presentation</td>\n",
       "      <td>NOUN</td>\n",
       "    </tr>\n",
       "    <tr>\n",
       "      <th>947</th>\n",
       "      <td>:</td>\n",
       "      <td>PUNCT</td>\n",
       "    </tr>\n",
       "    <tr>\n",
       "      <th>948</th>\n",
       "      <td></td>\n",
       "      <td>SPACE</td>\n",
       "    </tr>\n",
       "    <tr>\n",
       "      <th>949</th>\n",
       "      <td>4/5</td>\n",
       "      <td>NUM</td>\n",
       "    </tr>\n",
       "    <tr>\n",
       "      <th>950</th>\n",
       "      <td>\\n</td>\n",
       "      <td>SPACE</td>\n",
       "    </tr>\n",
       "    <tr>\n",
       "      <th>951</th>\n",
       "      <td>Value</td>\n",
       "      <td>NOUN</td>\n",
       "    </tr>\n",
       "    <tr>\n",
       "      <th>952</th>\n",
       "      <td>:</td>\n",
       "      <td>PUNCT</td>\n",
       "    </tr>\n",
       "    <tr>\n",
       "      <th>953</th>\n",
       "      <td></td>\n",
       "      <td>SPACE</td>\n",
       "    </tr>\n",
       "    <tr>\n",
       "      <th>954</th>\n",
       "      <td>5/5</td>\n",
       "      <td>NUM</td>\n",
       "    </tr>\n",
       "    <tr>\n",
       "      <th>955</th>\n",
       "      <td>\\n</td>\n",
       "      <td>SPACE</td>\n",
       "    </tr>\n",
       "    <tr>\n",
       "      <th>956</th>\n",
       "      <td>Recommendation</td>\n",
       "      <td>NOUN</td>\n",
       "    </tr>\n",
       "    <tr>\n",
       "      <th>957</th>\n",
       "      <td>:</td>\n",
       "      <td>PUNCT</td>\n",
       "    </tr>\n",
       "    <tr>\n",
       "      <th>958</th>\n",
       "      <td></td>\n",
       "      <td>SPACE</td>\n",
       "    </tr>\n",
       "    <tr>\n",
       "      <th>959</th>\n",
       "      <td>4/5</td>\n",
       "      <td>NUM</td>\n",
       "    </tr>\n",
       "    <tr>\n",
       "      <th>960</th>\n",
       "      <td>\\n</td>\n",
       "      <td>SPACE</td>\n",
       "    </tr>\n",
       "  </tbody>\n",
       "</table>\n",
       "<p>961 rows × 2 columns</p>\n",
       "</div>"
      ],
      "text/plain": [
       "         token_text part_of_speech\n",
       "0             Kinjo          PROPN\n",
       "1                is           VERB\n",
       "2                 a            DET\n",
       "3            breath           NOUN\n",
       "4                of            ADP\n",
       "..              ...            ...\n",
       "956  Recommendation           NOUN\n",
       "957               :          PUNCT\n",
       "958                          SPACE\n",
       "959             4/5            NUM\n",
       "960              \\n          SPACE\n",
       "\n",
       "[961 rows x 2 columns]"
      ]
     },
     "execution_count": 12,
     "metadata": {},
     "output_type": "execute_result"
    }
   ],
   "source": [
    "token_pos = [token.pos_ for token in parsed_review]\n",
    "\n",
    "pd.DataFrame(\n",
    "    zip(token_text, token_pos),\n",
    "    columns=['token_text', 'part_of_speech']\n",
    "    )"
   ]
  },
  {
   "cell_type": "markdown",
   "metadata": {},
   "source": [
    "What about named entity detection?"
   ]
  },
  {
   "cell_type": "code",
   "execution_count": 13,
   "metadata": {
    "ExecuteTime": {
     "end_time": "2020-02-04T18:51:30.662087Z",
     "start_time": "2020-02-04T18:51:30.650151Z"
    }
   },
   "outputs": [
    {
     "data": {
      "text/html": [
       "<div class=\"entities\" style=\"line-height: 2.5; direction: ltr\">\n",
       "<mark class=\"entity\" style=\"background: #7aecec; padding: 0.45em 0.6em; margin: 0 0.25em; line-height: 1; border-radius: 0.35em; box-decoration-break: clone; -webkit-box-decoration-break: clone\">\n",
       "    Kinjo\n",
       "    <span style=\"font-size: 0.8em; font-weight: bold; line-height: 1; border-radius: 0.35em; text-transform: uppercase; vertical-align: middle; margin-left: 0.5rem\">ORG</span>\n",
       "</mark>\n",
       " is a breath of fresh sushi, the \n",
       "<mark class=\"entity\" style=\"background: #e4e7d2; padding: 0.45em 0.6em; margin: 0 0.25em; line-height: 1; border-radius: 0.35em; box-decoration-break: clone; -webkit-box-decoration-break: clone\">\n",
       "    first\n",
       "    <span style=\"font-size: 0.8em; font-weight: bold; line-height: 1; border-radius: 0.35em; text-transform: uppercase; vertical-align: middle; margin-left: 0.5rem\">ORDINAL</span>\n",
       "</mark>\n",
       " lungful in a long time, one I would frequent if my home wasn't \n",
       "<mark class=\"entity\" style=\"background: #e4e7d2; padding: 0.45em 0.6em; margin: 0 0.25em; line-height: 1; border-radius: 0.35em; box-decoration-break: clone; -webkit-box-decoration-break: clone\">\n",
       "    900 km\n",
       "    <span style=\"font-size: 0.8em; font-weight: bold; line-height: 1; border-radius: 0.35em; text-transform: uppercase; vertical-align: middle; margin-left: 0.5rem\">QUANTITY</span>\n",
       "</mark>\n",
       " away.  A lunch at \n",
       "<mark class=\"entity\" style=\"background: #7aecec; padding: 0.45em 0.6em; margin: 0 0.25em; line-height: 1; border-radius: 0.35em; box-decoration-break: clone; -webkit-box-decoration-break: clone\">\n",
       "    Kinjo\n",
       "    <span style=\"font-size: 0.8em; font-weight: bold; line-height: 1; border-radius: 0.35em; text-transform: uppercase; vertical-align: middle; margin-left: 0.5rem\">ORG</span>\n",
       "</mark>\n",
       " is like eating solid joy, perfectly transmitted from its owner to each table...and to think this is a chain, albeit a small one.  Only three \n",
       "<mark class=\"entity\" style=\"background: #7aecec; padding: 0.45em 0.6em; margin: 0 0.25em; line-height: 1; border-radius: 0.35em; box-decoration-break: clone; -webkit-box-decoration-break: clone\">\n",
       "    Kinjos\n",
       "    <span style=\"font-size: 0.8em; font-weight: bold; line-height: 1; border-radius: 0.35em; text-transform: uppercase; vertical-align: middle; margin-left: 0.5rem\">ORG</span>\n",
       "</mark>\n",
       " exist, scattered like buckshot across the city of \n",
       "<mark class=\"entity\" style=\"background: #feca74; padding: 0.45em 0.6em; margin: 0 0.25em; line-height: 1; border-radius: 0.35em; box-decoration-break: clone; -webkit-box-decoration-break: clone\">\n",
       "    Calgary\n",
       "    <span style=\"font-size: 0.8em; font-weight: bold; line-height: 1; border-radius: 0.35em; text-transform: uppercase; vertical-align: middle; margin-left: 0.5rem\">GPE</span>\n",
       "</mark>\n",
       ", validating the appeal of the décor, the quality of its sushi, and the passion of its owner. </br> </br>I know I'm long past my obligation for an opening joke, something involving the inner workings of my gastro-intestinal system or perhaps a remark a passing reader may mistaken as faintly racist.  Truth is, right beside my computer, I have a \n",
       "<mark class=\"entity\" style=\"background: #feca74; padding: 0.45em 0.6em; margin: 0 0.25em; line-height: 1; border-radius: 0.35em; box-decoration-break: clone; -webkit-box-decoration-break: clone\">\n",
       "    Thunderdome\n",
       "    <span style=\"font-size: 0.8em; font-weight: bold; line-height: 1; border-radius: 0.35em; text-transform: uppercase; vertical-align: middle; margin-left: 0.5rem\">GPE</span>\n",
       "</mark>\n",
       "-like \n",
       "<mark class=\"entity\" style=\"background: #c887fb; padding: 0.45em 0.6em; margin: 0 0.25em; line-height: 1; border-radius: 0.35em; box-decoration-break: clone; -webkit-box-decoration-break: clone\">\n",
       "    Aunty\n",
       "    <span style=\"font-size: 0.8em; font-weight: bold; line-height: 1; border-radius: 0.35em; text-transform: uppercase; vertical-align: middle; margin-left: 0.5rem\">NORP</span>\n",
       "</mark>\n",
       "'s wheel I spin to determine the bizarre pop-culture references I'll have to drop during the course of a review.  My initial attempt landed on \n",
       "<mark class=\"entity\" style=\"background: #f0d0ff; padding: 0.45em 0.6em; margin: 0 0.25em; line-height: 1; border-radius: 0.35em; box-decoration-break: clone; -webkit-box-decoration-break: clone\">\n",
       "    Silence of the Lambs\n",
       "    <span style=\"font-size: 0.8em; font-weight: bold; line-height: 1; border-radius: 0.35em; text-transform: uppercase; vertical-align: middle; margin-left: 0.5rem\">WORK_OF_ART</span>\n",
       "</mark>\n",
       ", which I've touched on \n",
       "<mark class=\"entity\" style=\"background: #e4e7d2; padding: 0.45em 0.6em; margin: 0 0.25em; line-height: 1; border-radius: 0.35em; box-decoration-break: clone; -webkit-box-decoration-break: clone\">\n",
       "    three\n",
       "    <span style=\"font-size: 0.8em; font-weight: bold; line-height: 1; border-radius: 0.35em; text-transform: uppercase; vertical-align: middle; margin-left: 0.5rem\">CARDINAL</span>\n",
       "</mark>\n",
       " times already.  A \n",
       "<mark class=\"entity\" style=\"background: #e4e7d2; padding: 0.45em 0.6em; margin: 0 0.25em; line-height: 1; border-radius: 0.35em; box-decoration-break: clone; -webkit-box-decoration-break: clone\">\n",
       "    second\n",
       "    <span style=\"font-size: 0.8em; font-weight: bold; line-height: 1; border-radius: 0.35em; text-transform: uppercase; vertical-align: middle; margin-left: 0.5rem\">ORDINAL</span>\n",
       "</mark>\n",
       " fell on \n",
       "<mark class=\"entity\" style=\"background: #7aecec; padding: 0.45em 0.6em; margin: 0 0.25em; line-height: 1; border-radius: 0.35em; box-decoration-break: clone; -webkit-box-decoration-break: clone\">\n",
       "    Pink Floyd's\n",
       "    <span style=\"font-size: 0.8em; font-weight: bold; line-height: 1; border-radius: 0.35em; text-transform: uppercase; vertical-align: middle; margin-left: 0.5rem\">ORG</span>\n",
       "</mark>\n",
       " laser concert which...okay, I've honestly no idea why that's there.  So perhaps I'll just do this one review serious, respectful, honoring the zeal of \n",
       "<mark class=\"entity\" style=\"background: #7aecec; padding: 0.45em 0.6em; margin: 0 0.25em; line-height: 1; border-radius: 0.35em; box-decoration-break: clone; -webkit-box-decoration-break: clone\">\n",
       "    Kinjo\n",
       "    <span style=\"font-size: 0.8em; font-weight: bold; line-height: 1; border-radius: 0.35em; text-transform: uppercase; vertical-align: middle; margin-left: 0.5rem\">ORG</span>\n",
       "</mark>\n",
       "'s owner, a man with enough faith in this restaurant that he named it after himself.</br> </br>That's right, \n",
       "<mark class=\"entity\" style=\"background: #aa9cfc; padding: 0.45em 0.6em; margin: 0 0.25em; line-height: 1; border-radius: 0.35em; box-decoration-break: clone; -webkit-box-decoration-break: clone\">\n",
       "    Peter Kinjo\n",
       "    <span style=\"font-size: 0.8em; font-weight: bold; line-height: 1; border-radius: 0.35em; text-transform: uppercase; vertical-align: middle; margin-left: 0.5rem\">PERSON</span>\n",
       "</mark>\n",
       ", and that's a name that should be familiar. </br> </br>You're right, it's not, but that's why I'm here.   To know the restaurant and to properly understand the enthusiasm of the owner I personally encountered \n",
       "<mark class=\"entity\" style=\"background: #bfe1d9; padding: 0.45em 0.6em; margin: 0 0.25em; line-height: 1; border-radius: 0.35em; box-decoration-break: clone; -webkit-box-decoration-break: clone\">\n",
       "    that day\n",
       "    <span style=\"font-size: 0.8em; font-weight: bold; line-height: 1; border-radius: 0.35em; text-transform: uppercase; vertical-align: middle; margin-left: 0.5rem\">DATE</span>\n",
       "</mark>\n",
       ", I feel compelled to take a moment to educate those reading this.  \n",
       "<mark class=\"entity\" style=\"background: #aa9cfc; padding: 0.45em 0.6em; margin: 0 0.25em; line-height: 1; border-radius: 0.35em; box-decoration-break: clone; -webkit-box-decoration-break: clone\">\n",
       "    Peter\n",
       "    <span style=\"font-size: 0.8em; font-weight: bold; line-height: 1; border-radius: 0.35em; text-transform: uppercase; vertical-align: middle; margin-left: 0.5rem\">PERSON</span>\n",
       "</mark>\n",
       " was \n",
       "<mark class=\"entity\" style=\"background: #e4e7d2; padding: 0.45em 0.6em; margin: 0 0.25em; line-height: 1; border-radius: 0.35em; box-decoration-break: clone; -webkit-box-decoration-break: clone\">\n",
       "    one\n",
       "    <span style=\"font-size: 0.8em; font-weight: bold; line-height: 1; border-radius: 0.35em; text-transform: uppercase; vertical-align: middle; margin-left: 0.5rem\">CARDINAL</span>\n",
       "</mark>\n",
       " of the founders of the massive \n",
       "<mark class=\"entity\" style=\"background: #7aecec; padding: 0.45em 0.6em; margin: 0 0.25em; line-height: 1; border-radius: 0.35em; box-decoration-break: clone; -webkit-box-decoration-break: clone\">\n",
       "    Edo Japan\n",
       "    <span style=\"font-size: 0.8em; font-weight: bold; line-height: 1; border-radius: 0.35em; text-transform: uppercase; vertical-align: middle; margin-left: 0.5rem\">ORG</span>\n",
       "</mark>\n",
       " chain of fast-food sushi eateries literally infecting every single mall and airport from \n",
       "<mark class=\"entity\" style=\"background: #feca74; padding: 0.45em 0.6em; margin: 0 0.25em; line-height: 1; border-radius: 0.35em; box-decoration-break: clone; -webkit-box-decoration-break: clone\">\n",
       "    Vancouver\n",
       "    <span style=\"font-size: 0.8em; font-weight: bold; line-height: 1; border-radius: 0.35em; text-transform: uppercase; vertical-align: middle; margin-left: 0.5rem\">GPE</span>\n",
       "</mark>\n",
       " to \n",
       "<mark class=\"entity\" style=\"background: #feca74; padding: 0.45em 0.6em; margin: 0 0.25em; line-height: 1; border-radius: 0.35em; box-decoration-break: clone; -webkit-box-decoration-break: clone\">\n",
       "    Saskatoon\n",
       "    <span style=\"font-size: 0.8em; font-weight: bold; line-height: 1; border-radius: 0.35em; text-transform: uppercase; vertical-align: middle; margin-left: 0.5rem\">GPE</span>\n",
       "</mark>\n",
       ".  Although now amounting to \n",
       "<mark class=\"entity\" style=\"background: #e4e7d2; padding: 0.45em 0.6em; margin: 0 0.25em; line-height: 1; border-radius: 0.35em; box-decoration-break: clone; -webkit-box-decoration-break: clone\">\n",
       "    over a hundred\n",
       "    <span style=\"font-size: 0.8em; font-weight: bold; line-height: 1; border-radius: 0.35em; text-transform: uppercase; vertical-align: middle; margin-left: 0.5rem\">CARDINAL</span>\n",
       "</mark>\n",
       " locations, \n",
       "<mark class=\"entity\" style=\"background: #aa9cfc; padding: 0.45em 0.6em; margin: 0 0.25em; line-height: 1; border-radius: 0.35em; box-decoration-break: clone; -webkit-box-decoration-break: clone\">\n",
       "    Peter\n",
       "    <span style=\"font-size: 0.8em; font-weight: bold; line-height: 1; border-radius: 0.35em; text-transform: uppercase; vertical-align: middle; margin-left: 0.5rem\">PERSON</span>\n",
       "</mark>\n",
       " no longer earns anything from them.  He sold his shares, made a few unwise economic decisions after, and came to \n",
       "<mark class=\"entity\" style=\"background: #feca74; padding: 0.45em 0.6em; margin: 0 0.25em; line-height: 1; border-radius: 0.35em; box-decoration-break: clone; -webkit-box-decoration-break: clone\">\n",
       "    Calgary\n",
       "    <span style=\"font-size: 0.8em; font-weight: bold; line-height: 1; border-radius: 0.35em; text-transform: uppercase; vertical-align: middle; margin-left: 0.5rem\">GPE</span>\n",
       "</mark>\n",
       " to try something new, to move away from the fast-food sushi and take a crack at an actual restaurant.  He went about this by replicating a restaurant model seldom seen in \n",
       "<mark class=\"entity\" style=\"background: #feca74; padding: 0.45em 0.6em; margin: 0 0.25em; line-height: 1; border-radius: 0.35em; box-decoration-break: clone; -webkit-box-decoration-break: clone\">\n",
       "    Canada\n",
       "    <span style=\"font-size: 0.8em; font-weight: bold; line-height: 1; border-radius: 0.35em; text-transform: uppercase; vertical-align: middle; margin-left: 0.5rem\">GPE</span>\n",
       "</mark>\n",
       ", something known as Kaiten-zushi.  This is where the sushi is presented on a conveyer belt which orbits the bar where patrons sit, some on stools, some around connected tables.  I encountered this in \n",
       "<mark class=\"entity\" style=\"background: #feca74; padding: 0.45em 0.6em; margin: 0 0.25em; line-height: 1; border-radius: 0.35em; box-decoration-break: clone; -webkit-box-decoration-break: clone\">\n",
       "    China\n",
       "    <span style=\"font-size: 0.8em; font-weight: bold; line-height: 1; border-radius: 0.35em; text-transform: uppercase; vertical-align: middle; margin-left: 0.5rem\">GPE</span>\n",
       "</mark>\n",
       " and lamented its absence in my travels about \n",
       "<mark class=\"entity\" style=\"background: #feca74; padding: 0.45em 0.6em; margin: 0 0.25em; line-height: 1; border-radius: 0.35em; box-decoration-break: clone; -webkit-box-decoration-break: clone\">\n",
       "    Canada\n",
       "    <span style=\"font-size: 0.8em; font-weight: bold; line-height: 1; border-radius: 0.35em; text-transform: uppercase; vertical-align: middle; margin-left: 0.5rem\">GPE</span>\n",
       "</mark>\n",
       ". </br> </br>Well, bemoan no more because \n",
       "<mark class=\"entity\" style=\"background: #7aecec; padding: 0.45em 0.6em; margin: 0 0.25em; line-height: 1; border-radius: 0.35em; box-decoration-break: clone; -webkit-box-decoration-break: clone\">\n",
       "    Kinjo\n",
       "    <span style=\"font-size: 0.8em; font-weight: bold; line-height: 1; border-radius: 0.35em; text-transform: uppercase; vertical-align: middle; margin-left: 0.5rem\">ORG</span>\n",
       "</mark>\n",
       " has gone \n",
       "<mark class=\"entity\" style=\"background: #e4e7d2; padding: 0.45em 0.6em; margin: 0 0.25em; line-height: 1; border-radius: 0.35em; box-decoration-break: clone; -webkit-box-decoration-break: clone\">\n",
       "    one\n",
       "    <span style=\"font-size: 0.8em; font-weight: bold; line-height: 1; border-radius: 0.35em; text-transform: uppercase; vertical-align: middle; margin-left: 0.5rem\">CARDINAL</span>\n",
       "</mark>\n",
       " better.  To hell with cheap conveyer belts like we're at the end run of a tired \n",
       "<mark class=\"entity\" style=\"background: #ddd; padding: 0.45em 0.6em; margin: 0 0.25em; line-height: 1; border-radius: 0.35em; box-decoration-break: clone; -webkit-box-decoration-break: clone\">\n",
       "    Lucile Ball\n",
       "    <span style=\"font-size: 0.8em; font-weight: bold; line-height: 1; border-radius: 0.35em; text-transform: uppercase; vertical-align: middle; margin-left: 0.5rem\">FAC</span>\n",
       "</mark>\n",
       " comedy sketch, bring on the boats!  What better way to deliver food than on a boat.  Some restaurants have platters shaped as boats; I'm not talking about that.  These are actual seaworthy boats on a channel of water, chained together and carried along by current induced from vents below the surface.  Sushi delivered via flotation device, seriously the only way this could be cooler is if the whole was put against a backdrop of \n",
       "<mark class=\"entity\" style=\"background: #7aecec; padding: 0.45em 0.6em; margin: 0 0.25em; line-height: 1; border-radius: 0.35em; box-decoration-break: clone; -webkit-box-decoration-break: clone\">\n",
       "    Laser Floyd\n",
       "    <span style=\"font-size: 0.8em; font-weight: bold; line-height: 1; border-radius: 0.35em; text-transform: uppercase; vertical-align: middle; margin-left: 0.5rem\">ORG</span>\n",
       "</mark>\n",
       " (heh). </br>Unlike the fluorescent \n",
       "<mark class=\"entity\" style=\"background: #aa9cfc; padding: 0.45em 0.6em; margin: 0 0.25em; line-height: 1; border-radius: 0.35em; box-decoration-break: clone; -webkit-box-decoration-break: clone\">\n",
       "    Teletubbie\n",
       "    <span style=\"font-size: 0.8em; font-weight: bold; line-height: 1; border-radius: 0.35em; text-transform: uppercase; vertical-align: middle; margin-left: 0.5rem\">PERSON</span>\n",
       "</mark>\n",
       " explosion I ate inside of in \n",
       "<mark class=\"entity\" style=\"background: #feca74; padding: 0.45em 0.6em; margin: 0 0.25em; line-height: 1; border-radius: 0.35em; box-decoration-break: clone; -webkit-box-decoration-break: clone\">\n",
       "    Guangzhou\n",
       "    <span style=\"font-size: 0.8em; font-weight: bold; line-height: 1; border-radius: 0.35em; text-transform: uppercase; vertical-align: middle; margin-left: 0.5rem\">GPE</span>\n",
       "</mark>\n",
       ", \n",
       "<mark class=\"entity\" style=\"background: #feca74; padding: 0.45em 0.6em; margin: 0 0.25em; line-height: 1; border-radius: 0.35em; box-decoration-break: clone; -webkit-box-decoration-break: clone\">\n",
       "    Kinjo\n",
       "    <span style=\"font-size: 0.8em; font-weight: bold; line-height: 1; border-radius: 0.35em; text-transform: uppercase; vertical-align: middle; margin-left: 0.5rem\">GPE</span>\n",
       "</mark>\n",
       " is slightly more restrained, reserving its energy for its animated owner as he organizes a birthday chorus for a table when he hands out complimentary Pocky to random kids at tables.  This guy is pure class, navigating around the customers and employees ensuring everyone is seen to.  I know restaurant owners responsible for \n",
       "<mark class=\"entity\" style=\"background: #e4e7d2; padding: 0.45em 0.6em; margin: 0 0.25em; line-height: 1; border-radius: 0.35em; box-decoration-break: clone; -webkit-box-decoration-break: clone\">\n",
       "    twenty\n",
       "    <span style=\"font-size: 0.8em; font-weight: bold; line-height: 1; border-radius: 0.35em; text-transform: uppercase; vertical-align: middle; margin-left: 0.5rem\">CARDINAL</span>\n",
       "</mark>\n",
       " seats that don't do this, and \n",
       "<mark class=\"entity\" style=\"background: #7aecec; padding: 0.45em 0.6em; margin: 0 0.25em; line-height: 1; border-radius: 0.35em; box-decoration-break: clone; -webkit-box-decoration-break: clone\">\n",
       "    Kinjo\n",
       "    <span style=\"font-size: 0.8em; font-weight: bold; line-height: 1; border-radius: 0.35em; text-transform: uppercase; vertical-align: middle; margin-left: 0.5rem\">ORG</span>\n",
       "</mark>\n",
       " has over sixty...and \n",
       "<mark class=\"entity\" style=\"background: #e4e7d2; padding: 0.45em 0.6em; margin: 0 0.25em; line-height: 1; border-radius: 0.35em; box-decoration-break: clone; -webkit-box-decoration-break: clone\">\n",
       "    three\n",
       "    <span style=\"font-size: 0.8em; font-weight: bold; line-height: 1; border-radius: 0.35em; text-transform: uppercase; vertical-align: middle; margin-left: 0.5rem\">CARDINAL</span>\n",
       "</mark>\n",
       " locations.  No wonder this guy made \n",
       "<mark class=\"entity\" style=\"background: #e4e7d2; padding: 0.45em 0.6em; margin: 0 0.25em; line-height: 1; border-radius: 0.35em; box-decoration-break: clone; -webkit-box-decoration-break: clone\">\n",
       "    a million\n",
       "    <span style=\"font-size: 0.8em; font-weight: bold; line-height: 1; border-radius: 0.35em; text-transform: uppercase; vertical-align: middle; margin-left: 0.5rem\">CARDINAL</span>\n",
       "</mark>\n",
       " in \n",
       "<mark class=\"entity\" style=\"background: #bfe1d9; padding: 0.45em 0.6em; margin: 0 0.25em; line-height: 1; border-radius: 0.35em; box-decoration-break: clone; -webkit-box-decoration-break: clone\">\n",
       "    his first year\n",
       "    <span style=\"font-size: 0.8em; font-weight: bold; line-height: 1; border-radius: 0.35em; text-transform: uppercase; vertical-align: middle; margin-left: 0.5rem\">DATE</span>\n",
       "</mark>\n",
       ".  No wonder he turns tables \n",
       "<mark class=\"entity\" style=\"background: #e4e7d2; padding: 0.45em 0.6em; margin: 0 0.25em; line-height: 1; border-radius: 0.35em; box-decoration-break: clone; -webkit-box-decoration-break: clone\">\n",
       "    eight\n",
       "    <span style=\"font-size: 0.8em; font-weight: bold; line-height: 1; border-radius: 0.35em; text-transform: uppercase; vertical-align: middle; margin-left: 0.5rem\">CARDINAL</span>\n",
       "</mark>\n",
       " times over on a busy \n",
       "<mark class=\"entity\" style=\"background: #bfe1d9; padding: 0.45em 0.6em; margin: 0 0.25em; line-height: 1; border-radius: 0.35em; box-decoration-break: clone; -webkit-box-decoration-break: clone\">\n",
       "    weekday\n",
       "    <span style=\"font-size: 0.8em; font-weight: bold; line-height: 1; border-radius: 0.35em; text-transform: uppercase; vertical-align: middle; margin-left: 0.5rem\">DATE</span>\n",
       "</mark>\n",
       ".  Of course, this would all be irrelevant if the sushi was substandard.  Thankfully, it didn't disappoint.  \n",
       "<mark class=\"entity\" style=\"background: #e4e7d2; padding: 0.45em 0.6em; margin: 0 0.25em; line-height: 1; border-radius: 0.35em; box-decoration-break: clone; -webkit-box-decoration-break: clone\">\n",
       "    One\n",
       "    <span style=\"font-size: 0.8em; font-weight: bold; line-height: 1; border-radius: 0.35em; text-transform: uppercase; vertical-align: middle; margin-left: 0.5rem\">CARDINAL</span>\n",
       "</mark>\n",
       " especially brilliant special order, known as the kissing dragons, involved \n",
       "<mark class=\"entity\" style=\"background: #e4e7d2; padding: 0.45em 0.6em; margin: 0 0.25em; line-height: 1; border-radius: 0.35em; box-decoration-break: clone; -webkit-box-decoration-break: clone\">\n",
       "    two\n",
       "    <span style=\"font-size: 0.8em; font-weight: bold; line-height: 1; border-radius: 0.35em; text-transform: uppercase; vertical-align: middle; margin-left: 0.5rem\">CARDINAL</span>\n",
       "</mark>\n",
       " complete rolls, a rainbow and an eel, made to resemble \n",
       "<mark class=\"entity\" style=\"background: #c887fb; padding: 0.45em 0.6em; margin: 0 0.25em; line-height: 1; border-radius: 0.35em; box-decoration-break: clone; -webkit-box-decoration-break: clone\">\n",
       "    Asian\n",
       "    <span style=\"font-size: 0.8em; font-weight: bold; line-height: 1; border-radius: 0.35em; text-transform: uppercase; vertical-align: middle; margin-left: 0.5rem\">NORP</span>\n",
       "</mark>\n",
       " snake-like dragons, even going so far to include head-pieces with roe-eyes and vegetable whiskers. </br> </br>Now that being said, I guess I should find fault.  Despite attempts to make it operate more like a restaurant, it's by no means a high-class sushi-ya.  Like a \n",
       "<mark class=\"entity\" style=\"background: #bfeeb7; padding: 0.45em 0.6em; margin: 0 0.25em; line-height: 1; border-radius: 0.35em; box-decoration-break: clone; -webkit-box-decoration-break: clone\">\n",
       "    Trek\n",
       "    <span style=\"font-size: 0.8em; font-weight: bold; line-height: 1; border-radius: 0.35em; text-transform: uppercase; vertical-align: middle; margin-left: 0.5rem\">PRODUCT</span>\n",
       "</mark>\n",
       " holodeck, behind the lights and colors, the motions of a fast-food joint can still be found...but it's a very well made illusion, one I was more than willing to look past.  And the formula as it stands obviously works like gangbusters.  \n",
       "<mark class=\"entity\" style=\"background: #7aecec; padding: 0.45em 0.6em; margin: 0 0.25em; line-height: 1; border-radius: 0.35em; box-decoration-break: clone; -webkit-box-decoration-break: clone\">\n",
       "    Kinjo\n",
       "    <span style=\"font-size: 0.8em; font-weight: bold; line-height: 1; border-radius: 0.35em; text-transform: uppercase; vertical-align: middle; margin-left: 0.5rem\">ORG</span>\n",
       "</mark>\n",
       "'s namesake restaurant reflects his devotion.  He obviously eats and sleeps his business.  He's doing what he loves and I hope that until he decides to retire, he and his restaurants continue to find success.</br> </br>Food:  \n",
       "<mark class=\"entity\" style=\"background: #e4e7d2; padding: 0.45em 0.6em; margin: 0 0.25em; line-height: 1; border-radius: 0.35em; box-decoration-break: clone; -webkit-box-decoration-break: clone\">\n",
       "    4/5\n",
       "    <span style=\"font-size: 0.8em; font-weight: bold; line-height: 1; border-radius: 0.35em; text-transform: uppercase; vertical-align: middle; margin-left: 0.5rem\">CARDINAL</span>\n",
       "</mark>\n",
       "</br>Service:  \n",
       "<mark class=\"entity\" style=\"background: #e4e7d2; padding: 0.45em 0.6em; margin: 0 0.25em; line-height: 1; border-radius: 0.35em; box-decoration-break: clone; -webkit-box-decoration-break: clone\">\n",
       "    3.5/5\n",
       "    <span style=\"font-size: 0.8em; font-weight: bold; line-height: 1; border-radius: 0.35em; text-transform: uppercase; vertical-align: middle; margin-left: 0.5rem\">CARDINAL</span>\n",
       "</mark>\n",
       "</br>Presentation:  \n",
       "<mark class=\"entity\" style=\"background: #e4e7d2; padding: 0.45em 0.6em; margin: 0 0.25em; line-height: 1; border-radius: 0.35em; box-decoration-break: clone; -webkit-box-decoration-break: clone\">\n",
       "    4/5\n",
       "    <span style=\"font-size: 0.8em; font-weight: bold; line-height: 1; border-radius: 0.35em; text-transform: uppercase; vertical-align: middle; margin-left: 0.5rem\">CARDINAL</span>\n",
       "</mark>\n",
       "</br>Value:  \n",
       "<mark class=\"entity\" style=\"background: #e4e7d2; padding: 0.45em 0.6em; margin: 0 0.25em; line-height: 1; border-radius: 0.35em; box-decoration-break: clone; -webkit-box-decoration-break: clone\">\n",
       "    5/5\n",
       "    <span style=\"font-size: 0.8em; font-weight: bold; line-height: 1; border-radius: 0.35em; text-transform: uppercase; vertical-align: middle; margin-left: 0.5rem\">CARDINAL</span>\n",
       "</mark>\n",
       "</br>Recommendation:  \n",
       "<mark class=\"entity\" style=\"background: #e4e7d2; padding: 0.45em 0.6em; margin: 0 0.25em; line-height: 1; border-radius: 0.35em; box-decoration-break: clone; -webkit-box-decoration-break: clone\">\n",
       "    4/5\n",
       "    <span style=\"font-size: 0.8em; font-weight: bold; line-height: 1; border-radius: 0.35em; text-transform: uppercase; vertical-align: middle; margin-left: 0.5rem\">CARDINAL</span>\n",
       "</mark>\n",
       "\n",
       "</div>"
      ],
      "text/plain": [
       "<IPython.core.display.HTML object>"
      ]
     },
     "metadata": {},
     "output_type": "display_data"
    }
   ],
   "source": [
    "displacy.render(parsed_review, style=\"ent\")"
   ]
  },
  {
   "cell_type": "code",
   "execution_count": 14,
   "metadata": {
    "ExecuteTime": {
     "end_time": "2020-02-04T18:51:30.687432Z",
     "start_time": "2020-02-04T18:51:30.669828Z"
    },
    "scrolled": true
   },
   "outputs": [
    {
     "name": "stdout",
     "output_type": "stream",
     "text": [
      "Entity 1: Kinjo - ORG\n",
      "\n",
      "Entity 2: first - ORDINAL\n",
      "\n",
      "Entity 3: 900 km - QUANTITY\n",
      "\n",
      "Entity 4: Kinjo - ORG\n",
      "\n",
      "Entity 5: Kinjos - ORG\n",
      "\n",
      "Entity 6: Calgary - GPE\n",
      "\n",
      "Entity 7: Thunderdome - GPE\n",
      "\n",
      "Entity 8: Aunty - NORP\n",
      "\n",
      "Entity 9: Silence of the Lambs - WORK_OF_ART\n",
      "\n",
      "Entity 10: three - CARDINAL\n",
      "\n",
      "Entity 11: second - ORDINAL\n",
      "\n",
      "Entity 12: Pink Floyd's - ORG\n",
      "\n",
      "Entity 13: Kinjo - ORG\n",
      "\n",
      "Entity 14: Peter Kinjo - PERSON\n",
      "\n",
      "Entity 15: that day - DATE\n",
      "\n",
      "Entity 16: Peter - PERSON\n",
      "\n",
      "Entity 17: one - CARDINAL\n",
      "\n",
      "Entity 18: Edo Japan - ORG\n",
      "\n",
      "Entity 19: Vancouver - GPE\n",
      "\n",
      "Entity 20: Saskatoon - GPE\n",
      "\n",
      "Entity 21: over a hundred - CARDINAL\n",
      "\n",
      "Entity 22: Peter - PERSON\n",
      "\n",
      "Entity 23: Calgary - GPE\n",
      "\n",
      "Entity 24: Canada - GPE\n",
      "\n",
      "Entity 25: China - GPE\n",
      "\n",
      "Entity 26: Canada - GPE\n",
      "\n",
      "Entity 27: Kinjo - ORG\n",
      "\n",
      "Entity 28: one - CARDINAL\n",
      "\n",
      "Entity 29: Lucile Ball - FAC\n",
      "\n",
      "Entity 30: Laser Floyd - ORG\n",
      "\n",
      "Entity 31: Teletubbie - PERSON\n",
      "\n",
      "Entity 32: Guangzhou - GPE\n",
      "\n",
      "Entity 33: Kinjo - GPE\n",
      "\n",
      "Entity 34: twenty - CARDINAL\n",
      "\n",
      "Entity 35: Kinjo - ORG\n",
      "\n",
      "Entity 36: three - CARDINAL\n",
      "\n",
      "Entity 37: a million - CARDINAL\n",
      "\n",
      "Entity 38: his first year - DATE\n",
      "\n",
      "Entity 39: eight - CARDINAL\n",
      "\n",
      "Entity 40: weekday - DATE\n",
      "\n",
      "Entity 41: One - CARDINAL\n",
      "\n",
      "Entity 42: two - CARDINAL\n",
      "\n",
      "Entity 43: Asian - NORP\n",
      "\n",
      "Entity 44: Trek - PRODUCT\n",
      "\n",
      "Entity 45: Kinjo - ORG\n",
      "\n",
      "Entity 46: 4/5 - CARDINAL\n",
      "\n",
      "Entity 47: 3.5/5 - CARDINAL\n",
      "\n",
      "Entity 48: 4/5 - CARDINAL\n",
      "\n",
      "Entity 49: 5/5 - CARDINAL\n",
      "\n",
      "Entity 50: 4/5 - CARDINAL\n",
      "\n"
     ]
    }
   ],
   "source": [
    "for num, entity in enumerate(parsed_review.ents):\n",
    "    print(f'Entity {num + 1}:', entity, '-', entity.label_)\n",
    "    print('')"
   ]
  },
  {
   "cell_type": "markdown",
   "metadata": {},
   "source": [
    "What about token-level entity analysis?"
   ]
  },
  {
   "cell_type": "code",
   "execution_count": 15,
   "metadata": {
    "ExecuteTime": {
     "end_time": "2020-02-04T18:51:30.724787Z",
     "start_time": "2020-02-04T18:51:30.692874Z"
    }
   },
   "outputs": [
    {
     "data": {
      "text/html": [
       "<div>\n",
       "<style scoped>\n",
       "    .dataframe tbody tr th:only-of-type {\n",
       "        vertical-align: middle;\n",
       "    }\n",
       "\n",
       "    .dataframe tbody tr th {\n",
       "        vertical-align: top;\n",
       "    }\n",
       "\n",
       "    .dataframe thead th {\n",
       "        text-align: right;\n",
       "    }\n",
       "</style>\n",
       "<table border=\"1\" class=\"dataframe\">\n",
       "  <thead>\n",
       "    <tr style=\"text-align: right;\">\n",
       "      <th></th>\n",
       "      <th>token_text</th>\n",
       "      <th>entity_type</th>\n",
       "      <th>inside_outside_begin</th>\n",
       "    </tr>\n",
       "  </thead>\n",
       "  <tbody>\n",
       "    <tr>\n",
       "      <th>0</th>\n",
       "      <td>Kinjo</td>\n",
       "      <td>ORG</td>\n",
       "      <td>B</td>\n",
       "    </tr>\n",
       "    <tr>\n",
       "      <th>1</th>\n",
       "      <td>is</td>\n",
       "      <td></td>\n",
       "      <td>O</td>\n",
       "    </tr>\n",
       "    <tr>\n",
       "      <th>2</th>\n",
       "      <td>a</td>\n",
       "      <td></td>\n",
       "      <td>O</td>\n",
       "    </tr>\n",
       "    <tr>\n",
       "      <th>3</th>\n",
       "      <td>breath</td>\n",
       "      <td></td>\n",
       "      <td>O</td>\n",
       "    </tr>\n",
       "    <tr>\n",
       "      <th>4</th>\n",
       "      <td>of</td>\n",
       "      <td></td>\n",
       "      <td>O</td>\n",
       "    </tr>\n",
       "    <tr>\n",
       "      <th>5</th>\n",
       "      <td>fresh</td>\n",
       "      <td></td>\n",
       "      <td>O</td>\n",
       "    </tr>\n",
       "    <tr>\n",
       "      <th>6</th>\n",
       "      <td>sushi</td>\n",
       "      <td></td>\n",
       "      <td>O</td>\n",
       "    </tr>\n",
       "    <tr>\n",
       "      <th>7</th>\n",
       "      <td>,</td>\n",
       "      <td></td>\n",
       "      <td>O</td>\n",
       "    </tr>\n",
       "    <tr>\n",
       "      <th>8</th>\n",
       "      <td>the</td>\n",
       "      <td></td>\n",
       "      <td>O</td>\n",
       "    </tr>\n",
       "    <tr>\n",
       "      <th>9</th>\n",
       "      <td>first</td>\n",
       "      <td>ORDINAL</td>\n",
       "      <td>B</td>\n",
       "    </tr>\n",
       "    <tr>\n",
       "      <th>10</th>\n",
       "      <td>lungful</td>\n",
       "      <td></td>\n",
       "      <td>O</td>\n",
       "    </tr>\n",
       "    <tr>\n",
       "      <th>11</th>\n",
       "      <td>in</td>\n",
       "      <td></td>\n",
       "      <td>O</td>\n",
       "    </tr>\n",
       "    <tr>\n",
       "      <th>12</th>\n",
       "      <td>a</td>\n",
       "      <td></td>\n",
       "      <td>O</td>\n",
       "    </tr>\n",
       "    <tr>\n",
       "      <th>13</th>\n",
       "      <td>long</td>\n",
       "      <td></td>\n",
       "      <td>O</td>\n",
       "    </tr>\n",
       "    <tr>\n",
       "      <th>14</th>\n",
       "      <td>time</td>\n",
       "      <td></td>\n",
       "      <td>O</td>\n",
       "    </tr>\n",
       "    <tr>\n",
       "      <th>15</th>\n",
       "      <td>,</td>\n",
       "      <td></td>\n",
       "      <td>O</td>\n",
       "    </tr>\n",
       "    <tr>\n",
       "      <th>16</th>\n",
       "      <td>one</td>\n",
       "      <td></td>\n",
       "      <td>O</td>\n",
       "    </tr>\n",
       "    <tr>\n",
       "      <th>17</th>\n",
       "      <td>I</td>\n",
       "      <td></td>\n",
       "      <td>O</td>\n",
       "    </tr>\n",
       "    <tr>\n",
       "      <th>18</th>\n",
       "      <td>would</td>\n",
       "      <td></td>\n",
       "      <td>O</td>\n",
       "    </tr>\n",
       "    <tr>\n",
       "      <th>19</th>\n",
       "      <td>frequent</td>\n",
       "      <td></td>\n",
       "      <td>O</td>\n",
       "    </tr>\n",
       "    <tr>\n",
       "      <th>20</th>\n",
       "      <td>if</td>\n",
       "      <td></td>\n",
       "      <td>O</td>\n",
       "    </tr>\n",
       "    <tr>\n",
       "      <th>21</th>\n",
       "      <td>my</td>\n",
       "      <td></td>\n",
       "      <td>O</td>\n",
       "    </tr>\n",
       "    <tr>\n",
       "      <th>22</th>\n",
       "      <td>home</td>\n",
       "      <td></td>\n",
       "      <td>O</td>\n",
       "    </tr>\n",
       "    <tr>\n",
       "      <th>23</th>\n",
       "      <td>was</td>\n",
       "      <td></td>\n",
       "      <td>O</td>\n",
       "    </tr>\n",
       "    <tr>\n",
       "      <th>24</th>\n",
       "      <td>n't</td>\n",
       "      <td></td>\n",
       "      <td>O</td>\n",
       "    </tr>\n",
       "    <tr>\n",
       "      <th>25</th>\n",
       "      <td>900</td>\n",
       "      <td>QUANTITY</td>\n",
       "      <td>B</td>\n",
       "    </tr>\n",
       "    <tr>\n",
       "      <th>26</th>\n",
       "      <td>km</td>\n",
       "      <td>QUANTITY</td>\n",
       "      <td>I</td>\n",
       "    </tr>\n",
       "    <tr>\n",
       "      <th>27</th>\n",
       "      <td>away</td>\n",
       "      <td></td>\n",
       "      <td>O</td>\n",
       "    </tr>\n",
       "    <tr>\n",
       "      <th>28</th>\n",
       "      <td>.</td>\n",
       "      <td></td>\n",
       "      <td>O</td>\n",
       "    </tr>\n",
       "    <tr>\n",
       "      <th>29</th>\n",
       "      <td></td>\n",
       "      <td></td>\n",
       "      <td>O</td>\n",
       "    </tr>\n",
       "    <tr>\n",
       "      <th>...</th>\n",
       "      <td>...</td>\n",
       "      <td>...</td>\n",
       "      <td>...</td>\n",
       "    </tr>\n",
       "    <tr>\n",
       "      <th>931</th>\n",
       "      <td>to</td>\n",
       "      <td></td>\n",
       "      <td>O</td>\n",
       "    </tr>\n",
       "    <tr>\n",
       "      <th>932</th>\n",
       "      <td>find</td>\n",
       "      <td></td>\n",
       "      <td>O</td>\n",
       "    </tr>\n",
       "    <tr>\n",
       "      <th>933</th>\n",
       "      <td>success</td>\n",
       "      <td></td>\n",
       "      <td>O</td>\n",
       "    </tr>\n",
       "    <tr>\n",
       "      <th>934</th>\n",
       "      <td>.</td>\n",
       "      <td></td>\n",
       "      <td>O</td>\n",
       "    </tr>\n",
       "    <tr>\n",
       "      <th>935</th>\n",
       "      <td>\\n \\n</td>\n",
       "      <td></td>\n",
       "      <td>O</td>\n",
       "    </tr>\n",
       "    <tr>\n",
       "      <th>936</th>\n",
       "      <td>Food</td>\n",
       "      <td></td>\n",
       "      <td>O</td>\n",
       "    </tr>\n",
       "    <tr>\n",
       "      <th>937</th>\n",
       "      <td>:</td>\n",
       "      <td></td>\n",
       "      <td>O</td>\n",
       "    </tr>\n",
       "    <tr>\n",
       "      <th>938</th>\n",
       "      <td></td>\n",
       "      <td></td>\n",
       "      <td>O</td>\n",
       "    </tr>\n",
       "    <tr>\n",
       "      <th>939</th>\n",
       "      <td>4/5</td>\n",
       "      <td>CARDINAL</td>\n",
       "      <td>B</td>\n",
       "    </tr>\n",
       "    <tr>\n",
       "      <th>940</th>\n",
       "      <td>\\n</td>\n",
       "      <td></td>\n",
       "      <td>O</td>\n",
       "    </tr>\n",
       "    <tr>\n",
       "      <th>941</th>\n",
       "      <td>Service</td>\n",
       "      <td></td>\n",
       "      <td>O</td>\n",
       "    </tr>\n",
       "    <tr>\n",
       "      <th>942</th>\n",
       "      <td>:</td>\n",
       "      <td></td>\n",
       "      <td>O</td>\n",
       "    </tr>\n",
       "    <tr>\n",
       "      <th>943</th>\n",
       "      <td></td>\n",
       "      <td></td>\n",
       "      <td>O</td>\n",
       "    </tr>\n",
       "    <tr>\n",
       "      <th>944</th>\n",
       "      <td>3.5/5</td>\n",
       "      <td>CARDINAL</td>\n",
       "      <td>B</td>\n",
       "    </tr>\n",
       "    <tr>\n",
       "      <th>945</th>\n",
       "      <td>\\n</td>\n",
       "      <td></td>\n",
       "      <td>O</td>\n",
       "    </tr>\n",
       "    <tr>\n",
       "      <th>946</th>\n",
       "      <td>Presentation</td>\n",
       "      <td></td>\n",
       "      <td>O</td>\n",
       "    </tr>\n",
       "    <tr>\n",
       "      <th>947</th>\n",
       "      <td>:</td>\n",
       "      <td></td>\n",
       "      <td>O</td>\n",
       "    </tr>\n",
       "    <tr>\n",
       "      <th>948</th>\n",
       "      <td></td>\n",
       "      <td></td>\n",
       "      <td>O</td>\n",
       "    </tr>\n",
       "    <tr>\n",
       "      <th>949</th>\n",
       "      <td>4/5</td>\n",
       "      <td>CARDINAL</td>\n",
       "      <td>B</td>\n",
       "    </tr>\n",
       "    <tr>\n",
       "      <th>950</th>\n",
       "      <td>\\n</td>\n",
       "      <td></td>\n",
       "      <td>O</td>\n",
       "    </tr>\n",
       "    <tr>\n",
       "      <th>951</th>\n",
       "      <td>Value</td>\n",
       "      <td></td>\n",
       "      <td>O</td>\n",
       "    </tr>\n",
       "    <tr>\n",
       "      <th>952</th>\n",
       "      <td>:</td>\n",
       "      <td></td>\n",
       "      <td>O</td>\n",
       "    </tr>\n",
       "    <tr>\n",
       "      <th>953</th>\n",
       "      <td></td>\n",
       "      <td></td>\n",
       "      <td>O</td>\n",
       "    </tr>\n",
       "    <tr>\n",
       "      <th>954</th>\n",
       "      <td>5/5</td>\n",
       "      <td>CARDINAL</td>\n",
       "      <td>B</td>\n",
       "    </tr>\n",
       "    <tr>\n",
       "      <th>955</th>\n",
       "      <td>\\n</td>\n",
       "      <td></td>\n",
       "      <td>O</td>\n",
       "    </tr>\n",
       "    <tr>\n",
       "      <th>956</th>\n",
       "      <td>Recommendation</td>\n",
       "      <td></td>\n",
       "      <td>O</td>\n",
       "    </tr>\n",
       "    <tr>\n",
       "      <th>957</th>\n",
       "      <td>:</td>\n",
       "      <td></td>\n",
       "      <td>O</td>\n",
       "    </tr>\n",
       "    <tr>\n",
       "      <th>958</th>\n",
       "      <td></td>\n",
       "      <td></td>\n",
       "      <td>O</td>\n",
       "    </tr>\n",
       "    <tr>\n",
       "      <th>959</th>\n",
       "      <td>4/5</td>\n",
       "      <td>CARDINAL</td>\n",
       "      <td>B</td>\n",
       "    </tr>\n",
       "    <tr>\n",
       "      <th>960</th>\n",
       "      <td>\\n</td>\n",
       "      <td></td>\n",
       "      <td>O</td>\n",
       "    </tr>\n",
       "  </tbody>\n",
       "</table>\n",
       "<p>961 rows × 3 columns</p>\n",
       "</div>"
      ],
      "text/plain": [
       "         token_text entity_type inside_outside_begin\n",
       "0             Kinjo         ORG                    B\n",
       "1                is                                O\n",
       "2                 a                                O\n",
       "3            breath                                O\n",
       "4                of                                O\n",
       "..              ...         ...                  ...\n",
       "956  Recommendation                                O\n",
       "957               :                                O\n",
       "958                                                O\n",
       "959             4/5    CARDINAL                    B\n",
       "960              \\n                                O\n",
       "\n",
       "[961 rows x 3 columns]"
      ]
     },
     "execution_count": 15,
     "metadata": {},
     "output_type": "execute_result"
    }
   ],
   "source": [
    "token_entity_type = [token.ent_type_ for token in parsed_review]\n",
    "token_entity_iob = [token.ent_iob_ for token in parsed_review]\n",
    "\n",
    "pd.DataFrame(\n",
    "    zip(token_text, token_entity_type, token_entity_iob),\n",
    "    columns=['token_text', 'entity_type', 'inside_outside_begin']\n",
    "    )"
   ]
  },
  {
   "cell_type": "markdown",
   "metadata": {},
   "source": [
    "What about a variety of other token-level attributes, such as the relative frequency of tokens, and whether or not a token matches any of these categories?\n",
    "- stopword\n",
    "- punctuation\n",
    "- whitespace\n",
    "- represents a number\n",
    "- whether or not the token is included in spaCy's default vocabulary?"
   ]
  },
  {
   "cell_type": "code",
   "execution_count": 16,
   "metadata": {
    "ExecuteTime": {
     "end_time": "2020-02-04T18:51:30.824046Z",
     "start_time": "2020-02-04T18:51:30.730294Z"
    },
    "jupyter": {
     "outputs_hidden": false
    }
   },
   "outputs": [
    {
     "data": {
      "text/html": [
       "<div>\n",
       "<style scoped>\n",
       "    .dataframe tbody tr th:only-of-type {\n",
       "        vertical-align: middle;\n",
       "    }\n",
       "\n",
       "    .dataframe tbody tr th {\n",
       "        vertical-align: top;\n",
       "    }\n",
       "\n",
       "    .dataframe thead th {\n",
       "        text-align: right;\n",
       "    }\n",
       "</style>\n",
       "<table border=\"1\" class=\"dataframe\">\n",
       "  <thead>\n",
       "    <tr style=\"text-align: right;\">\n",
       "      <th></th>\n",
       "      <th>text</th>\n",
       "      <th>log_probability</th>\n",
       "      <th>stop?</th>\n",
       "      <th>punctuation?</th>\n",
       "      <th>whitespace?</th>\n",
       "      <th>number?</th>\n",
       "      <th>out of vocab.?</th>\n",
       "    </tr>\n",
       "  </thead>\n",
       "  <tbody>\n",
       "    <tr>\n",
       "      <th>0</th>\n",
       "      <td>Kinjo</td>\n",
       "      <td>-18.924250</td>\n",
       "      <td></td>\n",
       "      <td></td>\n",
       "      <td></td>\n",
       "      <td></td>\n",
       "      <td></td>\n",
       "    </tr>\n",
       "    <tr>\n",
       "      <th>1</th>\n",
       "      <td>is</td>\n",
       "      <td>-4.457749</td>\n",
       "      <td>Yes</td>\n",
       "      <td></td>\n",
       "      <td></td>\n",
       "      <td></td>\n",
       "      <td></td>\n",
       "    </tr>\n",
       "    <tr>\n",
       "      <th>2</th>\n",
       "      <td>a</td>\n",
       "      <td>-3.929788</td>\n",
       "      <td>Yes</td>\n",
       "      <td></td>\n",
       "      <td></td>\n",
       "      <td></td>\n",
       "      <td></td>\n",
       "    </tr>\n",
       "    <tr>\n",
       "      <th>3</th>\n",
       "      <td>breath</td>\n",
       "      <td>-10.806992</td>\n",
       "      <td></td>\n",
       "      <td></td>\n",
       "      <td></td>\n",
       "      <td></td>\n",
       "      <td></td>\n",
       "    </tr>\n",
       "    <tr>\n",
       "      <th>4</th>\n",
       "      <td>of</td>\n",
       "      <td>-4.275874</td>\n",
       "      <td>Yes</td>\n",
       "      <td></td>\n",
       "      <td></td>\n",
       "      <td></td>\n",
       "      <td></td>\n",
       "    </tr>\n",
       "    <tr>\n",
       "      <th>5</th>\n",
       "      <td>fresh</td>\n",
       "      <td>-10.332080</td>\n",
       "      <td></td>\n",
       "      <td></td>\n",
       "      <td></td>\n",
       "      <td></td>\n",
       "      <td></td>\n",
       "    </tr>\n",
       "    <tr>\n",
       "      <th>6</th>\n",
       "      <td>sushi</td>\n",
       "      <td>-12.298863</td>\n",
       "      <td></td>\n",
       "      <td></td>\n",
       "      <td></td>\n",
       "      <td></td>\n",
       "      <td></td>\n",
       "    </tr>\n",
       "    <tr>\n",
       "      <th>7</th>\n",
       "      <td>,</td>\n",
       "      <td>-3.454960</td>\n",
       "      <td></td>\n",
       "      <td>Yes</td>\n",
       "      <td></td>\n",
       "      <td></td>\n",
       "      <td></td>\n",
       "    </tr>\n",
       "    <tr>\n",
       "      <th>8</th>\n",
       "      <td>the</td>\n",
       "      <td>-3.528767</td>\n",
       "      <td>Yes</td>\n",
       "      <td></td>\n",
       "      <td></td>\n",
       "      <td></td>\n",
       "      <td></td>\n",
       "    </tr>\n",
       "    <tr>\n",
       "      <th>9</th>\n",
       "      <td>first</td>\n",
       "      <td>-7.063717</td>\n",
       "      <td>Yes</td>\n",
       "      <td></td>\n",
       "      <td></td>\n",
       "      <td></td>\n",
       "      <td></td>\n",
       "    </tr>\n",
       "    <tr>\n",
       "      <th>10</th>\n",
       "      <td>lungful</td>\n",
       "      <td>-17.231131</td>\n",
       "      <td></td>\n",
       "      <td></td>\n",
       "      <td></td>\n",
       "      <td></td>\n",
       "      <td></td>\n",
       "    </tr>\n",
       "    <tr>\n",
       "      <th>11</th>\n",
       "      <td>in</td>\n",
       "      <td>-4.619072</td>\n",
       "      <td>Yes</td>\n",
       "      <td></td>\n",
       "      <td></td>\n",
       "      <td></td>\n",
       "      <td></td>\n",
       "    </tr>\n",
       "    <tr>\n",
       "      <th>12</th>\n",
       "      <td>a</td>\n",
       "      <td>-3.929788</td>\n",
       "      <td>Yes</td>\n",
       "      <td></td>\n",
       "      <td></td>\n",
       "      <td></td>\n",
       "      <td></td>\n",
       "    </tr>\n",
       "    <tr>\n",
       "      <th>13</th>\n",
       "      <td>long</td>\n",
       "      <td>-7.544892</td>\n",
       "      <td></td>\n",
       "      <td></td>\n",
       "      <td></td>\n",
       "      <td></td>\n",
       "      <td></td>\n",
       "    </tr>\n",
       "    <tr>\n",
       "      <th>14</th>\n",
       "      <td>time</td>\n",
       "      <td>-6.378222</td>\n",
       "      <td></td>\n",
       "      <td></td>\n",
       "      <td></td>\n",
       "      <td></td>\n",
       "      <td></td>\n",
       "    </tr>\n",
       "    <tr>\n",
       "      <th>15</th>\n",
       "      <td>,</td>\n",
       "      <td>-3.454960</td>\n",
       "      <td></td>\n",
       "      <td>Yes</td>\n",
       "      <td></td>\n",
       "      <td></td>\n",
       "      <td></td>\n",
       "    </tr>\n",
       "    <tr>\n",
       "      <th>16</th>\n",
       "      <td>one</td>\n",
       "      <td>-5.996385</td>\n",
       "      <td>Yes</td>\n",
       "      <td></td>\n",
       "      <td></td>\n",
       "      <td>Yes</td>\n",
       "      <td></td>\n",
       "    </tr>\n",
       "    <tr>\n",
       "      <th>17</th>\n",
       "      <td>I</td>\n",
       "      <td>-3.791565</td>\n",
       "      <td>Yes</td>\n",
       "      <td></td>\n",
       "      <td></td>\n",
       "      <td></td>\n",
       "      <td></td>\n",
       "    </tr>\n",
       "    <tr>\n",
       "      <th>18</th>\n",
       "      <td>would</td>\n",
       "      <td>-5.772675</td>\n",
       "      <td>Yes</td>\n",
       "      <td></td>\n",
       "      <td></td>\n",
       "      <td></td>\n",
       "      <td></td>\n",
       "    </tr>\n",
       "    <tr>\n",
       "      <th>19</th>\n",
       "      <td>frequent</td>\n",
       "      <td>-11.423693</td>\n",
       "      <td></td>\n",
       "      <td></td>\n",
       "      <td></td>\n",
       "      <td></td>\n",
       "      <td></td>\n",
       "    </tr>\n",
       "    <tr>\n",
       "      <th>20</th>\n",
       "      <td>if</td>\n",
       "      <td>-5.763590</td>\n",
       "      <td>Yes</td>\n",
       "      <td></td>\n",
       "      <td></td>\n",
       "      <td></td>\n",
       "      <td></td>\n",
       "    </tr>\n",
       "    <tr>\n",
       "      <th>21</th>\n",
       "      <td>my</td>\n",
       "      <td>-5.491643</td>\n",
       "      <td>Yes</td>\n",
       "      <td></td>\n",
       "      <td></td>\n",
       "      <td></td>\n",
       "      <td></td>\n",
       "    </tr>\n",
       "    <tr>\n",
       "      <th>22</th>\n",
       "      <td>home</td>\n",
       "      <td>-8.316133</td>\n",
       "      <td></td>\n",
       "      <td></td>\n",
       "      <td></td>\n",
       "      <td></td>\n",
       "      <td></td>\n",
       "    </tr>\n",
       "    <tr>\n",
       "      <th>23</th>\n",
       "      <td>was</td>\n",
       "      <td>-5.252320</td>\n",
       "      <td>Yes</td>\n",
       "      <td></td>\n",
       "      <td></td>\n",
       "      <td></td>\n",
       "      <td></td>\n",
       "    </tr>\n",
       "    <tr>\n",
       "      <th>24</th>\n",
       "      <td>n't</td>\n",
       "      <td>-4.859939</td>\n",
       "      <td>Yes</td>\n",
       "      <td></td>\n",
       "      <td></td>\n",
       "      <td></td>\n",
       "      <td></td>\n",
       "    </tr>\n",
       "    <tr>\n",
       "      <th>25</th>\n",
       "      <td>900</td>\n",
       "      <td>-12.230844</td>\n",
       "      <td></td>\n",
       "      <td></td>\n",
       "      <td></td>\n",
       "      <td>Yes</td>\n",
       "      <td></td>\n",
       "    </tr>\n",
       "    <tr>\n",
       "      <th>26</th>\n",
       "      <td>km</td>\n",
       "      <td>-11.644526</td>\n",
       "      <td></td>\n",
       "      <td></td>\n",
       "      <td></td>\n",
       "      <td></td>\n",
       "      <td></td>\n",
       "    </tr>\n",
       "    <tr>\n",
       "      <th>27</th>\n",
       "      <td>away</td>\n",
       "      <td>-7.901746</td>\n",
       "      <td></td>\n",
       "      <td></td>\n",
       "      <td></td>\n",
       "      <td></td>\n",
       "      <td></td>\n",
       "    </tr>\n",
       "    <tr>\n",
       "      <th>28</th>\n",
       "      <td>.</td>\n",
       "      <td>-3.067898</td>\n",
       "      <td></td>\n",
       "      <td>Yes</td>\n",
       "      <td></td>\n",
       "      <td></td>\n",
       "      <td></td>\n",
       "    </tr>\n",
       "    <tr>\n",
       "      <th>29</th>\n",
       "      <td></td>\n",
       "      <td>-5.129165</td>\n",
       "      <td></td>\n",
       "      <td></td>\n",
       "      <td>Yes</td>\n",
       "      <td></td>\n",
       "      <td></td>\n",
       "    </tr>\n",
       "    <tr>\n",
       "      <th>...</th>\n",
       "      <td>...</td>\n",
       "      <td>...</td>\n",
       "      <td>...</td>\n",
       "      <td>...</td>\n",
       "      <td>...</td>\n",
       "      <td>...</td>\n",
       "      <td>...</td>\n",
       "    </tr>\n",
       "    <tr>\n",
       "      <th>931</th>\n",
       "      <td>to</td>\n",
       "      <td>-3.856022</td>\n",
       "      <td>Yes</td>\n",
       "      <td></td>\n",
       "      <td></td>\n",
       "      <td></td>\n",
       "      <td></td>\n",
       "    </tr>\n",
       "    <tr>\n",
       "      <th>932</th>\n",
       "      <td>find</td>\n",
       "      <td>-7.387213</td>\n",
       "      <td></td>\n",
       "      <td></td>\n",
       "      <td></td>\n",
       "      <td></td>\n",
       "      <td></td>\n",
       "    </tr>\n",
       "    <tr>\n",
       "      <th>933</th>\n",
       "      <td>success</td>\n",
       "      <td>-10.095770</td>\n",
       "      <td></td>\n",
       "      <td></td>\n",
       "      <td></td>\n",
       "      <td></td>\n",
       "      <td></td>\n",
       "    </tr>\n",
       "    <tr>\n",
       "      <th>934</th>\n",
       "      <td>.</td>\n",
       "      <td>-3.067898</td>\n",
       "      <td></td>\n",
       "      <td>Yes</td>\n",
       "      <td></td>\n",
       "      <td></td>\n",
       "      <td></td>\n",
       "    </tr>\n",
       "    <tr>\n",
       "      <th>935</th>\n",
       "      <td>\\n \\n</td>\n",
       "      <td>-10.618006</td>\n",
       "      <td></td>\n",
       "      <td></td>\n",
       "      <td>Yes</td>\n",
       "      <td></td>\n",
       "      <td></td>\n",
       "    </tr>\n",
       "    <tr>\n",
       "      <th>936</th>\n",
       "      <td>Food</td>\n",
       "      <td>-11.701742</td>\n",
       "      <td></td>\n",
       "      <td></td>\n",
       "      <td></td>\n",
       "      <td></td>\n",
       "      <td></td>\n",
       "    </tr>\n",
       "    <tr>\n",
       "      <th>937</th>\n",
       "      <td>:</td>\n",
       "      <td>-6.128876</td>\n",
       "      <td></td>\n",
       "      <td>Yes</td>\n",
       "      <td></td>\n",
       "      <td></td>\n",
       "      <td></td>\n",
       "    </tr>\n",
       "    <tr>\n",
       "      <th>938</th>\n",
       "      <td></td>\n",
       "      <td>-5.129165</td>\n",
       "      <td></td>\n",
       "      <td></td>\n",
       "      <td>Yes</td>\n",
       "      <td></td>\n",
       "      <td></td>\n",
       "    </tr>\n",
       "    <tr>\n",
       "      <th>939</th>\n",
       "      <td>4/5</td>\n",
       "      <td>-13.076561</td>\n",
       "      <td></td>\n",
       "      <td></td>\n",
       "      <td></td>\n",
       "      <td>Yes</td>\n",
       "      <td></td>\n",
       "    </tr>\n",
       "    <tr>\n",
       "      <th>940</th>\n",
       "      <td>\\n</td>\n",
       "      <td>-6.050651</td>\n",
       "      <td></td>\n",
       "      <td></td>\n",
       "      <td>Yes</td>\n",
       "      <td></td>\n",
       "      <td></td>\n",
       "    </tr>\n",
       "    <tr>\n",
       "      <th>941</th>\n",
       "      <td>Service</td>\n",
       "      <td>-12.037812</td>\n",
       "      <td></td>\n",
       "      <td></td>\n",
       "      <td></td>\n",
       "      <td></td>\n",
       "      <td></td>\n",
       "    </tr>\n",
       "    <tr>\n",
       "      <th>942</th>\n",
       "      <td>:</td>\n",
       "      <td>-6.128876</td>\n",
       "      <td></td>\n",
       "      <td>Yes</td>\n",
       "      <td></td>\n",
       "      <td></td>\n",
       "      <td></td>\n",
       "    </tr>\n",
       "    <tr>\n",
       "      <th>943</th>\n",
       "      <td></td>\n",
       "      <td>-5.129165</td>\n",
       "      <td></td>\n",
       "      <td></td>\n",
       "      <td>Yes</td>\n",
       "      <td></td>\n",
       "      <td></td>\n",
       "    </tr>\n",
       "    <tr>\n",
       "      <th>944</th>\n",
       "      <td>3.5/5</td>\n",
       "      <td>-17.058990</td>\n",
       "      <td></td>\n",
       "      <td></td>\n",
       "      <td></td>\n",
       "      <td>Yes</td>\n",
       "      <td></td>\n",
       "    </tr>\n",
       "    <tr>\n",
       "      <th>945</th>\n",
       "      <td>\\n</td>\n",
       "      <td>-6.050651</td>\n",
       "      <td></td>\n",
       "      <td></td>\n",
       "      <td>Yes</td>\n",
       "      <td></td>\n",
       "      <td></td>\n",
       "    </tr>\n",
       "    <tr>\n",
       "      <th>946</th>\n",
       "      <td>Presentation</td>\n",
       "      <td>-15.482309</td>\n",
       "      <td></td>\n",
       "      <td></td>\n",
       "      <td></td>\n",
       "      <td></td>\n",
       "      <td></td>\n",
       "    </tr>\n",
       "    <tr>\n",
       "      <th>947</th>\n",
       "      <td>:</td>\n",
       "      <td>-6.128876</td>\n",
       "      <td></td>\n",
       "      <td>Yes</td>\n",
       "      <td></td>\n",
       "      <td></td>\n",
       "      <td></td>\n",
       "    </tr>\n",
       "    <tr>\n",
       "      <th>948</th>\n",
       "      <td></td>\n",
       "      <td>-5.129165</td>\n",
       "      <td></td>\n",
       "      <td></td>\n",
       "      <td>Yes</td>\n",
       "      <td></td>\n",
       "      <td></td>\n",
       "    </tr>\n",
       "    <tr>\n",
       "      <th>949</th>\n",
       "      <td>4/5</td>\n",
       "      <td>-13.076561</td>\n",
       "      <td></td>\n",
       "      <td></td>\n",
       "      <td></td>\n",
       "      <td>Yes</td>\n",
       "      <td></td>\n",
       "    </tr>\n",
       "    <tr>\n",
       "      <th>950</th>\n",
       "      <td>\\n</td>\n",
       "      <td>-6.050651</td>\n",
       "      <td></td>\n",
       "      <td></td>\n",
       "      <td>Yes</td>\n",
       "      <td></td>\n",
       "      <td></td>\n",
       "    </tr>\n",
       "    <tr>\n",
       "      <th>951</th>\n",
       "      <td>Value</td>\n",
       "      <td>-12.870600</td>\n",
       "      <td></td>\n",
       "      <td></td>\n",
       "      <td></td>\n",
       "      <td></td>\n",
       "      <td></td>\n",
       "    </tr>\n",
       "    <tr>\n",
       "      <th>952</th>\n",
       "      <td>:</td>\n",
       "      <td>-6.128876</td>\n",
       "      <td></td>\n",
       "      <td>Yes</td>\n",
       "      <td></td>\n",
       "      <td></td>\n",
       "      <td></td>\n",
       "    </tr>\n",
       "    <tr>\n",
       "      <th>953</th>\n",
       "      <td></td>\n",
       "      <td>-5.129165</td>\n",
       "      <td></td>\n",
       "      <td></td>\n",
       "      <td>Yes</td>\n",
       "      <td></td>\n",
       "      <td></td>\n",
       "    </tr>\n",
       "    <tr>\n",
       "      <th>954</th>\n",
       "      <td>5/5</td>\n",
       "      <td>-12.816821</td>\n",
       "      <td></td>\n",
       "      <td></td>\n",
       "      <td></td>\n",
       "      <td>Yes</td>\n",
       "      <td></td>\n",
       "    </tr>\n",
       "    <tr>\n",
       "      <th>955</th>\n",
       "      <td>\\n</td>\n",
       "      <td>-6.050651</td>\n",
       "      <td></td>\n",
       "      <td></td>\n",
       "      <td>Yes</td>\n",
       "      <td></td>\n",
       "      <td></td>\n",
       "    </tr>\n",
       "    <tr>\n",
       "      <th>956</th>\n",
       "      <td>Recommendation</td>\n",
       "      <td>-14.966525</td>\n",
       "      <td></td>\n",
       "      <td></td>\n",
       "      <td></td>\n",
       "      <td></td>\n",
       "      <td></td>\n",
       "    </tr>\n",
       "    <tr>\n",
       "      <th>957</th>\n",
       "      <td>:</td>\n",
       "      <td>-6.128876</td>\n",
       "      <td></td>\n",
       "      <td>Yes</td>\n",
       "      <td></td>\n",
       "      <td></td>\n",
       "      <td></td>\n",
       "    </tr>\n",
       "    <tr>\n",
       "      <th>958</th>\n",
       "      <td></td>\n",
       "      <td>-5.129165</td>\n",
       "      <td></td>\n",
       "      <td></td>\n",
       "      <td>Yes</td>\n",
       "      <td></td>\n",
       "      <td></td>\n",
       "    </tr>\n",
       "    <tr>\n",
       "      <th>959</th>\n",
       "      <td>4/5</td>\n",
       "      <td>-13.076561</td>\n",
       "      <td></td>\n",
       "      <td></td>\n",
       "      <td></td>\n",
       "      <td>Yes</td>\n",
       "      <td></td>\n",
       "    </tr>\n",
       "    <tr>\n",
       "      <th>960</th>\n",
       "      <td>\\n</td>\n",
       "      <td>-6.050651</td>\n",
       "      <td></td>\n",
       "      <td></td>\n",
       "      <td>Yes</td>\n",
       "      <td></td>\n",
       "      <td></td>\n",
       "    </tr>\n",
       "  </tbody>\n",
       "</table>\n",
       "<p>961 rows × 7 columns</p>\n",
       "</div>"
      ],
      "text/plain": [
       "               text  log_probability stop? punctuation? whitespace? number?  \\\n",
       "0             Kinjo       -18.924250                                          \n",
       "1                is        -4.457749   Yes                                    \n",
       "2                 a        -3.929788   Yes                                    \n",
       "3            breath       -10.806992                                          \n",
       "4                of        -4.275874   Yes                                    \n",
       "..              ...              ...   ...          ...         ...     ...   \n",
       "956  Recommendation       -14.966525                                          \n",
       "957               :        -6.128876                Yes                       \n",
       "958                        -5.129165                            Yes           \n",
       "959             4/5       -13.076561                                    Yes   \n",
       "960              \\n        -6.050651                            Yes           \n",
       "\n",
       "    out of vocab.?  \n",
       "0                   \n",
       "1                   \n",
       "2                   \n",
       "3                   \n",
       "4                   \n",
       "..             ...  \n",
       "956                 \n",
       "957                 \n",
       "958                 \n",
       "959                 \n",
       "960                 \n",
       "\n",
       "[961 rows x 7 columns]"
      ]
     },
     "execution_count": 16,
     "metadata": {},
     "output_type": "execute_result"
    }
   ],
   "source": [
    "token_attributes = [\n",
    "        (\n",
    "        token.orth_,\n",
    "        token.prob,\n",
    "        token.is_stop,\n",
    "        token.is_punct,\n",
    "        token.is_space,\n",
    "        token.like_num,\n",
    "        token.is_oov\n",
    "        ) for token in parsed_review\n",
    "    ]\n",
    "\n",
    "df = pd.DataFrame(\n",
    "    token_attributes,\n",
    "    columns=[\n",
    "        'text',\n",
    "        'log_probability',\n",
    "        'stop?',\n",
    "        'punctuation?',\n",
    "        'whitespace?',\n",
    "        'number?',\n",
    "        'out of vocab.?'\n",
    "        ]\n",
    "    )\n",
    "\n",
    "df.loc[:, 'stop?':'out of vocab.?'] = (\n",
    "    df\n",
    "    .loc[:, 'stop?':'out of vocab.?']\n",
    "    .applymap(lambda x: 'Yes' if x else '')\n",
    "    )\n",
    "                                               \n",
    "df"
   ]
  },
  {
   "cell_type": "markdown",
   "metadata": {},
   "source": [
    "If the text you'd like to process is general-purpose English language text (i.e., not domain-specific, like medical literature), spaCy is ready to use out-of-the-box.\n",
    "\n",
    "I think it will eventually become a core part of the Python data science ecosystem &mdash; it will do for natural language computing what other great libraries have done for numerical computing."
   ]
  },
  {
   "cell_type": "markdown",
   "metadata": {},
   "source": [
    "## Phrase Modeling"
   ]
  },
  {
   "cell_type": "markdown",
   "metadata": {},
   "source": [
    "_Phrase modeling_ is another approach to learning combinations of tokens that together represent meaningful multi-word concepts. We can develop phrase models by looping over the the words in our reviews and looking for words that _co-occur_ (i.e., appear one after another) together much more frequently than you would expect them to by random chance. The formula our phrase models will use to determine whether two tokens $A$ and $B$ constitute a phrase is:\n",
    "\n",
    "$$\\frac{count(A\\ B) - count_{min}}{count(A) * count(B)} * N > threshold$$\n",
    "\n",
    "...where:\n",
    "* $count(A)$ is the number of times token $A$ appears in the corpus\n",
    "* $count(B)$ is the number of times token $B$ appears in the corpus\n",
    "* $count(A\\ B)$ is the number of times the tokens $A\\ B$ appear in the corpus *in order*\n",
    "* $N$ is the total size of the corpus vocabulary\n",
    "* $count_{min}$ is a user-defined parameter to ensure that accepted phrases occur a minimum number of times\n",
    "* $threshold$ is a user-defined parameter to control how strong of a relationship between two tokens the model requires before accepting them as a phrase\n",
    "\n",
    "Once our phrase model has been trained on our corpus, we can apply it to new text. When our model encounters two tokens in new text that identifies as a phrase, it will merge the two into a single new token.\n",
    "\n",
    "Phrase modeling is superficially similar to named entity detection in that you would expect named entities to become phrases in the model (so _new york_ would become *new\\_york*). But you would also expect multi-word expressions that represent common concepts, but aren't specifically named entities (such as _happy hour_) to also become phrases in the model.\n",
    "\n",
    "We turn to the indispensible [**gensim**](https://radimrehurek.com/gensim/index.html) library to help us with phrase modeling &mdash; the [**Phrases**](https://radimrehurek.com/gensim/models/phrases.html) class in particular."
   ]
  },
  {
   "cell_type": "code",
   "execution_count": 17,
   "metadata": {
    "ExecuteTime": {
     "end_time": "2020-02-04T18:51:32.022916Z",
     "start_time": "2020-02-04T18:51:30.828818Z"
    }
   },
   "outputs": [],
   "source": [
    "from gensim.models.phrases import Phrases, Phraser\n",
    "from gensim.models.word2vec import LineSentence"
   ]
  },
  {
   "cell_type": "markdown",
   "metadata": {},
   "source": [
    "As we're performing phrase modeling, we'll be doing some iterative data transformation at the same time. Our roadmap for data preparation includes:\n",
    "\n",
    "1. Segment text of complete reviews into sentences & normalize text\n",
    "1. First-order phrase modeling $\\rightarrow$ _apply first-order phrase model to transform sentences_\n",
    "1. Second-order phrase modeling $\\rightarrow$ _apply second-order phrase model to transform sentences_\n",
    "1. Apply text normalization and second-order phrase model to text of complete reviews\n",
    "\n",
    "We'll use this transformed data as the input for some higher-level modeling approaches in the following sections."
   ]
  },
  {
   "cell_type": "markdown",
   "metadata": {},
   "source": [
    "First, let's define a few helper functions that we'll use for text normalization."
   ]
  },
  {
   "cell_type": "code",
   "execution_count": 18,
   "metadata": {
    "ExecuteTime": {
     "end_time": "2020-02-04T18:51:32.033742Z",
     "start_time": "2020-02-04T18:51:32.025238Z"
    }
   },
   "outputs": [],
   "source": [
    "def punct_space(token):\n",
    "    \"\"\"\n",
    "    helper function to eliminate tokens\n",
    "    that are pure punctuation or whitespace\n",
    "    \"\"\"\n",
    "    \n",
    "    return token.is_punct or token.is_space\n",
    "\n",
    "def pronoun_lemmatize(token):\n",
    "    \"\"\"\n",
    "    helper function to preserve pronouns and force lowercasing while lemmatizing\n",
    "    \"\"\"\n",
    "    \n",
    "    if token.lemma_ == '-PRON-':\n",
    "        return token.lower_\n",
    "    \n",
    "    else:\n",
    "        return token.lemma_.lower()\n",
    "\n",
    "def line_review(filename):\n",
    "    \"\"\"\n",
    "    generator function to read in reviews from the file\n",
    "    and un-escape the original line breaks in the text\n",
    "    \"\"\"\n",
    "    \n",
    "    with open(filename) as f:\n",
    "        for review in f:\n",
    "            yield review.replace('\\\\n', '\\n')"
   ]
  },
  {
   "cell_type": "markdown",
   "metadata": {},
   "source": [
    "Next, we will use spaCy to:\n",
    "\n",
    "- Iterate over the 4.2M reviews in the `review_txt_all.txt` file we created before\n",
    "- Segment the reviews into individual sentences\n",
    "- Remove punctuation and excess whitespace\n",
    "- Lemmatize the text\n",
    "\n",
    "... and do so with the benefit of multiprocessing, thanks to spaCy's `nlp.pipe()` function. We'll write this data back out to a new file (`sentence_lemmatized_all`), with one normalized sentence per line. During the process, we'll also preprocess the text from the full, non-sentence-segmented reviews the same way, and save it in a file called `review_lemmatized_all`.\n",
    "\n",
    "We'll use all of this data later for learning models."
   ]
  },
  {
   "cell_type": "code",
   "execution_count": 19,
   "metadata": {
    "ExecuteTime": {
     "end_time": "2020-02-04T18:51:32.042570Z",
     "start_time": "2020-02-04T18:51:32.036244Z"
    }
   },
   "outputs": [],
   "source": [
    "review_lemmatized_filepath = os.path.join(scratch_directory, 'review_lemmatized_all.txt')\n",
    "sentence_lemmatized_filepath = os.path.join(scratch_directory, 'sentence_lemmatized_all.txt')"
   ]
  },
  {
   "cell_type": "markdown",
   "metadata": {},
   "source": [
    ">⚠️ **Heads-up:** if you want to re-run the text preprocessing yourself, the next cell took me about **12 hours** to run to sentencize and lemmatize all the restaurant review text in the Yelp dataset."
   ]
  },
  {
   "cell_type": "code",
   "execution_count": null,
   "metadata": {
    "ExecuteTime": {
     "start_time": "2020-02-04T18:49:22.489Z"
    },
    "jupyter": {
     "outputs_hidden": false
    }
   },
   "outputs": [],
   "source": [
    "# this is a bit time consuming - set execute = True\n",
    "# if you want to execute data prep yourself.\n",
    "\n",
    "execute = True\n",
    "\n",
    "if execute:\n",
    "\n",
    "    with open(review_lemmatized_filepath, 'w') as review_file:\n",
    "        with open(sentence_lemmatized_filepath, 'w') as sentence_file:\n",
    "            \n",
    "            pipe = nlp.pipe(\n",
    "                line_review(review_txt_filepath),\n",
    "                batch_size=10000,\n",
    "                n_threads=8\n",
    "                )\n",
    "            \n",
    "            for parsed_review in pipe:\n",
    "                \n",
    "                # lemmatize the text of the review, removing punctuation and whitespace\n",
    "                lemmatized_review = ' '.join([\n",
    "                    pronoun_lemmatize(token)\n",
    "                    for token in parsed_review\n",
    "                    if not punct_space(token)\n",
    "                    ])\n",
    "                \n",
    "                # save the text from each lemmatized review as a new line in a file\n",
    "                review_file.write(lemmatized_review + '\\n')\n",
    "        \n",
    "                # iterate over each sentence in the review\n",
    "                for sent in parsed_review.sents:\n",
    "                    \n",
    "                    \n",
    "                    \n",
    "                    # lemmatize the text of each sentence\n",
    "                    lemmatized_sentence = ' '.join([\n",
    "                        pronoun_lemmatize(token)\n",
    "                        for token in sent\n",
    "                        if not punct_space(token)\n",
    "                        ])\n",
    "                    \n",
    "                    # save the text from each lemmatized sentence as a new line in a file\n",
    "                    sentence_file.write(lemmatized_sentence + '\\n')"
   ]
  },
  {
   "cell_type": "markdown",
   "metadata": {},
   "source": [
    "If your data is organized like our `sentence_lemmatized_all` file now is &mdash; a large text file with one document/sentence per line &mdash; gensim's [**LineSentence**](https://radimrehurek.com/gensim/models/word2vec.html#gensim.models.word2vec.LineSentence) class provides a convenient iterator for working with other gensim components. It *streams* the documents/sentences from disk, so that you never have to hold the entire corpus in RAM at once. This allows you to scale your modeling pipeline up to potentially very large corpora."
   ]
  },
  {
   "cell_type": "code",
   "execution_count": null,
   "metadata": {
    "ExecuteTime": {
     "start_time": "2020-02-04T18:49:22.492Z"
    },
    "jupyter": {
     "outputs_hidden": false
    }
   },
   "outputs": [],
   "source": [
    "sentences_unigrams = LineSentence(sentence_lemmatized_filepath)"
   ]
  },
  {
   "cell_type": "markdown",
   "metadata": {},
   "source": [
    "Let's take a look at a few sample sentences in our new, transformed file."
   ]
  },
  {
   "cell_type": "code",
   "execution_count": null,
   "metadata": {
    "ExecuteTime": {
     "start_time": "2020-02-04T18:49:22.496Z"
    },
    "jupyter": {
     "outputs_hidden": false
    }
   },
   "outputs": [],
   "source": [
    "for sentence_unigrams in it.islice(sentences_unigrams, 60, 70):\n",
    "    print(' '.join(sentence_unigrams))\n",
    "    print('')"
   ]
  },
  {
   "cell_type": "markdown",
   "metadata": {},
   "source": [
    "Next, we'll learn a phrase model that will link individual words into two-word phrases. We'd expect words that together represent a specific concept, like \"`pin ball`\", to be linked together to form a new, single token: \"`pin_ball`\"."
   ]
  },
  {
   "cell_type": "code",
   "execution_count": null,
   "metadata": {
    "ExecuteTime": {
     "start_time": "2020-02-04T18:49:22.499Z"
    }
   },
   "outputs": [],
   "source": [
    "bigram_model_filepath = os.path.join(scratch_directory, 'bigram_phrase_model')"
   ]
  },
  {
   "cell_type": "markdown",
   "metadata": {},
   "source": [
    ">⚠️ **Heads-up:** if you want to re-run the text preprocessing yourself, the next cell took me about **12 minutes** to run."
   ]
  },
  {
   "cell_type": "code",
   "execution_count": null,
   "metadata": {
    "ExecuteTime": {
     "start_time": "2020-02-04T18:49:22.502Z"
    },
    "jupyter": {
     "outputs_hidden": false
    }
   },
   "outputs": [],
   "source": [
    "# this is a bit time consuming - set execute = True\n",
    "# if you want to execute modeling yourself.\n",
    "\n",
    "execute = False\n",
    "\n",
    "if execute:\n",
    "\n",
    "    bigram_phrases = Phrases(sentences_unigrams)\n",
    "    \n",
    "    # Turn the finished Phrases model into a \"Phraser\" object,\n",
    "    # which is optimized for speed and memory use\n",
    "    bigram_phrases = Phraser(bigram_phrases)\n",
    "    bigram_phrases.save(bigram_model_filepath)"
   ]
  },
  {
   "cell_type": "code",
   "execution_count": null,
   "metadata": {
    "ExecuteTime": {
     "start_time": "2020-02-04T18:49:22.505Z"
    },
    "jupyter": {
     "outputs_hidden": false
    }
   },
   "outputs": [],
   "source": [
    "# load the finished model from disk\n",
    "bigram_phrases = Phraser.load(bigram_model_filepath)"
   ]
  },
  {
   "cell_type": "markdown",
   "metadata": {},
   "source": [
    "Now that we have a trained phrase model for word pairs, let's apply it to the review sentences data and explore the results."
   ]
  },
  {
   "cell_type": "code",
   "execution_count": null,
   "metadata": {
    "ExecuteTime": {
     "start_time": "2020-02-04T18:49:22.508Z"
    }
   },
   "outputs": [],
   "source": [
    "sentences_bigrams_filepath = os.path.join(scratch_directory, 'sentence_bigram_phrases_all.txt')"
   ]
  },
  {
   "cell_type": "markdown",
   "metadata": {},
   "source": [
    ">⚠️ **Heads-up:** if you want to re-run the text preprocessing yourself, the next cell took me about **17 minutes** to run."
   ]
  },
  {
   "cell_type": "code",
   "execution_count": null,
   "metadata": {
    "ExecuteTime": {
     "start_time": "2020-02-04T18:49:22.511Z"
    },
    "jupyter": {
     "outputs_hidden": false
    }
   },
   "outputs": [],
   "source": [
    "# this is a bit time consuming - set execute = True\n",
    "# if you want to execute data prep yourself.\n",
    "\n",
    "execute = False\n",
    "\n",
    "if execute:\n",
    "\n",
    "    with open(sentences_bigrams_filepath, 'w') as f:\n",
    "        \n",
    "        for sentence_unigrams in sentences_unigrams:\n",
    "            \n",
    "            sentence_bigrams = ' '.join(bigram_phrases[sentence_unigrams])\n",
    "            \n",
    "            f.write(sentence_bigrams + '\\n')"
   ]
  },
  {
   "cell_type": "code",
   "execution_count": null,
   "metadata": {
    "ExecuteTime": {
     "start_time": "2020-02-04T18:49:22.513Z"
    }
   },
   "outputs": [],
   "source": [
    "sentences_bigrams = LineSentence(sentences_bigrams_filepath)"
   ]
  },
  {
   "cell_type": "code",
   "execution_count": null,
   "metadata": {
    "ExecuteTime": {
     "start_time": "2020-02-04T18:49:22.516Z"
    },
    "jupyter": {
     "outputs_hidden": false
    }
   },
   "outputs": [],
   "source": [
    "for sentence_bigrams in it.islice(sentences_bigrams, 60, 70):\n",
    "    print(' '.join(sentence_bigrams))\n",
    "    print('')"
   ]
  },
  {
   "cell_type": "markdown",
   "metadata": {},
   "source": [
    "Looks like the phrase modeling worked! We now see two-word phrases, such as \"`pin_ball`\" and \"`saturday_morning`\", linked together in the text as a single token. Next, we'll train a _second-order_ phrase model. We'll apply the second-order phrase model on top of the already-transformed data, so that incomplete word combinations like \"`ms_pac man`\" will become fully joined to \"`ms_pac_man`\"."
   ]
  },
  {
   "cell_type": "code",
   "execution_count": null,
   "metadata": {
    "ExecuteTime": {
     "start_time": "2020-02-04T18:49:22.519Z"
    }
   },
   "outputs": [],
   "source": [
    "trigram_model_filepath = os.path.join(scratch_directory, 'trigram_phrase_model')"
   ]
  },
  {
   "cell_type": "code",
   "execution_count": null,
   "metadata": {
    "ExecuteTime": {
     "start_time": "2020-02-04T18:49:22.521Z"
    },
    "jupyter": {
     "outputs_hidden": false
    }
   },
   "outputs": [],
   "source": [
    "# this is a bit time consuming - set execute = True\n",
    "# if you want to execute modeling yourself.\n",
    "\n",
    "execute = False\n",
    "\n",
    "if execute:\n",
    "\n",
    "    trigram_phrases = Phrases(sentences_bigrams)\n",
    "    \n",
    "    # Turn the finished Phrases model into a \"Phraser\" object,\n",
    "    # which is optimized for speed and memory use\n",
    "    trigram_phrases = Phraser(trigram_phrases)\n",
    "    trigram_phrases.save(trigram_model_filepath)"
   ]
  },
  {
   "cell_type": "code",
   "execution_count": null,
   "metadata": {
    "ExecuteTime": {
     "start_time": "2020-02-04T18:49:22.524Z"
    },
    "jupyter": {
     "outputs_hidden": false
    }
   },
   "outputs": [],
   "source": [
    "# load the finished model from disk\n",
    "trigram_phrases = Phraser.load(trigram_model_filepath)"
   ]
  },
  {
   "cell_type": "markdown",
   "metadata": {},
   "source": [
    "We'll apply our trained second-order phrase model to our first-order transformed sentences, write the results out to a new file, and explore a few of the second-order transformed sentences."
   ]
  },
  {
   "cell_type": "code",
   "execution_count": null,
   "metadata": {
    "ExecuteTime": {
     "start_time": "2020-02-04T18:49:22.527Z"
    }
   },
   "outputs": [],
   "source": [
    "sentences_trigrams_filepath = os.path.join(scratch_directory, 'sentence_trigram_phrases_all.txt')"
   ]
  },
  {
   "cell_type": "code",
   "execution_count": null,
   "metadata": {
    "ExecuteTime": {
     "start_time": "2020-02-04T18:49:22.530Z"
    },
    "jupyter": {
     "outputs_hidden": false
    }
   },
   "outputs": [],
   "source": [
    "# this is a bit time consuming - set execute = True\n",
    "# if you want to execute data prep yourself.\n",
    "\n",
    "execute = False\n",
    "\n",
    "if execute:\n",
    "\n",
    "    with open(sentences_trigrams_filepath, 'w') as f:\n",
    "        \n",
    "        for sentence_bigrams in sentences_bigrams:\n",
    "            \n",
    "            sentence_trigrams = ' '.join(trigram_phrases[sentence_bigrams])\n",
    "            \n",
    "            f.write(sentence_trigrams + '\\n')"
   ]
  },
  {
   "cell_type": "code",
   "execution_count": null,
   "metadata": {
    "ExecuteTime": {
     "start_time": "2020-02-04T18:49:22.533Z"
    }
   },
   "outputs": [],
   "source": [
    "sentences_trigrams = LineSentence(sentences_trigrams_filepath)"
   ]
  },
  {
   "cell_type": "code",
   "execution_count": null,
   "metadata": {
    "ExecuteTime": {
     "start_time": "2020-02-04T18:49:22.535Z"
    },
    "jupyter": {
     "outputs_hidden": false
    }
   },
   "outputs": [],
   "source": [
    "for sentence_trigrams in it.islice(sentences_trigrams, 60, 70):\n",
    "    print(' '.join(sentence_trigrams))\n",
    "    print('')"
   ]
  },
  {
   "cell_type": "markdown",
   "metadata": {},
   "source": [
    "Looks like the second-order phrase model was successful. We're now seeing three-word phrases, such as \"`pin_ball_machine`\" and \"`ms_pac_man`\"."
   ]
  },
  {
   "cell_type": "markdown",
   "metadata": {},
   "source": [
    "The final step of our text preparation process circles back to the complete text of the reviews. We're going to run the complete text of the reviews through a pipeline that applies our text normalization and phrase models.\n",
    "\n",
    "In addition, we'll remove stopwords at this point. _Stopwords_ are very common words, like _a_, _the_, _and_, and so on, that serve functional roles in natural language, but typically don't contribute to the overall meaning of text. Filtering stopwords is a common procedure that allows higher-level NLP modeling techniques to focus on the words that carry more semantic weight.\n",
    "\n",
    "Finally, we'll write the transformed text out to a new file, with one review per line."
   ]
  },
  {
   "cell_type": "code",
   "execution_count": null,
   "metadata": {
    "ExecuteTime": {
     "start_time": "2020-02-04T18:49:22.539Z"
    }
   },
   "outputs": [],
   "source": [
    "review_trigrams_filepath = os.path.join(scratch_directory, 'review_trigrams_all.txt')"
   ]
  },
  {
   "cell_type": "markdown",
   "metadata": {},
   "source": [
    ">⚠️ **Heads-up:** if you want to re-run the text preprocessing yourself, the next cell took me about **30 minutes** to run."
   ]
  },
  {
   "cell_type": "code",
   "execution_count": null,
   "metadata": {
    "ExecuteTime": {
     "start_time": "2020-02-04T18:49:22.542Z"
    },
    "jupyter": {
     "outputs_hidden": false
    }
   },
   "outputs": [],
   "source": [
    "# this is a bit time consuming - set execute = True\n",
    "# if you want to execute data prep yourself.\n",
    "\n",
    "execute = False\n",
    "\n",
    "if execute:\n",
    "    \n",
    "    reviews_lemmatized = LineSentence(review_lemmatized_filepath)\n",
    "\n",
    "    with open(review_trigrams_filepath, 'w') as f:\n",
    "        \n",
    "        for review_unigrams in reviews_lemmatized:\n",
    "                        \n",
    "            # apply the first-order and second-order phrase models\n",
    "            review_bigrams = bigram_phrases[review_unigrams]\n",
    "            review_trigrams = trigram_phrases[review_bigrams]\n",
    "\n",
    "            # remove any remaining stopwords\n",
    "            review_trigrams = [\n",
    "                term\n",
    "                for term in review_trigrams\n",
    "                if term not in nlp.Defaults.stop_words\n",
    "                ]\n",
    "\n",
    "            # write the transformed review as a line in the new file\n",
    "            review_trigrams = ' '.join(review_trigrams)\n",
    "            f.write(review_trigrams + '\\n')"
   ]
  },
  {
   "cell_type": "markdown",
   "metadata": {},
   "source": [
    "Let's preview the results. We'll grab one review from the file with the original, untransformed text, grab the same review from the file with the normalized and transformed text, and compare the two."
   ]
  },
  {
   "cell_type": "code",
   "execution_count": null,
   "metadata": {
    "ExecuteTime": {
     "start_time": "2020-02-04T18:49:22.553Z"
    },
    "jupyter": {
     "outputs_hidden": false
    }
   },
   "outputs": [],
   "source": [
    "review_num = 20\n",
    "\n",
    "print('Original:' + '\\n')\n",
    "\n",
    "for review in it.islice(line_review(review_txt_filepath), review_num, review_num+1):\n",
    "    print(review)\n",
    "\n",
    "print('----' + '\\n')\n",
    "print('Transformed:' + '\\n')\n",
    "\n",
    "with open(review_trigrams_filepath) as f:\n",
    "    for review in it.islice(f, review_num, review_num+1):\n",
    "        print(review)"
   ]
  },
  {
   "cell_type": "markdown",
   "metadata": {},
   "source": [
    "You can see that most of the grammatical structure has been scrubbed from the text &mdash; capitalization, articles/conjunctions, punctuation, spacing, etc. However, much of the general semantic *meaning* is still present. Also, multi-word concepts such as \"`lettuce_wrap`\" and \"`intimate_setting`\" have been joined into single tokens, as expected. The review text is now ready for topic modeling. "
   ]
  },
  {
   "cell_type": "markdown",
   "metadata": {},
   "source": [
    "## Topic Modeling with Latent Dirichlet Allocation (_LDA_)"
   ]
  },
  {
   "cell_type": "markdown",
   "metadata": {},
   "source": [
    "*Topic modeling* is family of techniques that can be used to describe and summarize the documents in a corpus according to a set of latent \"topics\". For this demo, we'll be using [*Latent Dirichlet Allocation*](http://www.jmlr.org/papers/volume3/blei03a/blei03a.pdf) or LDA, a popular approach to topic modeling.\n",
    "\n",
    "In many conventional NLP applications, documents are represented a mixture of the individual tokens (words and phrases) they contain. In other words, a document is represented as a *vector* of token counts. There are two layers in this model &mdash; documents and tokens &mdash; and the size or dimensionality of the document vectors is the number of tokens in the corpus vocabulary. This approach has a number of disadvantages:\n",
    "* Document vectors tend to be large (one dimension for each token $\\Rightarrow$ lots of dimensions)\n",
    "* They also tend to be very sparse. Any given document only contains a small fraction of all tokens in the vocabulary, so most values in the document's token vector are 0.\n",
    "* The dimensions are fully indepedent from each other &mdash; there's no sense of connection between related tokens, such as _knife_ and _fork_.\n",
    "\n",
    "LDA injects a third layer into this conceptual model. Documents are represented as a mixture of a pre-defined number of *topics*, and the *topics* are represented as a mixture of the individual tokens in the vocabulary. The number of topics is a model hyperparameter selected by the practitioner. LDA makes a prior assumption that the (document, topic) and (topic, token) mixtures follow [*Dirichlet*](https://en.wikipedia.org/wiki/Dirichlet_distribution) probability distributions. This assumption encourages documents to consist mostly of a handful of topics, and topics to consist mostly of a modest set of the tokens."
   ]
  },
  {
   "cell_type": "markdown",
   "metadata": {},
   "source": [
    "![LDA](https://s3.amazonaws.com/skipgram-images/LDA.png)"
   ]
  },
  {
   "cell_type": "markdown",
   "metadata": {},
   "source": [
    "LDA is fully unsupervised. The topics are \"discovered\" automatically from the data by trying to maximize the likelihood of observing the documents in your corpus, given the modeling assumptions. They are expected to capture some latent structure and organization within the documents, and often have a meaningful human interpretation for people familiar with the subject material.\n",
    "\n",
    "We'll again turn to gensim to assist with data preparation and modeling. In particular, gensim offers a high-performance parallelized implementation of LDA with its [**LdaMulticore**](https://radimrehurek.com/gensim/models/ldamulticore.html) class."
   ]
  },
  {
   "cell_type": "code",
   "execution_count": null,
   "metadata": {
    "ExecuteTime": {
     "start_time": "2020-02-04T18:49:22.559Z"
    },
    "jupyter": {
     "outputs_hidden": false
    }
   },
   "outputs": [],
   "source": [
    "from gensim.corpora import Dictionary, MmCorpus\n",
    "from gensim.models.ldamulticore import LdaMulticore\n",
    "\n",
    "import pyLDAvis\n",
    "import pyLDAvis.gensim\n",
    "import warnings\n",
    "import pickle"
   ]
  },
  {
   "cell_type": "markdown",
   "metadata": {},
   "source": [
    "The first step to creating an LDA model is to learn the full vocabulary of the corpus to be modeled. We'll use gensim's [**Dictionary**](https://radimrehurek.com/gensim/corpora/dictionary.html) class for this."
   ]
  },
  {
   "cell_type": "code",
   "execution_count": null,
   "metadata": {
    "ExecuteTime": {
     "start_time": "2020-02-04T18:49:22.563Z"
    }
   },
   "outputs": [],
   "source": [
    "dictionary_filepath = os.path.join(scratch_directory, 'trigram_dict_all.dict')"
   ]
  },
  {
   "cell_type": "code",
   "execution_count": null,
   "metadata": {
    "ExecuteTime": {
     "start_time": "2020-02-04T18:49:22.565Z"
    },
    "jupyter": {
     "outputs_hidden": false
    }
   },
   "outputs": [],
   "source": [
    "# this is a bit time consuming - set execute = True\n",
    "# if you want to learn the dictionary yourself.\n",
    "\n",
    "execute = False\n",
    "\n",
    "if execute:\n",
    "\n",
    "    reviews_trigrams = LineSentence(review_trigrams_filepath)\n",
    "\n",
    "    # learn the dictionary by iterating over all of the reviews\n",
    "    dictionary_trigrams = Dictionary(reviews_trigrams)\n",
    "    \n",
    "    # filter tokens that are very rare or too common from\n",
    "    # the dictionary (filter_extremes) and reassign integer ids (compactify)\n",
    "    dictionary_trigrams.filter_extremes(no_below=20, no_above=0.4)\n",
    "    dictionary_trigrams.compactify()\n",
    "\n",
    "    dictionary_trigrams.save(dictionary_filepath)    "
   ]
  },
  {
   "cell_type": "code",
   "execution_count": null,
   "metadata": {
    "ExecuteTime": {
     "start_time": "2020-02-04T18:49:22.568Z"
    },
    "jupyter": {
     "outputs_hidden": false
    }
   },
   "outputs": [],
   "source": [
    "# load the finished dictionary from disk\n",
    "dictionary_trigrams = Dictionary.load(dictionary_filepath)"
   ]
  },
  {
   "cell_type": "markdown",
   "metadata": {},
   "source": [
    "Like many NLP techniques, LDA uses a simplifying assumption known as the [*bag-of-words* model](https://en.wikipedia.org/wiki/Bag-of-words_model). In the bag-of-words model, a document is represented by the counts of distinct terms that occur within it. Additional information, such as word order, is discarded. \n",
    "\n",
    "Using the gensim Dictionary we learned to generate a bag-of-words representation for each review. The `trigram_bow_generator` function implements this. We'll save the resulting bag-of-words reviews as a matrix.\n",
    "\n",
    "In the following code, \"bag-of-words\" is abbreviated as `bow`."
   ]
  },
  {
   "cell_type": "code",
   "execution_count": null,
   "metadata": {
    "ExecuteTime": {
     "start_time": "2020-02-04T18:49:22.572Z"
    }
   },
   "outputs": [],
   "source": [
    "bow_corpus_filepath = os.path.join(scratch_directory, 'bow_trigrams_corpus_all.mm')"
   ]
  },
  {
   "cell_type": "code",
   "execution_count": null,
   "metadata": {
    "ExecuteTime": {
     "start_time": "2020-02-04T18:49:22.575Z"
    }
   },
   "outputs": [],
   "source": [
    "def bow_generator(filepath):\n",
    "    \"\"\"\n",
    "    generator function to read reviews from a file\n",
    "    and yield a bag-of-words representation\n",
    "    \"\"\"\n",
    "    \n",
    "    for review in LineSentence(filepath):\n",
    "        yield dictionary_trigrams.doc2bow(review)"
   ]
  },
  {
   "cell_type": "markdown",
   "metadata": {},
   "source": [
    ">⚠️ **Heads-up:** if you want to re-run the text preprocessing yourself, the next cell took me about **5 minutes** to run."
   ]
  },
  {
   "cell_type": "code",
   "execution_count": null,
   "metadata": {
    "ExecuteTime": {
     "start_time": "2020-02-04T18:49:22.598Z"
    },
    "jupyter": {
     "outputs_hidden": false
    }
   },
   "outputs": [],
   "source": [
    "# this is a bit time consuming - set execute = True\n",
    "# if you want to build the bag-of-words corpus yourself.\n",
    "\n",
    "execute = False\n",
    "\n",
    "if execute:\n",
    "\n",
    "    # generate bag-of-words representations for\n",
    "    # all reviews and save them as a matrix\n",
    "    MmCorpus.serialize(\n",
    "        bow_corpus_filepath,\n",
    "        bow_generator(review_trigrams_filepath)\n",
    "        )"
   ]
  },
  {
   "cell_type": "code",
   "execution_count": null,
   "metadata": {
    "ExecuteTime": {
     "start_time": "2020-02-04T18:49:22.601Z"
    },
    "jupyter": {
     "outputs_hidden": false
    }
   },
   "outputs": [],
   "source": [
    "# load the finished bag-of-words corpus from disk\n",
    "trigram_bow_corpus = MmCorpus(bow_corpus_filepath)"
   ]
  },
  {
   "cell_type": "markdown",
   "metadata": {},
   "source": [
    "With the bag-of-words corpus, we're finally ready to learn our topic model from the reviews. We simply need to pass the bag-of-words matrix and Dictionary from our previous steps to `LdaMulticore` as inputs, along with the number of topics the model should learn. For this demo, we're asking for 50 topics."
   ]
  },
  {
   "cell_type": "code",
   "execution_count": null,
   "metadata": {
    "ExecuteTime": {
     "start_time": "2020-02-04T18:49:22.604Z"
    }
   },
   "outputs": [],
   "source": [
    "lda_model_filepath = os.path.join(scratch_directory, 'lda_model_all')"
   ]
  },
  {
   "cell_type": "markdown",
   "metadata": {},
   "source": [
    ">⚠️ **Heads-up:** if you want to re-run LDA modeling yourself, the next cell took me about **10 minutes** to run."
   ]
  },
  {
   "cell_type": "code",
   "execution_count": null,
   "metadata": {
    "ExecuteTime": {
     "start_time": "2020-02-04T18:49:22.608Z"
    },
    "jupyter": {
     "outputs_hidden": false
    }
   },
   "outputs": [],
   "source": [
    "# this is a bit time consuming - set execute = True\n",
    "# if you want to train the LDA model yourself.\n",
    "\n",
    "execute = False\n",
    "\n",
    "if execute:\n",
    "\n",
    "    with warnings.catch_warnings():\n",
    "        warnings.simplefilter('ignore')\n",
    "        \n",
    "        # workers => sets the parallelism, and should be\n",
    "        # set to your number of physical cores minus one\n",
    "        lda = LdaMulticore(\n",
    "            trigram_bow_corpus,\n",
    "            num_topics=50,\n",
    "            id2word=dictionary_trigrams,\n",
    "            workers=7\n",
    "            )\n",
    "    \n",
    "    lda.save(lda_model_filepath)"
   ]
  },
  {
   "cell_type": "code",
   "execution_count": null,
   "metadata": {
    "ExecuteTime": {
     "start_time": "2020-02-04T18:49:22.611Z"
    },
    "jupyter": {
     "outputs_hidden": false
    }
   },
   "outputs": [],
   "source": [
    "# load the finished LDA model from disk\n",
    "lda = LdaMulticore.load(lda_model_filepath)"
   ]
  },
  {
   "cell_type": "markdown",
   "metadata": {},
   "source": [
    "Our topic model is now trained and ready to use! Since each topic is represented as a mixture of tokens, you can manually inspect which tokens have been grouped together into which topics to try to understand the patterns the model has discovered in the data."
   ]
  },
  {
   "cell_type": "code",
   "execution_count": null,
   "metadata": {
    "ExecuteTime": {
     "start_time": "2020-02-04T18:49:22.615Z"
    }
   },
   "outputs": [],
   "source": [
    "def explore_topic(topic_number, topn=25):\n",
    "    \"\"\"\n",
    "    accept a user-supplied topic number and\n",
    "    print out a formatted list of the top terms\n",
    "    \"\"\"\n",
    "        \n",
    "    print(f'{\"term\":20} {\"frequency\"}' + '\\n')\n",
    "\n",
    "    for term, frequency in lda.show_topic(topic_number, topn=25):\n",
    "        print(f'{term:20} {round(frequency, 3):.3f}')"
   ]
  },
  {
   "cell_type": "code",
   "execution_count": null,
   "metadata": {
    "ExecuteTime": {
     "start_time": "2020-02-04T18:49:22.618Z"
    },
    "jupyter": {
     "outputs_hidden": false
    }
   },
   "outputs": [],
   "source": [
    "explore_topic(topic_number=0)"
   ]
  },
  {
   "cell_type": "markdown",
   "metadata": {},
   "source": [
    "The first topic has strong associations with words like *steak*, *cut*, *medium*, *steakhouse*, and *filet*, as well as a handful of more general words. You might call this the **Steak** topic!\n",
    "\n",
    "It's possible to go through and inspect each topic in the same way, and try to assign a human-interpretable label that captures the essence of each one. I've given it a shot for all 50 topics below."
   ]
  },
  {
   "cell_type": "code",
   "execution_count": null,
   "metadata": {
    "ExecuteTime": {
     "start_time": "2020-02-04T18:49:22.621Z"
    }
   },
   "outputs": [],
   "source": [
    "topic_names = {\n",
    "    0: 'steak',\n",
    "    1: 'menu & ordering',\n",
    "    2: 'mexican',\n",
    "    3: 'dessert',\n",
    "    4: 'vegetarian',\n",
    "    5: 'buffet',\n",
    "    6: 'italian',\n",
    "    7: 'thai',\n",
    "    8: 'taste',\n",
    "    9: 'customer service',\n",
    "    10: 'portions',\n",
    "    11: 'nightlife',\n",
    "    12: 'burger & fries',\n",
    "    13: 'classy ambience', #\n",
    "    14: 'long wait',\n",
    "    15: 'chicken',\n",
    "    16: 'sandwiches',\n",
    "    17: 'good serivce',\n",
    "    18: 'vegas hotel',\n",
    "    19: 'pizza',\n",
    "    20: 'salad',\n",
    "    21: 'bar vibe', #\n",
    "    22: 'meal experience', #\n",
    "    23: 'slow service',\n",
    "    24: 'brunch',\n",
    "    25: 'portion sizes',\n",
    "    26: 'beer, wings, sports',\n",
    "    27: 'breakfast',\n",
    "    28: 'miscellaneous',\n",
    "    29: 'non-English',\n",
    "    30: 'deli',\n",
    "    31: 'barbecue',\n",
    "    32: 'local business',\n",
    "    33: 'miscellaneous',\n",
    "    34: 'hole-in-the-wall',\n",
    "    35: 'asian',\n",
    "    36: 'specials',\n",
    "    37: 'coffeeshop',\n",
    "    38: 'prices',\n",
    "    39: 'flavor & texture',\n",
    "    40: 'noodles',\n",
    "    41: 'canadian',\n",
    "    42: 'highly recommended',\n",
    "    43: 'sushi',\n",
    "    44: 'ordering',\n",
    "    45: 'mediterranean',\n",
    "    46: 'decent value',\n",
    "    47: 'cleanliness',\n",
    "    48: 'lobster',\n",
    "    49: 'seafood'\n",
    "    }"
   ]
  },
  {
   "cell_type": "code",
   "execution_count": null,
   "metadata": {
    "ExecuteTime": {
     "start_time": "2020-02-04T18:49:22.624Z"
    },
    "jupyter": {
     "outputs_hidden": false
    }
   },
   "outputs": [],
   "source": [
    "topic_names_filepath = os.path.join(scratch_directory, 'topic_names.pkl')\n",
    "\n",
    "with open(topic_names_filepath, 'wb') as f:\n",
    "    pickle.dump(topic_names, f)"
   ]
  },
  {
   "cell_type": "markdown",
   "metadata": {},
   "source": [
    "You can see that, along with **steak**, there are a variety of topics related to different styles of food, such as **mexican**, **thai**, **pizza**, **sushi**, and so on. In addition, there are topics that are more related to the overall restaurant *experience*, like **nightlife**, **good service**, **long wait**, and **prices**.\n",
    "\n",
    "Beyond these two categories, there are still some topics that are difficult to apply a meaningful human interpretation to, such as topic 28 and 48.\n",
    "\n",
    "Manually reviewing the top terms for each topic is a helpful exercise, but to get a deeper understanding of the topics and how they relate to each other, we need to visualize the data &mdash; preferably in an interactive format. Fortunately, we have the fantastic [**pyLDAvis**](https://pyldavis.readthedocs.io/en/latest/readme.html) library to help with that!\n",
    "\n",
    "pyLDAvis includes a one-line function to take topic models created with gensim and prepare their data for visualization."
   ]
  },
  {
   "cell_type": "code",
   "execution_count": null,
   "metadata": {
    "ExecuteTime": {
     "start_time": "2020-02-04T18:49:22.638Z"
    }
   },
   "outputs": [],
   "source": [
    "LDAvis_data_filepath = os.path.join(scratch_directory, 'ldavis_prepared')"
   ]
  },
  {
   "cell_type": "code",
   "execution_count": null,
   "metadata": {
    "ExecuteTime": {
     "start_time": "2020-02-04T18:49:22.641Z"
    },
    "jupyter": {
     "outputs_hidden": false
    }
   },
   "outputs": [],
   "source": [
    "# this is a bit time consuming - set execute = True\n",
    "# if you want to execute data prep yourself.\n",
    "\n",
    "execute = False\n",
    "\n",
    "if execute:\n",
    "\n",
    "    LDAvis_prepared = pyLDAvis.gensim.prepare(\n",
    "        lda,\n",
    "        trigram_bow_corpus,\n",
    "        dictionary_trigrams\n",
    "        )\n",
    "\n",
    "    with open(LDAvis_data_filepath, 'wb') as f:\n",
    "        pickle.dump(LDAvis_prepared, f)        "
   ]
  },
  {
   "cell_type": "code",
   "execution_count": null,
   "metadata": {
    "ExecuteTime": {
     "start_time": "2020-02-04T18:49:22.643Z"
    },
    "jupyter": {
     "outputs_hidden": false
    }
   },
   "outputs": [],
   "source": [
    "# load the pre-prepared pyLDAvis data from disk\n",
    "with open(LDAvis_data_filepath, 'rb') as f:\n",
    "    LDAvis_prepared = pickle.load(f)"
   ]
  },
  {
   "cell_type": "markdown",
   "metadata": {},
   "source": [
    "`pyLDAvis.display(...)` displays the topic model visualization in-line in the notebook."
   ]
  },
  {
   "cell_type": "code",
   "execution_count": null,
   "metadata": {
    "ExecuteTime": {
     "start_time": "2020-02-04T18:49:22.647Z"
    },
    "jupyter": {
     "outputs_hidden": false
    }
   },
   "outputs": [],
   "source": [
    "pyLDAvis.display(LDAvis_prepared)"
   ]
  },
  {
   "cell_type": "markdown",
   "metadata": {},
   "source": [
    "### Wait, what am I looking at again?\n",
    "There are a lot of moving parts in the visualization. Here's a brief summary:\n",
    "\n",
    "* On the left, there is a plot of the \"distance\" between all of the topics (labeled as the _Intertopic Distance Map_)\n",
    "  * The plot is rendered in two dimensions according a [*multidimensional scaling (MDS)*](https://en.wikipedia.org/wiki/Multidimensional_scaling) algorithm. Topics that are generally similar should be appear close together on the plot, while *dis*similar topics should appear far apart.\n",
    "  * The relative size of a topic's circle in the plot corresponds to the relative frequency of the topic in the corpus.\n",
    "  * An individual topic may be selected for closer scrutiny by clicking on its circle, or entering its number in the \"selected topic\" box in the upper-left.\n",
    "* On the right, there is a bar chart showing top terms.\n",
    "  * When no topic is selected in the plot on the left, the bar chart shows the top-30 most \"salient\" terms in the corpus. A term's *saliency* is a measure of both how frequent the term is in the corpus and how \"distinctive\" it is in distinguishing between different topics.\n",
    "  * When a particular topic is selected, the bar chart changes to show the top-30 most \"relevant\" terms for the selected topic. The relevance metric is controlled by the parameter $\\lambda$, which can be adjusted with a slider above the bar chart.\n",
    "    * Setting the $\\lambda$ parameter close to 1.0 (the default) will rank the terms solely according to their probability within the topic.\n",
    "    * Setting $\\lambda$ close to 0.0 will rank the terms solely according to their \"distinctiveness\" or \"exclusivity\" within the topic &mdash; i.e., terms that occur *only* in this topic, and do not occur in other topics.\n",
    "    * Setting $\\lambda$ to values between 0.0 and 1.0 will result in an intermediate ranking, weighting term probability and exclusivity accordingly.\n",
    "* Rolling the mouse over a term in the bar chart on the right will cause the topic circles to resize in the plot on the left, to show the strength of the relationship between the topics and the selected term.\n",
    "\n",
    "A more detailed explanation of the pyLDAvis visualization can be found [here](https://cran.r-project.org/web/packages/LDAvis/vignettes/details.pdf). Unfortunately, though the data used by gensim and pyLDAvis are the same, they don't use the same ID numbers for topics. If you need to match up topics in gensim's `LdaMulticore` object and pyLDAvis' visualization, you have to dig through the terms manually."
   ]
  },
  {
   "cell_type": "markdown",
   "metadata": {},
   "source": [
    "### Analyzing our LDA model\n",
    "The interactive visualization pyLDAvis produces is helpful for both:\n",
    "1. Better understanding and interpreting individual topics, and\n",
    "1. Better understanding the relationships between the topics.\n",
    "\n",
    "For (1), you can manually select each topic to view its top most freqeuent and/or \"relevant\" terms, using different values of the $\\lambda$ parameter. This can help when you're trying to assign a human interpretable name or \"meaning\" to each topic.\n",
    "\n",
    "For (2), exploring the _Intertopic Distance Plot_ can help you learn about how topics relate to each other, including potential higher-level structure between groups of topics.\n",
    "\n",
    "In our plot, there is a stark divide along the y-axis, with most topics in the upper half of the plot and one outlier, topic 48, far at the bottom. Inspecting the outlier topic provides a plausible explanation: the topics contains many non-English words, while most of the rest of the topics are in English. So, one of the main attributes that distinguish the reviews in the dataset from one another is their language.\n",
    "\n",
    "This finding isn't entirely a surprise. In addition to English-speaking cities, the Yelp dataset includes reviews of businesses from around the world, sometimes written in other languages. Multiple languages isn't a problem for our demo, but for a real NLP application, you might need to ensure that the text you're processing is written in English (or is at least tagged for language) before passing it along to some downstream processing. If that were the case, the divide along the y-axis in the topic plot would immediately alert you to a potential data quality issue.\n",
    "\n",
    "In the upper half of the plot, there are two large, distinct groups of topics &mdash; let's call them \"super-topics\" &mdash; one in the upper-left quadrant and the other in the upper-right quadrant. These super-topics correlate reasonably well with the pattern we'd noticed while naming the topics:\n",
    "\n",
    "* The super-topic in the upper-_right_ tends to be about *food*. It groups together the **burger & fries**, **mexican**, **seafood**, and **barbecue** topics, among others.\n",
    "* The super-topic in the upper-_left_ tends to be about other elements of the *restaurant experience*. It groups together the **menu & ordering**, **slow service**, **nightlife**, and **prices** topics, among others.\n",
    "\n",
    "So, in addition to the 50 direct topics the model has learned, our analysis suggests a higher-level pattern in the data. Restaurant reviewers in the Yelp dataset talk about two main things in their reviews, in general: (1) the food, and (2) their overall restaurant experience. For this dataset, this is a very intuitive result, and we probably didn't need a sophisticated modeling technique to tell it to us. When working with datasets from other domains, though, such high-level patterns may be much less obvious from the outset &mdash; and that's where topic modeling can help."
   ]
  },
  {
   "cell_type": "markdown",
   "metadata": {},
   "source": [
    "### Describing text with LDA\n",
    "Beyond data exploration, one of the key uses for an LDA model is providing a compact, quantitative description of natural language text. Once an LDA model has been trained, it can be used to represent free text as a mixture of the topics the model learned from the original corpus. This mixture can be interpreted as a probability distribution across the topics, so the LDA representation of a paragraph of text might look like 50% _Topic A_, 20% _Topic B_, 20% _Topic C_, and 10% _Topic D_.\n",
    "\n",
    "To use an LDA model to generate a vector representation of new text, you'll need to apply any text preprocessing steps you used on the model's training corpus to the new text, too. For our model, the preprocessing steps we used include:\n",
    "1. Using spaCy to remove punctuation and lemmatize the text\n",
    "1. Applying our first-order phrase model to join word pairs\n",
    "1. Applying our second-order phrase model to join longer phrases\n",
    "1. Removing stopwords\n",
    "1. Creating a bag-of-words representation\n",
    "\n",
    "Once you've applied these preprocessing steps to the new text, it's ready to pass directly to the model to create an LDA representation. The `lda_description(...)` function will perform all these steps for us, including printing the resulting topical description of the input text."
   ]
  },
  {
   "cell_type": "code",
   "execution_count": null,
   "metadata": {
    "ExecuteTime": {
     "start_time": "2020-02-04T18:49:22.651Z"
    }
   },
   "outputs": [],
   "source": [
    "def get_sample_review(review_number):\n",
    "    \"\"\"\n",
    "    retrieve a particular review index\n",
    "    from the reviews file and return it\n",
    "    \"\"\"\n",
    "    \n",
    "    review = next(\n",
    "        it.islice(\n",
    "            line_review(review_txt_filepath),\n",
    "            review_number,\n",
    "            review_number+1\n",
    "            )\n",
    "        )\n",
    "    \n",
    "    return review"
   ]
  },
  {
   "cell_type": "code",
   "execution_count": null,
   "metadata": {
    "ExecuteTime": {
     "start_time": "2020-02-04T18:49:22.654Z"
    },
    "jupyter": {
     "outputs_hidden": false
    }
   },
   "outputs": [],
   "source": [
    "def lda_description(review_text, min_topic_freq=0.05):\n",
    "    \"\"\"\n",
    "    accept the original text of a review and (1) parse it with spaCy,\n",
    "    (2) apply text pre-proccessing steps, (3) create a bag-of-words\n",
    "    representation, (4) create an LDA representation, and\n",
    "    (5) print a sorted list of the top topics in the LDA representation\n",
    "    \"\"\"\n",
    "    \n",
    "    # parse the review text with spaCy\n",
    "    parsed_review = nlp(review_text)\n",
    "    \n",
    "    # lemmatize the text and remove punctuation and whitespace\n",
    "    review_unigrams = [\n",
    "        pronoun_lemmatize(token)\n",
    "        for token in parsed_review\n",
    "        if not punct_space(token)\n",
    "        ]\n",
    "    \n",
    "    # apply the first-order and secord-order phrase models\n",
    "    review_bigrams = bigram_phrases[review_unigrams]\n",
    "    review_trigrams = trigram_phrases[review_bigrams]\n",
    "    \n",
    "    # remove any remaining stopwords\n",
    "    review_trigrams = [\n",
    "        term\n",
    "        for term in review_trigrams\n",
    "        if not term in nlp.Defaults.stop_words\n",
    "        ]\n",
    "    \n",
    "    # create a bag-of-words representation\n",
    "    review_bow = dictionary_trigrams.doc2bow(review_trigrams)\n",
    "    \n",
    "    # create an LDA representation\n",
    "    review_lda = lda[review_bow]\n",
    "    \n",
    "    # sort with the most highly related topics first\n",
    "    review_lda = sorted(review_lda, key=lambda topic_number_freq: -topic_number_freq[-1])\n",
    "    \n",
    "    for topic_number, freq in review_lda:\n",
    "        if freq < min_topic_freq:\n",
    "            break\n",
    "            \n",
    "        # print the most highly related topic names and frequencies\n",
    "        print(f'{topic_names[topic_number]:25} {round(freq, 3):.3f}')"
   ]
  },
  {
   "cell_type": "code",
   "execution_count": null,
   "metadata": {
    "ExecuteTime": {
     "start_time": "2020-02-04T18:49:22.657Z"
    },
    "jupyter": {
     "outputs_hidden": false
    }
   },
   "outputs": [],
   "source": [
    "sample_review = get_sample_review(0)\n",
    "\n",
    "print(sample_review)"
   ]
  },
  {
   "cell_type": "code",
   "execution_count": null,
   "metadata": {
    "ExecuteTime": {
     "start_time": "2020-02-04T18:49:22.660Z"
    },
    "jupyter": {
     "outputs_hidden": false
    }
   },
   "outputs": [],
   "source": [
    "lda_description(sample_review)"
   ]
  },
  {
   "cell_type": "code",
   "execution_count": null,
   "metadata": {
    "ExecuteTime": {
     "start_time": "2020-02-04T18:49:22.662Z"
    },
    "jupyter": {
     "outputs_hidden": false
    }
   },
   "outputs": [],
   "source": [
    "sample_review = get_sample_review(3)\n",
    "\n",
    "print(sample_review)"
   ]
  },
  {
   "cell_type": "code",
   "execution_count": null,
   "metadata": {
    "ExecuteTime": {
     "start_time": "2020-02-04T18:49:22.665Z"
    },
    "jupyter": {
     "outputs_hidden": false
    }
   },
   "outputs": [],
   "source": [
    "lda_description(sample_review)"
   ]
  },
  {
   "cell_type": "markdown",
   "metadata": {},
   "source": [
    "## Word Vector Embedding with Word2Vec"
   ]
  },
  {
   "cell_type": "markdown",
   "metadata": {},
   "source": [
    "Pop quiz! Can you complete this text snippet?\n",
    "\n",
    "<br><br>"
   ]
  },
  {
   "cell_type": "markdown",
   "metadata": {},
   "source": [
    "![word2vec quiz](https://s3.amazonaws.com/skipgram-images/word2vec-1.png)"
   ]
  },
  {
   "cell_type": "markdown",
   "metadata": {},
   "source": [
    "<br><br><br>\n",
    "You just demonstrated the core machine learning concept behind word vector embedding models!\n",
    "<br><br><br>"
   ]
  },
  {
   "cell_type": "markdown",
   "metadata": {},
   "source": [
    "![word2vec quiz 2](https://s3.amazonaws.com/skipgram-images/word2vec-2.png)"
   ]
  },
  {
   "cell_type": "markdown",
   "metadata": {},
   "source": [
    "The goal of *word vector embedding models*, or *word vector models* for short, is to learn dense, numerical vector representations for each term in a corpus vocabulary. If the model is successful, the vectors it learns about each term should encode some information about the *meaning* or *concept* the term represents, and the relationship between it and other terms in the vocabulary. Word vector models are also fully unsupervised &mdash; they learn all of these meanings and relationships solely by analyzing the text of the corpus, without any advance knowledge provided.\n",
    "\n",
    "Perhaps the best-known word vector model is [word2vec](https://arxiv.org/pdf/1301.3781v3.pdf), originally proposed in 2013. The general idea of word2vec is, for a given *focus word*, to use the *context* of the word &mdash; i.e., the other words immediately before and after it &mdash; to provide hints about what the focus word might mean. To do this, word2vec uses a *sliding window* technique, where it considers snippets of text only a few tokens long at a time.\n",
    "\n",
    "At the start of the learning process, the model initializes random vectors for all terms in the corpus vocabulary. The model then slides the window across every snippet of text in the corpus, with each word taking turns as the focus word. Each time the model considers a new snippet, it tries to learn some information about the focus word based on the surrouding context, and it \"nudges\" the words' vector representations accordingly. One complete pass sliding the window across all of the corpus text is known as a training *epoch*. It's common to train a word2vec model for multiple passes/epochs over the corpus. Over time, the model rearranges the terms' vector representations such that terms that frequently appear in similar contexts have vector representations that are *close* to each other in vector space.\n",
    "\n",
    "For a deeper dive into word2vec's machine learning process, see [here](https://arxiv.org/pdf/1411.2738v4.pdf).\n",
    "\n",
    "Word2vec has a number of user-defined hyperparameters, including:\n",
    "- The dimensionality of the vectors. Typical choices include a few dozen to several hundred.\n",
    "- The width of the sliding window, in tokens. Five is a common default choice, but narrower and wider windows are possible.\n",
    "- The number of training epochs.\n",
    "\n",
    "For using word2vec in Python, [gensim](https://rare-technologies.com/deep-learning-with-word2vec-and-gensim/) comes to the rescue again! It offers a [highly-optimized](https://rare-technologies.com/word2vec-in-python-part-two-optimizing/), [parallelized](https://rare-technologies.com/parallelizing-word2vec-in-python/) implementation of the word2vec algorithm with its [Word2Vec](https://radimrehurek.com/gensim/models/word2vec.html) class."
   ]
  },
  {
   "cell_type": "code",
   "execution_count": null,
   "metadata": {
    "ExecuteTime": {
     "start_time": "2020-02-04T18:49:22.671Z"
    },
    "jupyter": {
     "outputs_hidden": false
    }
   },
   "outputs": [],
   "source": [
    "from gensim.models import Word2Vec\n",
    "\n",
    "sentences_trigrams = LineSentence(sentences_trigrams_filepath)\n",
    "word2vec_filepath = os.path.join(scratch_directory, 'word2vec_model_all')"
   ]
  },
  {
   "cell_type": "markdown",
   "metadata": {},
   "source": [
    "We'll train our word2vec model using the normalized sentences with our phrase models applied. We'll use 100-dimensional vectors, and set up our training process to run for twenty epochs."
   ]
  },
  {
   "cell_type": "markdown",
   "metadata": {},
   "source": [
    ">⚠️ **Heads-up:** if you want to re-run word2vec modeling yourself, the next cell took me about **3 hours** to run."
   ]
  },
  {
   "cell_type": "code",
   "execution_count": null,
   "metadata": {
    "ExecuteTime": {
     "start_time": "2020-02-04T18:49:22.675Z"
    },
    "jupyter": {
     "outputs_hidden": false
    }
   },
   "outputs": [],
   "source": [
    "# this is a bit time consuming - set execute = True\n",
    "# if you want to train the word2vec model yourself.\n",
    "\n",
    "execute = False\n",
    "\n",
    "if execute:\n",
    "\n",
    "    # initiate the model and perform the first epoch of training\n",
    "    food2vec = Word2Vec(\n",
    "        sentences_trigrams,\n",
    "        size=100,\n",
    "        window=5,\n",
    "        min_count=50,\n",
    "        sg=1,\n",
    "        workers=7,\n",
    "        iter=20\n",
    "        )\n",
    "    \n",
    "    food2vec.save(word2vec_filepath)"
   ]
  },
  {
   "cell_type": "code",
   "execution_count": null,
   "metadata": {
    "ExecuteTime": {
     "start_time": "2020-02-04T18:49:22.678Z"
    },
    "jupyter": {
     "outputs_hidden": false
    }
   },
   "outputs": [],
   "source": [
    "food2vec = Word2Vec.load(word2vec_filepath)\n",
    "food2vec.init_sims()\n",
    "\n",
    "print(f'{food2vec.epochs} training epochs so far.')"
   ]
  },
  {
   "cell_type": "markdown",
   "metadata": {},
   "source": [
    "On my eight-core machine, each training epoch over all the text in the ~4 million Yelp reviews takes about 5-10 minutes."
   ]
  },
  {
   "cell_type": "code",
   "execution_count": null,
   "metadata": {
    "ExecuteTime": {
     "start_time": "2020-02-04T18:49:22.681Z"
    },
    "jupyter": {
     "outputs_hidden": false
    }
   },
   "outputs": [],
   "source": [
    "print(f'{len(food2vec.wv.vocab):,} terms in the food2vec vocabulary.')"
   ]
  },
  {
   "cell_type": "markdown",
   "metadata": {},
   "source": [
    "Let's take a peek at the word vectors our model has learned. We'll create a pandas DataFrame with the terms as the row labels, and the 100 dimensions of the word vector model as the columns."
   ]
  },
  {
   "cell_type": "code",
   "execution_count": null,
   "metadata": {
    "ExecuteTime": {
     "start_time": "2020-02-04T18:49:22.685Z"
    },
    "jupyter": {
     "outputs_hidden": false
    }
   },
   "outputs": [],
   "source": [
    "# build a list of the terms, integer indices,\n",
    "# and term counts from the food2vec model vocabulary\n",
    "ordered_vocab = [\n",
    "    (term, voc.index, voc.count)\n",
    "    for term, voc in food2vec.wv.vocab.items()\n",
    "    ]\n",
    "\n",
    "# sort by the term counts, so the most common terms appear first\n",
    "ordered_vocab = sorted(ordered_vocab, key=lambda term_tuple: -term_tuple[2])\n",
    "\n",
    "# unzip the terms, integer indices, and counts into separate lists\n",
    "ordered_terms, term_indices, term_counts = zip(*ordered_vocab)\n",
    "\n",
    "# create a DataFrame with the food2vec vectors as data,\n",
    "# and the terms as row labels\n",
    "word_vectors = pd.DataFrame(\n",
    "    food2vec.wv.vectors_norm[term_indices, :],\n",
    "    index=ordered_terms\n",
    "    )\n",
    "\n",
    "word_vectors"
   ]
  },
  {
   "cell_type": "markdown",
   "metadata": {},
   "source": [
    "Holy wall of numbers! This DataFrame has 51,429 rows &mdash; one for each term in the vocabulary &mdash; and 100 colums. Our model has learned a quantitative vector representation for each term, as expected.\n",
    "\n",
    "Put another way, our model has \"embedded\" the terms into a 100-dimensional vector space."
   ]
  },
  {
   "cell_type": "markdown",
   "metadata": {},
   "source": [
    "### So... what can we do with all these numbers?\n",
    "The first thing we can use them for is to simply look up related words and phrases for a given term of interest."
   ]
  },
  {
   "cell_type": "code",
   "execution_count": null,
   "metadata": {
    "ExecuteTime": {
     "start_time": "2020-02-04T18:49:22.689Z"
    }
   },
   "outputs": [],
   "source": [
    "def get_related_terms(token, topn=10):\n",
    "    \"\"\"\n",
    "    look up the topn most similar terms to token\n",
    "    and print them as a formatted list\n",
    "    \"\"\"\n",
    "\n",
    "    for word, similarity in food2vec.wv.most_similar(positive=[token], topn=topn):\n",
    "\n",
    "        print(f'{word:20} {round(similarity, 3)}')"
   ]
  },
  {
   "cell_type": "markdown",
   "metadata": {},
   "source": [
    "### What things are like McDonald's?"
   ]
  },
  {
   "cell_type": "code",
   "execution_count": null,
   "metadata": {
    "ExecuteTime": {
     "start_time": "2020-02-04T18:49:22.692Z"
    },
    "jupyter": {
     "outputs_hidden": false
    }
   },
   "outputs": [],
   "source": [
    "get_related_terms(\"mcdonald_'s\")"
   ]
  },
  {
   "cell_type": "markdown",
   "metadata": {},
   "source": [
    "The model has learned that fast food restaurants are similar to each other! In particular, *wendy's* and *bk*, short for Burger King, are similar to McDonald's, according to this dataset. In addition, the model has found that alternate spellings for McDonald's are probably related, such as *mcd's*."
   ]
  },
  {
   "cell_type": "markdown",
   "metadata": {},
   "source": [
    "### When is happy hour?"
   ]
  },
  {
   "cell_type": "code",
   "execution_count": null,
   "metadata": {
    "ExecuteTime": {
     "start_time": "2020-02-04T18:49:22.703Z"
    },
    "jupyter": {
     "outputs_hidden": false
    }
   },
   "outputs": [],
   "source": [
    "get_related_terms('happy_hour', topn=15)"
   ]
  },
  {
   "cell_type": "markdown",
   "metadata": {},
   "source": [
    "The model has noticed several alternate spellings for happy hour, such as *hh* and *happy hr*, and assesses them as highly related. If you were looking for reviews about happy hour, such alternate spellings would be very helpful to know.\n",
    "\n",
    "Taking a deeper look &mdash; the model has turned up phrases like *3-6pm*, *4-7pm*, and *m-f*, too. This is especially interesting, because the model has no advance knowledge at all about what happy hour is, and what time of day it should be. But simply by scanning through restaurant reviews, the model has discovered that the concept of happy hour has something very important to do with that block of time around 3-7pm on weekdays."
   ]
  },
  {
   "cell_type": "markdown",
   "metadata": {},
   "source": [
    "### Let's make pasta tonight. Which style do you want?"
   ]
  },
  {
   "cell_type": "code",
   "execution_count": null,
   "metadata": {
    "ExecuteTime": {
     "start_time": "2020-02-04T18:49:22.707Z"
    },
    "jupyter": {
     "outputs_hidden": false
    }
   },
   "outputs": [],
   "source": [
    "get_related_terms('pasta', topn=20)"
   ]
  },
  {
   "cell_type": "markdown",
   "metadata": {},
   "source": [
    "## Word algebra!\n",
    "No self-respecting word2vec demo would be complete without a healthy dose of *word algebra*, also known as *analogy completion*.\n",
    "\n",
    "The core idea is that once words are represented as numerical vectors, you can do math with them. The mathematical procedure goes like this:\n",
    "1. Provide a set of words or phrases that you'd like to add or subtract.\n",
    "1. Look up the vectors that represent those terms in the word vector model.\n",
    "1. Add and subtract those vectors to produce a new, combined vector.\n",
    "1. Look up the most similar vector(s) to this new, combined vector via cosine similarity.\n",
    "1. Return the word(s) associated with the similar vector(s).\n",
    "\n",
    "But more generally, you can think of the vectors that represent each word as encoding some information about the *meaning* or *concepts* of the word. What happens when you ask the model to combine the meaning and concepts of words in new ways? Let's see."
   ]
  },
  {
   "cell_type": "code",
   "execution_count": null,
   "metadata": {
    "ExecuteTime": {
     "start_time": "2020-02-04T18:49:22.710Z"
    }
   },
   "outputs": [],
   "source": [
    "def word_algebra(add=[], subtract=[], topn=1):\n",
    "    \"\"\"\n",
    "    combine the vectors associated with the words provided\n",
    "    in add= and subtract=, look up the topn most similar\n",
    "    terms to the combined vector, and print the result(s)\n",
    "    \"\"\"\n",
    "    answers = food2vec.wv.most_similar(positive=add, negative=subtract, topn=topn)\n",
    "    \n",
    "    for term, similarity in answers:\n",
    "        print(term)"
   ]
  },
  {
   "cell_type": "markdown",
   "metadata": {},
   "source": [
    "### breakfast + lunch = ?\n",
    "Let's start with a softball."
   ]
  },
  {
   "cell_type": "code",
   "execution_count": null,
   "metadata": {
    "ExecuteTime": {
     "start_time": "2020-02-04T18:49:22.713Z"
    },
    "jupyter": {
     "outputs_hidden": false
    }
   },
   "outputs": [],
   "source": [
    "word_algebra(add=['breakfast', 'lunch'], topn=2)"
   ]
  },
  {
   "cell_type": "markdown",
   "metadata": {},
   "source": [
    "OK, so the model knows that *brunch* is a combination of *breakfast* and *lunch*. What else?"
   ]
  },
  {
   "cell_type": "markdown",
   "metadata": {},
   "source": [
    "### lunch - day + night = ?"
   ]
  },
  {
   "cell_type": "code",
   "execution_count": null,
   "metadata": {
    "ExecuteTime": {
     "start_time": "2020-02-04T18:49:22.717Z"
    },
    "jupyter": {
     "outputs_hidden": false
    }
   },
   "outputs": [],
   "source": [
    "word_algebra(add=['lunch', 'night'], subtract=['day'])"
   ]
  },
  {
   "cell_type": "markdown",
   "metadata": {},
   "source": [
    "Now we're getting a bit more nuanced. The model has discovered that:\n",
    "- Both *lunch* and *dinner* are meals\n",
    "- The main difference between them is time of day\n",
    "- Day and night are times of day\n",
    "- Lunch is associated with day, and dinner is associated with night\n",
    "\n",
    "What else?"
   ]
  },
  {
   "cell_type": "markdown",
   "metadata": {},
   "source": [
    "### taco - mexican + chinese = ?"
   ]
  },
  {
   "cell_type": "code",
   "execution_count": null,
   "metadata": {
    "ExecuteTime": {
     "start_time": "2020-02-04T18:49:22.721Z"
    },
    "jupyter": {
     "outputs_hidden": false
    }
   },
   "outputs": [],
   "source": [
    "word_algebra(add=['taco', 'chinese'], subtract=['mexican'])"
   ]
  },
  {
   "cell_type": "markdown",
   "metadata": {},
   "source": [
    "Here's an entirely new and different type of relationship that the model has learned.\n",
    "- It knows that tacos are a characteristic example of Mexican food\n",
    "- It knows that Mexican and Chinese are both styles of food\n",
    "- If you subtract *Mexican* from *taco*, you're left with something like the concept of a _\"characteristic type of food\"_, which is represented as a new vector\n",
    "- If you add that new _\"characteristic type of food\"_ vector to Chinese, you get *dumpling*.\n",
    "\n",
    "What else?"
   ]
  },
  {
   "cell_type": "markdown",
   "metadata": {},
   "source": [
    "### bun - american + mexican = ?"
   ]
  },
  {
   "cell_type": "code",
   "execution_count": null,
   "metadata": {
    "ExecuteTime": {
     "start_time": "2020-02-04T18:49:22.736Z"
    },
    "jupyter": {
     "outputs_hidden": false
    }
   },
   "outputs": [],
   "source": [
    "word_algebra(add=['bun', 'mexican'], subtract=['american'], topn=3)"
   ]
  },
  {
   "cell_type": "markdown",
   "metadata": {},
   "source": [
    "The model knows that both *buns* and *tortillas* are the doughy thing that goes on the outside of your real food, and that the primary difference between them is the style of food they're associated with.\n",
    "\n",
    "What else?"
   ]
  },
  {
   "cell_type": "markdown",
   "metadata": {},
   "source": [
    "### filet mignon - beef + seafood = ?"
   ]
  },
  {
   "cell_type": "code",
   "execution_count": null,
   "metadata": {
    "ExecuteTime": {
     "start_time": "2020-02-04T18:49:22.740Z"
    },
    "jupyter": {
     "outputs_hidden": false
    }
   },
   "outputs": [],
   "source": [
    "word_algebra(add=['filet', 'seafood'], subtract=['beef'])"
   ]
  },
  {
   "cell_type": "markdown",
   "metadata": {},
   "source": [
    "The model has learned a concept of *delicacy*. If you take filet and subtract beef from it, you're left with a vector that roughly corresponds to delicacy. If you add the delicacy vector to *seafood*, you get *lobster tail*.\n",
    "\n",
    "What else?"
   ]
  },
  {
   "cell_type": "markdown",
   "metadata": {},
   "source": [
    "### coffee - drink + snack = ?"
   ]
  },
  {
   "cell_type": "code",
   "execution_count": null,
   "metadata": {
    "ExecuteTime": {
     "start_time": "2020-02-04T18:49:22.745Z"
    },
    "jupyter": {
     "outputs_hidden": false
    }
   },
   "outputs": [],
   "source": [
    "word_algebra(add=['coffee', 'snack'], subtract=['drink'])"
   ]
  },
  {
   "cell_type": "markdown",
   "metadata": {},
   "source": [
    "The model knows that if you're on your coffee break, but instead of drinking something, you're eating something... that thing is most likely a pastry.\n",
    "\n",
    "What else?"
   ]
  },
  {
   "cell_type": "markdown",
   "metadata": {},
   "source": [
    "### McDonald's + fine dining = ?"
   ]
  },
  {
   "cell_type": "code",
   "execution_count": null,
   "metadata": {
    "ExecuteTime": {
     "start_time": "2020-02-04T18:49:22.749Z"
    },
    "jupyter": {
     "outputs_hidden": false
    }
   },
   "outputs": [],
   "source": [
    "word_algebra(add=[\"mcdonald_'s\", 'fine_dining'])"
   ]
  },
  {
   "cell_type": "markdown",
   "metadata": {},
   "source": [
    "Touché. It makes sense, though. The model has learned that both McDonald's and Denny's are large chains, and that both serve fast, casual, American-style food. But Denny's has some elements that are slightly more upscale, such as printed menus and table service. Fine dining, indeed.\n",
    "\n",
    "*What if we keep going?*"
   ]
  },
  {
   "cell_type": "markdown",
   "metadata": {},
   "source": [
    "### Denny's + fine dining = ?"
   ]
  },
  {
   "cell_type": "code",
   "execution_count": null,
   "metadata": {
    "ExecuteTime": {
     "start_time": "2020-02-04T18:49:22.753Z"
    },
    "jupyter": {
     "outputs_hidden": false
    }
   },
   "outputs": [],
   "source": [
    "word_algebra(add=[\"denny_'s\", 'fine_dining'], topn=2)"
   ]
  },
  {
   "cell_type": "markdown",
   "metadata": {},
   "source": [
    "This seems like a good place to land... what if we explore the vector space around *TGI Friday* a bit, in a few different directions? Let's see what we find.\n",
    "\n",
    "#### TGI Friday + italian = ?"
   ]
  },
  {
   "cell_type": "code",
   "execution_count": null,
   "metadata": {
    "ExecuteTime": {
     "start_time": "2020-02-04T18:49:22.756Z"
    }
   },
   "outputs": [],
   "source": [
    "word_algebra(add=['tgi_friday', 'italian'])"
   ]
  },
  {
   "cell_type": "markdown",
   "metadata": {},
   "source": [
    "#### TGI Friday + pancakes = ?"
   ]
  },
  {
   "cell_type": "code",
   "execution_count": null,
   "metadata": {
    "ExecuteTime": {
     "start_time": "2020-02-04T18:49:22.759Z"
    },
    "jupyter": {
     "outputs_hidden": false
    }
   },
   "outputs": [],
   "source": [
    "word_algebra(add=['tgi_friday', 'pancakes'])"
   ]
  },
  {
   "cell_type": "markdown",
   "metadata": {},
   "source": [
    "#### TGI Friday + pizza = ?"
   ]
  },
  {
   "cell_type": "code",
   "execution_count": null,
   "metadata": {
    "ExecuteTime": {
     "start_time": "2020-02-04T18:49:22.762Z"
    },
    "jupyter": {
     "outputs_hidden": false
    }
   },
   "outputs": [],
   "source": [
    "word_algebra(add=['tgi_friday', 'pizza'])"
   ]
  },
  {
   "cell_type": "code",
   "execution_count": null,
   "metadata": {
    "ExecuteTime": {
     "start_time": "2020-02-04T18:49:22.765Z"
    },
    "scrolled": true
   },
   "outputs": [],
   "source": [
    "word_algebra(add=['car', 'light'])"
   ]
  },
  {
   "cell_type": "markdown",
   "metadata": {},
   "source": [
    "You could do this all day. One last analogy before we move on..."
   ]
  },
  {
   "cell_type": "markdown",
   "metadata": {},
   "source": [
    "## Word Vector Visualization with t-SNE"
   ]
  },
  {
   "cell_type": "markdown",
   "metadata": {},
   "source": [
    "[t-Distributed Stochastic Neighbor Embedding](https://lvdmaaten.github.io/publications/papers/JMLR_2008.pdf), or *t-SNE* for short, is a dimensionality reduction technique to assist with visualizing high-dimensional datasets. It attempts to map high-dimensional data onto a low two- or three-dimensional representation such that the relative distances between points are preserved as closely as possible in both high-dimensional and low-dimensional space.\n",
    "\n",
    "scikit-learn provides a convenient implementation of the t-SNE algorithm with its [TSNE](http://scikit-learn.org/stable/modules/generated/sklearn.manifold.TSNE.html) class."
   ]
  },
  {
   "cell_type": "code",
   "execution_count": null,
   "metadata": {
    "ExecuteTime": {
     "start_time": "2020-02-04T18:49:22.769Z"
    }
   },
   "outputs": [],
   "source": [
    "from sklearn.manifold import TSNE"
   ]
  },
  {
   "cell_type": "markdown",
   "metadata": {},
   "source": [
    "Our input for t-SNE will be the DataFrame of word vectors we created before. Let's first:\n",
    "1. Drop stopwords &mdash; it's probably not too interesting to visualize *the*, *of*, *or*, and so on\n",
    "1. Take only the 5,000 most frequent terms in the vocabulary &mdash; no need to visualize all ~50,000 terms right now."
   ]
  },
  {
   "cell_type": "code",
   "execution_count": null,
   "metadata": {
    "ExecuteTime": {
     "start_time": "2020-02-04T18:49:22.772Z"
    },
    "jupyter": {
     "outputs_hidden": false
    }
   },
   "outputs": [],
   "source": [
    "tsne_input = (\n",
    "    word_vectors\n",
    "    .drop(nlp.Defaults.stop_words, errors='ignore')\n",
    "    .head(5000)\n",
    "    )\n",
    "\n",
    "tsne_input.head()"
   ]
  },
  {
   "cell_type": "code",
   "execution_count": null,
   "metadata": {
    "ExecuteTime": {
     "start_time": "2020-02-04T18:49:22.774Z"
    }
   },
   "outputs": [],
   "source": [
    "tsne_filepath = os.path.join(scratch_directory, 'tsne_model')\n",
    "\n",
    "tsne_vectors_filepath = os.path.join(scratch_directory, 'tsne_vectors.npy')"
   ]
  },
  {
   "cell_type": "code",
   "execution_count": null,
   "metadata": {
    "ExecuteTime": {
     "start_time": "2020-02-04T18:49:22.777Z"
    },
    "jupyter": {
     "outputs_hidden": false
    }
   },
   "outputs": [],
   "source": [
    "# this is a bit time consuming - set execute = True\n",
    "# if you want to run TSNE modeling yourself.\n",
    "\n",
    "execute = False\n",
    "\n",
    "if execute:\n",
    "    \n",
    "    tsne = TSNE()\n",
    "    tsne_vectors = tsne.fit_transform(tsne_input.values)\n",
    "    \n",
    "    with open(tsne_filepath, 'wb') as f:\n",
    "        pickle.dump(tsne, f)\n",
    "\n",
    "    pd.np.save(tsne_vectors_filepath, tsne_vectors)"
   ]
  },
  {
   "cell_type": "code",
   "execution_count": null,
   "metadata": {
    "ExecuteTime": {
     "start_time": "2020-02-04T18:49:22.779Z"
    },
    "jupyter": {
     "outputs_hidden": false
    }
   },
   "outputs": [],
   "source": [
    "with open(tsne_filepath, 'rb') as f:\n",
    "    tsne = pickle.load(f)\n",
    "    \n",
    "tsne_vectors = pd.np.load(tsne_vectors_filepath)\n",
    "\n",
    "tsne_vectors = pd.DataFrame(\n",
    "    tsne_vectors,\n",
    "    index=pd.Index(tsne_input.index),\n",
    "    columns=['x_coord', 'y_coord']\n",
    "    )"
   ]
  },
  {
   "cell_type": "markdown",
   "metadata": {},
   "source": [
    "Now we have a two-dimensional representation of our data! Let's take a look."
   ]
  },
  {
   "cell_type": "code",
   "execution_count": null,
   "metadata": {
    "ExecuteTime": {
     "start_time": "2020-02-04T18:49:22.782Z"
    },
    "jupyter": {
     "outputs_hidden": false
    }
   },
   "outputs": [],
   "source": [
    "tsne_vectors.head()"
   ]
  },
  {
   "cell_type": "code",
   "execution_count": null,
   "metadata": {
    "ExecuteTime": {
     "start_time": "2020-02-04T18:49:22.785Z"
    }
   },
   "outputs": [],
   "source": [
    "tsne_vectors['word'] = tsne_vectors.index"
   ]
  },
  {
   "cell_type": "markdown",
   "metadata": {},
   "source": [
    "### Plotting Word Vectors with Bokeh"
   ]
  },
  {
   "cell_type": "code",
   "execution_count": null,
   "metadata": {
    "ExecuteTime": {
     "start_time": "2020-02-04T18:49:22.788Z"
    },
    "jupyter": {
     "outputs_hidden": false
    }
   },
   "outputs": [],
   "source": [
    "from bokeh.plotting import figure, show, output_notebook\n",
    "from bokeh.models import HoverTool, ColumnDataSource, value\n",
    "\n",
    "output_notebook()"
   ]
  },
  {
   "cell_type": "code",
   "execution_count": null,
   "metadata": {
    "ExecuteTime": {
     "start_time": "2020-02-04T18:49:22.790Z"
    },
    "jupyter": {
     "outputs_hidden": false
    }
   },
   "outputs": [],
   "source": [
    "# add our DataFrame as a ColumnDataSource for Bokeh\n",
    "plot_data = ColumnDataSource(tsne_vectors)\n",
    "\n",
    "# create the plot and configure the\n",
    "# title, dimensions, and tools\n",
    "tsne_plot = figure(\n",
    "    title='t-SNE Word Embeddings',\n",
    "    plot_width=800,\n",
    "    plot_height=800,\n",
    "    tools=(\n",
    "        'pan, wheel_zoom, box_zoom,'\n",
    "        'box_select, reset'\n",
    "        ),\n",
    "    active_scroll='wheel_zoom'\n",
    "    )\n",
    "\n",
    "# add a hover tool to display words on roll-over\n",
    "tsne_plot.add_tools(\n",
    "    HoverTool(tooltips = '@word')\n",
    "    )\n",
    "\n",
    "# draw the words as circles on the plot\n",
    "tsne_plot.circle(\n",
    "    'x_coord',\n",
    "    'y_coord',\n",
    "    source=plot_data,\n",
    "    color='blue',\n",
    "    line_alpha=0.2,\n",
    "    fill_alpha=0.1,\n",
    "    size=10,\n",
    "    hover_line_color='black'\n",
    "    )\n",
    "\n",
    "# configure visual elements of the plotc\n",
    "tsne_plot.title.text_font_size = value('16pt')\n",
    "tsne_plot.xaxis.visible = False\n",
    "tsne_plot.yaxis.visible = False\n",
    "tsne_plot.grid.grid_line_color = None\n",
    "tsne_plot.outline_line_color = None\n",
    "\n",
    "# engage!\n",
    "show(tsne_plot);"
   ]
  },
  {
   "cell_type": "markdown",
   "metadata": {},
   "source": [
    "## Text Categorization with spaCy's `textcat`"
   ]
  },
  {
   "cell_type": "markdown",
   "metadata": {},
   "source": [
    "First, we'll prepare a bit of training data for classification in spaCy's preferred format."
   ]
  },
  {
   "cell_type": "code",
   "execution_count": null,
   "metadata": {
    "ExecuteTime": {
     "start_time": "2020-02-04T18:49:22.793Z"
    }
   },
   "outputs": [],
   "source": [
    "with open(review_json_filepath) as f:\n",
    "    \n",
    "    first_review = next(f)\n",
    "    \n",
    "    print(json.loads(first_review))"
   ]
  },
  {
   "cell_type": "markdown",
   "metadata": {},
   "source": [
    "One of the attributes of reviews in the Yelp dataset is `funny`, which is the number of Yelp users that flagged the review as funny.\n",
    "\n",
    "We're going to train a text classification model to try to predict whether or not a review is funny. First, we'll collect examples of both funny and *un*funny reviews. We want really good funny reviews, so we'll require our funny reviews to receive at least 5 \"funny\" votes from Yelp users. Our unfunny reviews did not receive any \"funny\" votes."
   ]
  },
  {
   "cell_type": "code",
   "execution_count": null,
   "metadata": {
    "ExecuteTime": {
     "start_time": "2020-02-04T18:49:22.796Z"
    }
   },
   "outputs": [],
   "source": [
    "total_examples = 1000\n",
    "\n",
    "funny_reviews = []\n",
    "unfunny_reviews = []\n",
    "\n",
    "with open(review_json_filepath) as f:\n",
    "    for idx, review in enumerate(f):\n",
    "        \n",
    "        review = json.loads(review)\n",
    "        \n",
    "        if review['funny'] > 5 and len(funny_reviews) < (total_examples / 2):\n",
    "           \n",
    "            funny_reviews.append((\n",
    "                review['text'], {\n",
    "                    'cats': {\n",
    "                        'FUNNY': 1.0,\n",
    "                        'UNFUNNY': 0.0\n",
    "                        }\n",
    "                    }\n",
    "            ))\n",
    "            \n",
    "            continue\n",
    "            \n",
    "        if review['funny'] == 0 and len(unfunny_reviews) < (total_examples / 2):\n",
    "            \n",
    "            unfunny_reviews.append((\n",
    "                review['text'], {\n",
    "                    'cats': {\n",
    "                        'FUNNY': 0.0,\n",
    "                        'UNFUNNY': 1.0\n",
    "                        }\n",
    "                    }\n",
    "            ))\n",
    "            \n",
    "            continue\n",
    "            \n",
    "        if len(funny_reviews) >= (total_examples / 2) and len(unfunny_reviews) >= (total_examples / 2):\n",
    "            \n",
    "            break"
   ]
  },
  {
   "cell_type": "markdown",
   "metadata": {},
   "source": [
    "Let's preview the reviews and spaCy's preferred format for representing labels."
   ]
  },
  {
   "cell_type": "code",
   "execution_count": null,
   "metadata": {
    "ExecuteTime": {
     "start_time": "2020-02-04T18:49:22.799Z"
    }
   },
   "outputs": [],
   "source": [
    "review_text, review_cats = funny_reviews[1]\n",
    "\n",
    "print(review_text)\n",
    "print('')\n",
    "print(review_cats)"
   ]
  },
  {
   "cell_type": "code",
   "execution_count": null,
   "metadata": {
    "ExecuteTime": {
     "start_time": "2020-02-04T18:49:22.802Z"
    }
   },
   "outputs": [],
   "source": [
    "review_text, review_cats = unfunny_reviews[1]\n",
    "\n",
    "print(review_text)\n",
    "print('')\n",
    "print(review_cats)"
   ]
  },
  {
   "cell_type": "markdown",
   "metadata": {},
   "source": [
    "We'll split the data 50/50 into train and test sets, then randomly shuffle each set."
   ]
  },
  {
   "cell_type": "code",
   "execution_count": null,
   "metadata": {
    "ExecuteTime": {
     "start_time": "2020-02-04T18:49:22.804Z"
    }
   },
   "outputs": [],
   "source": [
    "import random"
   ]
  },
  {
   "cell_type": "code",
   "execution_count": null,
   "metadata": {
    "ExecuteTime": {
     "start_time": "2020-02-04T18:49:22.806Z"
    }
   },
   "outputs": [],
   "source": [
    "train_data = funny_reviews[:int(len(funny_reviews) / 2)] + unfunny_reviews[:int(len(unfunny_reviews) / 2)]\n",
    "test_data = funny_reviews[int(len(funny_reviews) / 2):] + unfunny_reviews[int(len(unfunny_reviews) / 2):]\n",
    "\n",
    "random.shuffle(train_data)\n",
    "random.shuffle(test_data)"
   ]
  },
  {
   "cell_type": "markdown",
   "metadata": {},
   "source": [
    "Next, we'll create a new `textcat` model and add it to our existing `nlp` spaCy pipeline."
   ]
  },
  {
   "cell_type": "code",
   "execution_count": null,
   "metadata": {
    "ExecuteTime": {
     "start_time": "2020-02-04T18:49:22.809Z"
    }
   },
   "outputs": [],
   "source": [
    "original_pipe_names = nlp.pipe_names\n",
    "original_pipe_names"
   ]
  },
  {
   "cell_type": "code",
   "execution_count": null,
   "metadata": {
    "ExecuteTime": {
     "start_time": "2020-02-04T18:49:22.811Z"
    }
   },
   "outputs": [],
   "source": [
    "textcat = nlp.create_pipe(\n",
    "    'textcat',\n",
    "    config={'exclusive_classes': True}\n",
    "    )\n",
    "\n",
    "textcat.add_label('FUNNY')\n",
    "textcat.add_label('UNFUNNY')"
   ]
  },
  {
   "cell_type": "code",
   "execution_count": null,
   "metadata": {
    "ExecuteTime": {
     "start_time": "2020-02-04T18:49:22.814Z"
    }
   },
   "outputs": [],
   "source": [
    "nlp.add_pipe(textcat)\n",
    "\n",
    "nlp.pipe_names"
   ]
  },
  {
   "cell_type": "markdown",
   "metadata": {},
   "source": [
    "This is a helper function to help us evaluate the performance of our text classification model."
   ]
  },
  {
   "cell_type": "code",
   "execution_count": null,
   "metadata": {
    "ExecuteTime": {
     "start_time": "2020-02-04T18:49:22.817Z"
    }
   },
   "outputs": [],
   "source": [
    "def evaluate(tokenizer, textcat, texts, cats, label='FUNNY'):\n",
    "    \n",
    "    docs = (tokenizer(text) for text in texts)\n",
    "    \n",
    "    tp = 0.0  # True positives\n",
    "    fp = 1e-8  # False positives\n",
    "    fn = 1e-8  # False negatives\n",
    "    tn = 0.0  # True negatives\n",
    "    \n",
    "    for i, doc in enumerate(textcat.pipe(docs)):\n",
    "\n",
    "        gold = cats[i]['cats']\n",
    "        score = doc.cats[label]\n",
    "        \n",
    "        if label not in gold:\n",
    "            continue\n",
    "        if score >= 0.5 and gold[label] >= 0.5:\n",
    "            tp += 1.0\n",
    "        elif score >= 0.5 and gold[label] < 0.5:\n",
    "            fp += 1.0\n",
    "        elif score < 0.5 and gold[label] < 0.5:\n",
    "            tn += 1\n",
    "        elif score < 0.5 and gold[label] >= 0.5:\n",
    "            fn += 1\n",
    "    \n",
    "    precision = tp / (tp + fp)\n",
    "    recall = tp / (tp + fn)\n",
    "    \n",
    "    if (precision + recall) == 0:\n",
    "        f_score = 0.0\n",
    "    else:\n",
    "        f_score = 2 * (precision * recall) / (precision + recall)\n",
    "    \n",
    "    return {\"textcat_p\": precision, \"textcat_r\": recall, \"textcat_f\": f_score}"
   ]
  },
  {
   "cell_type": "markdown",
   "metadata": {},
   "source": [
    "We'll start the training loop for our `textcat` model, using `train_data` for training the model and `test_data` for evaluating its performance."
   ]
  },
  {
   "cell_type": "code",
   "execution_count": null,
   "metadata": {
    "ExecuteTime": {
     "start_time": "2020-02-04T18:49:22.820Z"
    }
   },
   "outputs": [],
   "source": [
    "from spacy.util import minibatch"
   ]
  },
  {
   "cell_type": "code",
   "execution_count": null,
   "metadata": {
    "ExecuteTime": {
     "start_time": "2020-02-04T18:49:22.822Z"
    }
   },
   "outputs": [],
   "source": [
    "%%time\n",
    "\n",
    "with nlp.disable_pipes(*original_pipe_names):\n",
    "    \n",
    "    optimizer = nlp.begin_training()\n",
    "    \n",
    "    print(\"Training the model...\")\n",
    "    print(\"{:^5}\\t{:^5}\\t{:^5}\\t{:^5}\".format(\"LOSS\", \"P\", \"R\", \"F\"))\n",
    "    \n",
    "    for i in range(10):\n",
    "        losses = {}\n",
    "\n",
    "        # batch up the examples using spaCy's minibatch\n",
    "        random.shuffle(train_data)\n",
    "\n",
    "        batches = minibatch(train_data, size=8)\n",
    "\n",
    "        for batch in batches:\n",
    "            texts, cats = zip(*batch)\n",
    "            nlp.update(texts, cats, sgd=optimizer, drop=0.2, losses=losses)\n",
    "\n",
    "        with textcat.model.use_params(optimizer.averages):\n",
    "\n",
    "            # evaluate on the dev data split off in load_data()\n",
    "            test_texts, test_cats = zip(*test_data)\n",
    "            scores = evaluate(nlp.tokenizer, textcat, test_texts, test_cats)\n",
    "\n",
    "        print(\n",
    "            \"{0:.3f}\\t{1:.3f}\\t{2:.3f}\\t{3:.3f}\".format(  # print a simple table\n",
    "                losses[\"textcat\"],\n",
    "                scores[\"textcat_p\"],\n",
    "                scores[\"textcat_r\"],\n",
    "                scores[\"textcat_f\"],\n",
    "                )\n",
    "            )"
   ]
  },
  {
   "cell_type": "markdown",
   "metadata": {},
   "source": [
    "We now have a trained model! Looks like we were starting to overfit on the training data fairly early in the training process, as the model performance on the test data starts going down even as the training loss continues to drop."
   ]
  },
  {
   "cell_type": "markdown",
   "metadata": {},
   "source": [
    "Let's dig in further on the model's performance on our test data. First, we'll use our spaCy pipeline to generate category predictions for every review in our test data."
   ]
  },
  {
   "cell_type": "code",
   "execution_count": null,
   "metadata": {
    "ExecuteTime": {
     "start_time": "2020-02-04T18:49:22.857Z"
    }
   },
   "outputs": [],
   "source": [
    "test_reviews, test_cats = zip(*test_data)"
   ]
  },
  {
   "cell_type": "code",
   "execution_count": null,
   "metadata": {
    "ExecuteTime": {
     "start_time": "2020-02-04T18:49:22.860Z"
    }
   },
   "outputs": [],
   "source": [
    "test_docs = [\n",
    "    nlp(review, disable=original_pipe_names)\n",
    "    for review in test_reviews\n",
    "    ]"
   ]
  },
  {
   "cell_type": "code",
   "execution_count": null,
   "metadata": {
    "ExecuteTime": {
     "start_time": "2020-02-04T18:49:22.862Z"
    }
   },
   "outputs": [],
   "source": [
    "test_docs[0]"
   ]
  },
  {
   "cell_type": "code",
   "execution_count": null,
   "metadata": {
    "ExecuteTime": {
     "start_time": "2020-02-04T18:49:22.865Z"
    }
   },
   "outputs": [],
   "source": [
    "print('Model predictions:', test_docs[0].cats)"
   ]
  },
  {
   "cell_type": "code",
   "execution_count": null,
   "metadata": {
    "ExecuteTime": {
     "start_time": "2020-02-04T18:49:22.867Z"
    }
   },
   "outputs": [],
   "source": [
    "print('True labels:', test_cats[0])"
   ]
  },
  {
   "cell_type": "markdown",
   "metadata": {},
   "source": [
    "Next, we'll unpack the `textcat` predictions and labels into a `DataFrame`, which is a little more conductive for further data analysis."
   ]
  },
  {
   "cell_type": "code",
   "execution_count": null,
   "metadata": {
    "ExecuteTime": {
     "start_time": "2020-02-04T18:49:22.871Z"
    }
   },
   "outputs": [],
   "source": [
    "test_funny_labels = [cats['cats']['FUNNY'] for cats in test_cats]\n",
    "test_unfunny_labels = [cats['cats']['UNFUNNY'] for cats in test_cats]\n",
    "\n",
    "test_funny_preds = [doc.cats['FUNNY'] for doc in test_docs]\n",
    "test_unfunny_preds = [doc.cats['UNFUNNY'] for doc in test_docs]\n",
    "\n",
    "test_df = pd.DataFrame(\n",
    "    zip(\n",
    "        test_reviews,\n",
    "        test_funny_labels,\n",
    "        test_funny_preds,\n",
    "        test_unfunny_labels,\n",
    "        test_unfunny_preds\n",
    "        ),\n",
    "    columns = [\n",
    "        'text',\n",
    "        'FUNNY',\n",
    "        'FUNNY_pred',\n",
    "        'UNFUNNY',\n",
    "        'UNFUNNY_pred'\n",
    "        ]\n",
    "    )\n",
    "\n",
    "test_df"
   ]
  },
  {
   "cell_type": "markdown",
   "metadata": {},
   "source": [
    "Let's look at some descriptive statistics about the test data."
   ]
  },
  {
   "cell_type": "code",
   "execution_count": null,
   "metadata": {
    "ExecuteTime": {
     "start_time": "2020-02-04T18:49:22.874Z"
    }
   },
   "outputs": [],
   "source": [
    "test_df.describe()"
   ]
  },
  {
   "cell_type": "markdown",
   "metadata": {},
   "source": [
    "Next, we'll break out the test reviews by whether they were really labeled as funny."
   ]
  },
  {
   "cell_type": "code",
   "execution_count": null,
   "metadata": {
    "ExecuteTime": {
     "start_time": "2020-02-04T18:49:22.877Z"
    }
   },
   "outputs": [],
   "source": [
    "grouped = (\n",
    "    test_df\n",
    "    .groupby('FUNNY')\n",
    "    ['FUNNY_pred']\n",
    "    .describe()\n",
    "    .transpose()\n",
    "    )\n",
    "\n",
    "grouped"
   ]
  },
  {
   "cell_type": "markdown",
   "metadata": {},
   "source": [
    "### Visualizing Model Predictions with Bokeh"
   ]
  },
  {
   "cell_type": "markdown",
   "metadata": {},
   "source": [
    "We'll create a stacked histogram showing the distribution of both the funny reviews and the unfunny reviews, based on the funny prediction score the model assigned to the reviews. \n",
    "\n",
    "First, we'll prepare the data for visualization."
   ]
  },
  {
   "cell_type": "code",
   "execution_count": null,
   "metadata": {
    "ExecuteTime": {
     "start_time": "2020-02-04T18:49:22.882Z"
    }
   },
   "outputs": [],
   "source": [
    "funny_df = test_df[test_df['FUNNY'] == 1]\n",
    "unfunny_df = test_df[test_df['UNFUNNY'] == 1]\n",
    "\n",
    "funny_hist = (\n",
    "    funny_df['FUNNY_pred']\n",
    "    .apply(lambda x: int(round(x * 10, 0)))\n",
    "    .value_counts()\n",
    "    .sort_index()\n",
    "    )\n",
    "\n",
    "unfunny_hist = (\n",
    "    unfunny_df['FUNNY_pred']\n",
    "    .apply(lambda x: int(round(x * 10, 0)))\n",
    "    .value_counts()\n",
    "    .sort_index()\n",
    "    )\n",
    "\n",
    "\n",
    "funny_score_table = (\n",
    "    pd.concat(\n",
    "        [funny_hist, unfunny_hist],\n",
    "        axis=1\n",
    "        )\n",
    "    .fillna(0)\n",
    "    )\n",
    "\n",
    "funny_score_table.columns = ['FUNNY_count', 'UNFUNNY_count']\n",
    "\n",
    "funny_score_table[\"TOTAL_count\"] = (\n",
    "    funny_score_table\n",
    "    .apply(pd.np.sum, axis=1)\n",
    "    )\n",
    "\n",
    "funny_score_table = pd.concat([\n",
    "    pd.Series(funny_score_table.index, name='funny_pred') / 10,\n",
    "    funny_score_table\n",
    "    ],\n",
    "    axis = 1\n",
    "    )\n",
    "\n",
    "funny_score_table.loc[-1] = [0, 0, 0, 0]\n",
    "funny_score_table.loc[11] = [1, 0, 0, 0]\n",
    "\n",
    "funny_score_table = funny_score_table.sort_index()\n",
    "\n",
    "funny_score_table"
   ]
  },
  {
   "cell_type": "markdown",
   "metadata": {},
   "source": [
    "Finally, we'll plot our histograms with Bokeh."
   ]
  },
  {
   "cell_type": "code",
   "execution_count": null,
   "metadata": {
    "ExecuteTime": {
     "start_time": "2020-02-04T18:49:22.885Z"
    }
   },
   "outputs": [],
   "source": [
    "from bokeh.plotting import figure, output_notebook, show\n",
    "\n",
    "output_notebook()"
   ]
  },
  {
   "cell_type": "code",
   "execution_count": null,
   "metadata": {
    "ExecuteTime": {
     "start_time": "2020-02-04T18:49:22.887Z"
    }
   },
   "outputs": [],
   "source": [
    "# create the plot and configure the\n",
    "# dimensions, color, and tools\n",
    "funny_score_distribution = figure(\n",
    "    width=850,\n",
    "    height=600,\n",
    "    background_fill_color=\"#F7F7F7\",\n",
    "    tools=\"pan,box_zoom,wheel_zoom,crosshair,save,reset\"\n",
    "    )\n",
    "\n",
    "# add a title and axis labels\n",
    "funny_score_distribution.title.text = \"Funny Label by Funny Prediction Score\"\n",
    "funny_score_distribution.xaxis.axis_label = \"Funny Prediction Score\"\n",
    "funny_score_distribution.yaxis.axis_label = \"Count of Reviews\"\n",
    "\n",
    "# draw the histogram of funny reviews as a golden \"patch\"\n",
    "funny_score_distribution.patch(\n",
    "    funny_score_table[\"funny_pred\"],\n",
    "    funny_score_table[\"FUNNY_count\"],\n",
    "    fill_color=\"GoldenRod\",\n",
    "    fill_alpha=0.8,\n",
    "    line_color=\"wheat\",\n",
    "    line_alpha=0.8,\n",
    "    legend=\"Funny Reviews\",\n",
    "    );\n",
    "\n",
    "# draw the histogram of unfunny reviews as a gray \"patch\"\n",
    "# stacked on top of the existing funny reviews patch\n",
    "funny_score_distribution.patch(\n",
    "    pd.concat([\n",
    "        funny_score_table['funny_pred'],\n",
    "        funny_score_table['funny_pred'].sort_index(ascending=False)\n",
    "        ]),\n",
    "    pd.concat([\n",
    "        funny_score_table['FUNNY_count'],\n",
    "        funny_score_table['TOTAL_count'].sort_index(ascending=False)\n",
    "        ]),\n",
    "    fill_color=\"#555555\",\n",
    "    fill_alpha=0.6,\n",
    "    line_color=None,\n",
    "    legend=\"Unfunny Reviews\",\n",
    "    );\n",
    "\n",
    "# engage!\n",
    "show(funny_score_distribution);"
   ]
  },
  {
   "cell_type": "markdown",
   "metadata": {},
   "source": [
    "## Transformer Models with spaCy Pytorch Transformers"
   ]
  },
  {
   "cell_type": "code",
   "execution_count": null,
   "metadata": {
    "ExecuteTime": {
     "start_time": "2020-02-04T18:49:22.891Z"
    }
   },
   "outputs": [],
   "source": [
    "import numpy as np"
   ]
  },
  {
   "cell_type": "markdown",
   "metadata": {},
   "source": [
    "Sentence 1:\n",
    "\n",
    ">The crab cakes were delicious, the white sangria hit the spot, and the sea `bass` dinner entree was wonderful!\n",
    "\n",
    "Sentence 2:\n",
    "\n",
    ">The music had a lot of `bass` to it and the smoke machine went off periodically, which actually felt refreshing lol.\n",
    "\n",
    "Sentence 3:\n",
    "\n",
    ">Fresh Mediterranean sea `bass` grilled lightly and served with a simple coating in EVOO, fresh lemon to squeeze, and herbs."
   ]
  },
  {
   "cell_type": "code",
   "execution_count": null,
   "metadata": {
    "ExecuteTime": {
     "start_time": "2020-02-04T18:49:22.894Z"
    }
   },
   "outputs": [],
   "source": [
    "bass_1 = (\n",
    "    'The crab cakes were delicious, the white sangria hit the spot, '\n",
    "    'and the sea bass dinner entree was wonderful!'\n",
    "    )\n",
    "\n",
    "bass_2 = (\n",
    "    'The music had a lot of bass to it and the smoke machine went off periodically, '\n",
    "    'which actually felt refreshing lol.'\n",
    "    )\n",
    "\n",
    "bass_3 = (\n",
    "    'Fresh Mediterranean sea bass grilled lightly and served '\n",
    "    'with a simple coating in EVOO, fresh lemon to squeeze, and herbs.'\n",
    "    )"
   ]
  },
  {
   "cell_type": "code",
   "execution_count": null,
   "metadata": {
    "ExecuteTime": {
     "start_time": "2020-02-04T18:49:22.897Z"
    }
   },
   "outputs": [],
   "source": [
    "bass_doc_1 = nlp(bass_1)\n",
    "bass_doc_2 = nlp(bass_2)\n",
    "bass_doc_3 = nlp(bass_3)\n",
    "\n",
    "bass_token_1 = bass_doc_1[16]\n",
    "bass_token_2 = bass_doc_2[6]\n",
    "bass_token_3 = bass_doc_3[3]\n",
    "\n",
    "print(bass_token_1)\n",
    "print(bass_token_2)\n",
    "print(bass_token_3)"
   ]
  },
  {
   "cell_type": "code",
   "execution_count": null,
   "metadata": {
    "ExecuteTime": {
     "start_time": "2020-02-04T18:49:22.899Z"
    }
   },
   "outputs": [],
   "source": [
    "print(bass_token_1.similarity(bass_token_2))\n",
    "print(bass_token_1.similarity(bass_token_3))\n",
    "print(bass_token_2.similarity(bass_token_3))"
   ]
  },
  {
   "cell_type": "code",
   "execution_count": null,
   "metadata": {
    "ExecuteTime": {
     "start_time": "2020-02-04T18:49:22.902Z"
    }
   },
   "outputs": [],
   "source": [
    "np.allclose(bass_token_1.vector, bass_token_2.vector)"
   ]
  },
  {
   "cell_type": "code",
   "execution_count": null,
   "metadata": {
    "ExecuteTime": {
     "start_time": "2020-02-04T18:49:22.904Z"
    }
   },
   "outputs": [],
   "source": [
    "pd.DataFrame(\n",
    "    zip(bass_token_1.vector, bass_token_2.vector),\n",
    "    columns=['bass (fish)', 'bass (music)']\n",
    "    )"
   ]
  },
  {
   "cell_type": "markdown",
   "metadata": {},
   "source": [
    "### Contextual Word Vectors with BERT"
   ]
  },
  {
   "cell_type": "code",
   "execution_count": null,
   "metadata": {
    "ExecuteTime": {
     "start_time": "2020-02-04T18:49:22.908Z"
    }
   },
   "outputs": [],
   "source": [
    "bert_nlp = spacy.load('en_pytt_bertbaseuncased_lg')"
   ]
  },
  {
   "cell_type": "code",
   "execution_count": null,
   "metadata": {
    "ExecuteTime": {
     "start_time": "2020-02-04T18:49:22.910Z"
    }
   },
   "outputs": [],
   "source": [
    "bert_bass_doc_1 = bert_nlp(bass_1)\n",
    "bert_bass_doc_2 = bert_nlp(bass_2)\n",
    "bert_bass_doc_3 = bert_nlp(bass_3)\n",
    "\n",
    "bert_bass_token_1 = bert_bass_doc_1[16]\n",
    "bert_bass_token_2 = bert_bass_doc_2[6]\n",
    "bert_bass_token_3 = bert_bass_doc_3[3]\n",
    "\n",
    "print(bert_bass_token_1)\n",
    "print(bert_bass_token_2)\n",
    "print(bert_bass_token_3)"
   ]
  },
  {
   "cell_type": "code",
   "execution_count": null,
   "metadata": {
    "ExecuteTime": {
     "start_time": "2020-02-04T18:49:22.913Z"
    }
   },
   "outputs": [],
   "source": [
    "print(bass_1)\n",
    "print('')\n",
    "print(bass_2)\n",
    "print('')\n",
    "print('Similarity:', bert_bass_token_1.similarity(bert_bass_token_2))"
   ]
  },
  {
   "cell_type": "code",
   "execution_count": null,
   "metadata": {
    "ExecuteTime": {
     "start_time": "2020-02-04T18:49:22.915Z"
    }
   },
   "outputs": [],
   "source": [
    "print(bass_1)\n",
    "print('')\n",
    "print(bass_3)\n",
    "print('')\n",
    "print('Similarity:', bert_bass_token_1.similarity(bert_bass_token_3))"
   ]
  },
  {
   "cell_type": "code",
   "execution_count": null,
   "metadata": {
    "ExecuteTime": {
     "start_time": "2020-02-04T18:49:22.918Z"
    }
   },
   "outputs": [],
   "source": [
    "print(bass_2)\n",
    "print('')\n",
    "print(bass_3)\n",
    "print('')\n",
    "print('Similarity:', bert_bass_token_2.similarity(bert_bass_token_3))"
   ]
  },
  {
   "cell_type": "code",
   "execution_count": null,
   "metadata": {
    "ExecuteTime": {
     "start_time": "2020-02-04T18:49:22.921Z"
    }
   },
   "outputs": [],
   "source": [
    "np.allclose(bert_bass_token_1.vector, bert_bass_token_2.vector)"
   ]
  },
  {
   "cell_type": "code",
   "execution_count": null,
   "metadata": {
    "ExecuteTime": {
     "start_time": "2020-02-04T18:49:22.924Z"
    }
   },
   "outputs": [],
   "source": [
    "pd.DataFrame(\n",
    "    zip(bert_bass_token_1.vector, bert_bass_token_2.vector),\n",
    "    columns=['bass (fish)', 'bass (music)']\n",
    "    )"
   ]
  },
  {
   "cell_type": "code",
   "execution_count": null,
   "metadata": {
    "ExecuteTime": {
     "start_time": "2020-02-04T18:49:22.926Z"
    }
   },
   "outputs": [],
   "source": [
    "print(bert_bass_doc_1._.pytt_word_pieces_)"
   ]
  },
  {
   "cell_type": "code",
   "execution_count": null,
   "metadata": {
    "ExecuteTime": {
     "start_time": "2020-02-04T18:49:22.929Z"
    }
   },
   "outputs": [],
   "source": [
    "print(list(bert_bass_doc_1))"
   ]
  },
  {
   "cell_type": "code",
   "execution_count": null,
   "metadata": {
    "ExecuteTime": {
     "start_time": "2020-02-04T18:49:22.932Z"
    }
   },
   "outputs": [],
   "source": [
    "print(bert_bass_doc_1._.pytt_alignment)"
   ]
  },
  {
   "cell_type": "code",
   "execution_count": null,
   "metadata": {
    "ExecuteTime": {
     "start_time": "2020-02-04T18:49:22.954Z"
    }
   },
   "outputs": [],
   "source": [
    "i = 8\n",
    "\n",
    "print(bert_bass_doc_1[i])"
   ]
  },
  {
   "cell_type": "code",
   "execution_count": null,
   "metadata": {
    "ExecuteTime": {
     "start_time": "2020-02-04T18:49:22.956Z"
    }
   },
   "outputs": [],
   "source": [
    "bert_bass_doc_1._.pytt_alignment[i]"
   ]
  },
  {
   "cell_type": "code",
   "execution_count": null,
   "metadata": {
    "ExecuteTime": {
     "start_time": "2020-02-04T18:49:22.959Z"
    }
   },
   "outputs": [],
   "source": [
    "for j in bert_bass_doc_1._.pytt_alignment[i]:\n",
    "    print(bert_bass_doc_1._.pytt_word_pieces_[j])"
   ]
  },
  {
   "cell_type": "markdown",
   "metadata": {},
   "source": [
    "## Conclusion"
   ]
  },
  {
   "cell_type": "markdown",
   "metadata": {},
   "source": [
    "Whew! Let's round up the major components that we've seen:\n",
    "\n",
    "1. Text processing with **spaCy**\n",
    "1. Automated **phrase modeling**\n",
    "1. Topic modeling with **LDA** $\\ \\longrightarrow\\ $ visualization with **pyLDAvis**\n",
    "1. Word vector modeling with **word2vec** $\\ \\longrightarrow\\ $ visualization with **t-SNE**\n",
    "1. Text categorization with spaCy's **textcat** model.\n",
    "1. Contextual word vectors with BERT via spaCy PyTorch Transformers.\n",
    "\n",
    "#### Why use these models?\n",
    "Dense vector representations for text like LDA, word2vec, and BERT can greatly improve performance for a number of common, text-heavy problems like:\n",
    "- Text classification\n",
    "- Search\n",
    "- Recommendations\n",
    "- Question answering\n",
    "\n",
    "...and more generally are a powerful way machines can help humans make sense of what's in a giant pile of text. They're also often useful as a pre-processing step for many other downstream machine learning applications."
   ]
  },
  {
   "cell_type": "markdown",
   "metadata": {},
   "source": [
    "## AI Engineering @ S&P Global &mdash; *we are hiring!*"
   ]
  }
 ],
 "metadata": {
  "kernelspec": {
   "display_name": "Python (nlp-19)",
   "language": "python",
   "name": "nlp-19"
  },
  "language_info": {
   "codemirror_mode": {
    "name": "ipython",
    "version": 3
   },
   "file_extension": ".py",
   "mimetype": "text/x-python",
   "name": "python",
   "nbconvert_exporter": "python",
   "pygments_lexer": "ipython3",
   "version": "3.7.4"
  },
  "varInspector": {
   "cols": {
    "lenName": 16,
    "lenType": 16,
    "lenVar": 40
   },
   "kernels_config": {
    "python": {
     "delete_cmd_postfix": "",
     "delete_cmd_prefix": "del ",
     "library": "var_list.py",
     "varRefreshCmd": "print(var_dic_list())"
    },
    "r": {
     "delete_cmd_postfix": ") ",
     "delete_cmd_prefix": "rm(",
     "library": "var_list.r",
     "varRefreshCmd": "cat(var_dic_list()) "
    }
   },
   "types_to_exclude": [
    "module",
    "function",
    "builtin_function_or_method",
    "instance",
    "_Feature"
   ],
   "window_display": false
  }
 },
 "nbformat": 4,
 "nbformat_minor": 4
}
